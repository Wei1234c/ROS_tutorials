{
 "cells": [
  {
   "cell_type": "markdown",
   "metadata": {},
   "source": [
    "# 7. Understanding ROS Services and Parameters\n",
    "http://wiki.ros.org/ROS/Tutorials/UnderstandingServicesParams"
   ]
  },
  {
   "cell_type": "code",
   "execution_count": 1,
   "metadata": {},
   "outputs": [
    {
     "data": {
      "text/plain": [
       "'/home/pi/notebooks/Tutorials/1_Core_ROS_Tutorials'"
      ]
     },
     "execution_count": 1,
     "metadata": {},
     "output_type": "execute_result"
    }
   ],
   "source": [
    "import os\n",
    "import sys\n",
    "\n",
    "home_dir = os.getcwd()\n",
    "home_dir"
   ]
  },
  {
   "cell_type": "code",
   "execution_count": 2,
   "metadata": {},
   "outputs": [],
   "source": [
    "# get ROS related environment variables\n",
    "\n",
    "envs = !printenv | grep ROS \n",
    "ROS_ENVs = {}\n",
    "\n",
    "for env in envs:\n",
    "    env = env.split('=')\n",
    "    [k, v] = env\n",
    "    ROS_ENVs[k] = v\n",
    "\n",
    "ROS_ENVs['LD_LIBRARY_PATH'] = '/opt/ros/kinetic/lib'\n",
    "ROS_ENVs['PKG_CONFIG_PATH'] = '/opt/ros/kinetic/lib/pkgconfig'\n",
    "ROS_ENVs['CMAKE_PREFIX_PATH'] = '/opt/ros/kinetic'  "
   ]
  },
  {
   "cell_type": "markdown",
   "metadata": {},
   "source": [
    "## Setup\n",
    "### roscore\n",
    "Let's start by making sure that we have roscore running:  \n",
    "\n",
    "open a new terminal window, run a ROS Docker container with:\n",
    "```\n",
    "docker run -it --rm \\\n",
    "\t--net=host \\\n",
    "\t-v /tmp/.X11-unix:/tmp/.X11-unix \\\n",
    "\t-e DISPLAY=unix$DISPLAY \\\n",
    "\t--cap-add=SYS_ADMIN \\\n",
    "\t--device /dev/snd \\\n",
    "\t--device /dev/dri \\\n",
    "\t-v /dev/shm:/dev/shm \\\n",
    "\t-p 11311:11311 \\\n",
    "\twei1234c/ros_ubuntu_amd64\n",
    "```\n",
    "\n",
    "in the container, run roscore:\n",
    "```\n",
    "$ roscore\n",
    "```"
   ]
  },
  {
   "cell_type": "markdown",
   "metadata": {},
   "source": [
    "### turtlesim\n",
    "For this tutorial we will also use turtlesim.  \n",
    "open a new terminal window, run a ROS Docker container with:\n",
    "```\n",
    "docker run -it --rm \\\n",
    "\t--net=host \\\n",
    "\t-v /tmp/.X11-unix:/tmp/.X11-unix \\\n",
    "\t-e DISPLAY=unix$DISPLAY \\\n",
    "\t--cap-add=SYS_ADMIN \\\n",
    "\t--device /dev/snd \\\n",
    "\t--device /dev/dri \\\n",
    "\t-v /dev/shm:/dev/shm \\\n",
    "\t-p 11311:11311 \\\n",
    "\twei1234c/ros_ubuntu_amd64\n",
    "```\n",
    "\n",
    "in the container, run:\n",
    "```\n",
    "$ rosrun turtlesim turtlesim_node\n",
    "```"
   ]
  },
  {
   "cell_type": "markdown",
   "metadata": {},
   "source": [
    "### turtle keyboard teleoperation\n",
    "We'll also need something to drive the turtle around with.  \n",
    "\n",
    "open a new terminal window, run a ROS Docker container with:\n",
    "```\n",
    "docker run -it --rm \\\n",
    "\t--net=host \\\n",
    "\t-v /tmp/.X11-unix:/tmp/.X11-unix \\\n",
    "\t-e DISPLAY=unix$DISPLAY \\\n",
    "\t--cap-add=SYS_ADMIN \\\n",
    "\t--device /dev/snd \\\n",
    "\t--device /dev/dri \\\n",
    "\t-v /dev/shm:/dev/shm \\\n",
    "\t-p 11311:11311 \\\n",
    "\twei1234c/ros_ubuntu_amd64\n",
    "```\n",
    "\n",
    "in the container, run:\n",
    "```\n",
    "$ rosrun turtlesim turtle_teleop_key\n",
    "```\n",
    "\n",
    "Now you can use the arrow keys of the keyboard to drive the turtle around. If you can not drive the turtle, **select the terminal window of the turtle_teleop_key** to make sure that the keys that you type are recorded."
   ]
  },
  {
   "cell_type": "markdown",
   "metadata": {},
   "source": [
    "## ROS Services\n",
    "Services are another way that nodes can communicate with each other. Services allow nodes to send a **request** and receive a **response**.\n",
    "\n",
    "## Using rosservice\n",
    "rosservice can easily attach to ROS's client/service framework with services. rosservice has many commands that can be used on topics, as shown below:\n",
    "\n",
    "Usage:\n",
    "```\n",
    "rosservice list         print information about active services\n",
    "rosservice call         call the service with the provided args\n",
    "rosservice type         print service type\n",
    "rosservice find         find services by service type\n",
    "rosservice uri          print service ROSRPC uri\n",
    "rosservice list\n",
    "```"
   ]
  },
  {
   "cell_type": "markdown",
   "metadata": {},
   "source": [
    "### rosservice list\n",
    "The list command shows us that the turtlesim node provides nine services: reset, clear, spawn, kill, turtle1/set_pen, /turtle1/teleport_absolute, /turtle1/teleport_relative, turtlesim/get_loggers, and turtlesim/set_logger_level. There are also two services related to the separate rosout node: /rosout/get_loggers and /rosout/set_logger_level."
   ]
  },
  {
   "cell_type": "code",
   "execution_count": 4,
   "metadata": {},
   "outputs": [
    {
     "name": "stdout",
     "output_type": "stream",
     "text": [
      "/clear\r\n",
      "/kill\r\n",
      "/reset\r\n",
      "/rosout/get_loggers\r\n",
      "/rosout/set_logger_level\r\n",
      "/spawn\r\n",
      "/turtle1/set_pen\r\n",
      "/turtle1/teleport_absolute\r\n",
      "/turtle1/teleport_relative\r\n",
      "/turtlesim/get_loggers\r\n",
      "/turtlesim/set_logger_level\r\n"
     ]
    }
   ],
   "source": [
    "!rosservice list"
   ]
  },
  {
   "cell_type": "markdown",
   "metadata": {},
   "source": [
    "### rosservice type\n",
    "Usage:\n",
    "```\n",
    "rosservice type [service]\n",
    "```\n",
    "Let's find out what type the clear service is:"
   ]
  },
  {
   "cell_type": "code",
   "execution_count": 5,
   "metadata": {},
   "outputs": [
    {
     "name": "stdout",
     "output_type": "stream",
     "text": [
      "std_srvs/Empty\r\n"
     ]
    }
   ],
   "source": [
    "!rosservice type /clear"
   ]
  },
  {
   "cell_type": "markdown",
   "metadata": {},
   "source": [
    "This service is empty, this means when the service call is made it takes no arguments (i.e. it sends no data when making a request and receives no data when receiving a response). Let's call this service using rosservice call:"
   ]
  },
  {
   "cell_type": "markdown",
   "metadata": {},
   "source": [
    "### rosservice call\n",
    "Usage:\n",
    "```\n",
    "rosservice call [service] [args]\n",
    "```\n",
    "Here we'll call with no arguments because the service is of type empty:\n",
    "\n",
    " it clears the background of the turtlesim_node."
   ]
  },
  {
   "cell_type": "code",
   "execution_count": 8,
   "metadata": {},
   "outputs": [
    {
     "name": "stdout",
     "output_type": "stream",
     "text": [
      "\r\n"
     ]
    }
   ],
   "source": [
    "!rosservice call /clear"
   ]
  },
  {
   "cell_type": "markdown",
   "metadata": {},
   "source": [
    "Let's look at the case where the service has arguments by looking at the information for the service spawn:"
   ]
  },
  {
   "cell_type": "code",
   "execution_count": 10,
   "metadata": {},
   "outputs": [
    {
     "name": "stdout",
     "output_type": "stream",
     "text": [
      "turtlesim/Spawn\r\n"
     ]
    }
   ],
   "source": [
    "!rosservice type /spawn"
   ]
  },
  {
   "cell_type": "code",
   "execution_count": 11,
   "metadata": {},
   "outputs": [
    {
     "name": "stdout",
     "output_type": "stream",
     "text": [
      "float32 x\r\n",
      "float32 y\r\n",
      "float32 theta\r\n",
      "string name\r\n",
      "---\r\n",
      "string name\r\n",
      "\r\n"
     ]
    }
   ],
   "source": [
    "!rosservice type /spawn | rossrv show"
   ]
  },
  {
   "cell_type": "markdown",
   "metadata": {},
   "source": [
    "This service lets us spawn a new turtle at a given location and orientation. The name field is optional, so let's not give our new turtle a name and let turtlesim create one for us.  \n",
    "\n",
    "The service call returns with the name of the newly created turtle"
   ]
  },
  {
   "cell_type": "code",
   "execution_count": 15,
   "metadata": {},
   "outputs": [
    {
     "name": "stdout",
     "output_type": "stream",
     "text": [
      "name: \"turtle2\"\r\n"
     ]
    }
   ],
   "source": [
    "!rosservice call /spawn 2 2 0.2 \"\""
   ]
  },
  {
   "cell_type": "markdown",
   "metadata": {},
   "source": [
    "## Using rosparam\n",
    "rosparam allows you to store and manipulate data on the ROS **Parameter Server**. The Parameter Server can store integers, floats, boolean, dictionaries, and lists. rosparam uses the YAML markup language for syntax. In simple cases, YAML looks very natural: 1 is an integer, 1.0 is a float, one is a string, true is a boolean, [1, 2, 3] is a list of integers, and {a: b, c: d} is a dictionary. rosparam has many commands that can be used on parameters, as shown below:\n",
    "\n",
    "Usage:\n",
    "```\n",
    "rosparam set            set parameter\n",
    "rosparam get            get parameter\n",
    "rosparam load           load parameters from file\n",
    "rosparam dump           dump parameters to file\n",
    "rosparam delete         delete parameter\n",
    "rosparam list           list parameter names\n",
    "Let's look at what parameters are currently on the param server:\n",
    "```\n",
    "### rosparam list  \n",
    "Here we can see that the turtlesim node has three parameters on the param server for background color:"
   ]
  },
  {
   "cell_type": "code",
   "execution_count": 16,
   "metadata": {},
   "outputs": [
    {
     "name": "stdout",
     "output_type": "stream",
     "text": [
      "/background_b\r\n",
      "/background_g\r\n",
      "/background_r\r\n",
      "/rosdistro\r\n",
      "/roslaunch/uris/host_wei_lenovo_legion__41549\r\n",
      "/rosversion\r\n",
      "/run_id\r\n"
     ]
    }
   ],
   "source": [
    "!rosparam list"
   ]
  },
  {
   "cell_type": "markdown",
   "metadata": {},
   "source": [
    "### rosparam set and rosparam get\n",
    "Usage:\n",
    "```\n",
    "rosparam set [param_name]\n",
    "rosparam get [param_name]\n",
    "```"
   ]
  },
  {
   "cell_type": "code",
   "execution_count": 17,
   "metadata": {},
   "outputs": [
    {
     "name": "stdout",
     "output_type": "stream",
     "text": [
      "69\r\n"
     ]
    }
   ],
   "source": [
    "!rosparam get /background_r"
   ]
  },
  {
   "cell_type": "code",
   "execution_count": 18,
   "metadata": {},
   "outputs": [],
   "source": [
    "!rosparam set /background_r 150"
   ]
  },
  {
   "cell_type": "markdown",
   "metadata": {},
   "source": [
    "This changes the parameter value, now we have to call the clear service for the parameter change to take effect:"
   ]
  },
  {
   "cell_type": "code",
   "execution_count": 19,
   "metadata": {},
   "outputs": [
    {
     "name": "stdout",
     "output_type": "stream",
     "text": [
      "\r\n"
     ]
    }
   ],
   "source": [
    "!rosservice call /clear"
   ]
  },
  {
   "cell_type": "markdown",
   "metadata": {},
   "source": [
    "Now let's look at the values of other parameters on the param server. Let's get the value of the green background channel:"
   ]
  },
  {
   "cell_type": "code",
   "execution_count": 21,
   "metadata": {},
   "outputs": [
    {
     "name": "stdout",
     "output_type": "stream",
     "text": [
      "86\r\n"
     ]
    }
   ],
   "source": [
    "!rosparam get /background_g"
   ]
  },
  {
   "cell_type": "markdown",
   "metadata": {},
   "source": [
    "We can also use rosparam get / to show us the contents of the entire Parameter Server."
   ]
  },
  {
   "cell_type": "code",
   "execution_count": 22,
   "metadata": {},
   "outputs": [
    {
     "name": "stdout",
     "output_type": "stream",
     "text": [
      "background_b: 255\r\n",
      "background_g: 86\r\n",
      "background_r: 150\r\n",
      "rosdistro: 'kinetic\r\n",
      "\r\n",
      "  '\r\n",
      "roslaunch:\r\n",
      "  uris: {host_wei_lenovo_legion__41549: 'http://wei-Lenovo-Legion:41549/'}\r\n",
      "rosversion: '1.12.12\r\n",
      "\r\n",
      "  '\r\n",
      "run_id: a01a9306-233f-11e8-b375-0242d121c5a4\r\n",
      "\r\n"
     ]
    }
   ],
   "source": [
    "!rosparam get /"
   ]
  },
  {
   "cell_type": "markdown",
   "metadata": {},
   "source": [
    "You may wish to store this in a file so that you can reload it at another time. This is easy using rosparam:\n",
    "\n",
    "### rosparam dump and rosparam load\n",
    "Usage:\n",
    "```\n",
    "rosparam dump [file_name] [namespace]\n",
    "rosparam load [file_name] [namespace]\n",
    "```\n",
    "Here we write all the parameters to the file params.yaml"
   ]
  },
  {
   "cell_type": "code",
   "execution_count": 23,
   "metadata": {},
   "outputs": [],
   "source": [
    "!rosparam dump params.yaml"
   ]
  },
  {
   "cell_type": "code",
   "execution_count": 24,
   "metadata": {},
   "outputs": [
    {
     "name": "stdout",
     "output_type": "stream",
     "text": [
      "background_b: 255\r\n",
      "background_g: 86\r\n",
      "background_r: 150\r\n",
      "rosdistro: 'kinetic\r\n",
      "\r\n",
      "  '\r\n",
      "roslaunch:\r\n",
      "  uris: {host_wei_lenovo_legion__41549: 'http://wei-Lenovo-Legion:41549/'}\r\n",
      "rosversion: '1.12.12\r\n",
      "\r\n",
      "  '\r\n",
      "run_id: a01a9306-233f-11e8-b375-0242d121c5a4\r\n"
     ]
    }
   ],
   "source": [
    "cat params.yaml"
   ]
  },
  {
   "cell_type": "markdown",
   "metadata": {},
   "source": [
    "You can even load these yaml files into new namespaces, e.g. copy:"
   ]
  },
  {
   "cell_type": "code",
   "execution_count": 25,
   "metadata": {},
   "outputs": [],
   "source": [
    "!rosparam load params.yaml copy"
   ]
  },
  {
   "cell_type": "code",
   "execution_count": 27,
   "metadata": {},
   "outputs": [
    {
     "name": "stdout",
     "output_type": "stream",
     "text": [
      "background_b: 255\r\n",
      "background_g: 86\r\n",
      "background_r: 150\r\n",
      "rosdistro: 'kinetic\r\n",
      "\r\n",
      "  '\r\n",
      "roslaunch:\r\n",
      "  uris: {host_wei_lenovo_legion__41549: 'http://wei-Lenovo-Legion:41549/'}\r\n",
      "rosversion: '1.12.12\r\n",
      "\r\n",
      "  '\r\n",
      "run_id: a01a9306-233f-11e8-b375-0242d121c5a4\r\n",
      "\r\n"
     ]
    }
   ],
   "source": [
    "!rosparam get /copy"
   ]
  },
  {
   "cell_type": "code",
   "execution_count": 28,
   "metadata": {},
   "outputs": [
    {
     "name": "stdout",
     "output_type": "stream",
     "text": [
      "background_b: 255\r\n",
      "background_g: 86\r\n",
      "background_r: 150\r\n",
      "copy:\r\n",
      "  background_b: 255\r\n",
      "  background_g: 86\r\n",
      "  background_r: 150\r\n",
      "  rosdistro: 'kinetic\r\n",
      "\r\n",
      "    '\r\n",
      "  roslaunch:\r\n",
      "    uris: {host_wei_lenovo_legion__41549: 'http://wei-Lenovo-Legion:41549/'}\r\n",
      "  rosversion: '1.12.12\r\n",
      "\r\n",
      "    '\r\n",
      "  run_id: a01a9306-233f-11e8-b375-0242d121c5a4\r\n",
      "rosdistro: 'kinetic\r\n",
      "\r\n",
      "  '\r\n",
      "roslaunch:\r\n",
      "  uris: {host_wei_lenovo_legion__41549: 'http://wei-Lenovo-Legion:41549/'}\r\n",
      "rosversion: '1.12.12\r\n",
      "\r\n",
      "  '\r\n",
      "run_id: a01a9306-233f-11e8-b375-0242d121c5a4\r\n",
      "\r\n"
     ]
    }
   ],
   "source": [
    "!rosparam get /"
   ]
  }
 ],
 "metadata": {
  "kernelspec": {
   "display_name": "Python 3",
   "language": "python",
   "name": "python3"
  },
  "language_info": {
   "codemirror_mode": {
    "name": "ipython",
    "version": 3
   },
   "file_extension": ".py",
   "mimetype": "text/x-python",
   "name": "python",
   "nbconvert_exporter": "python",
   "pygments_lexer": "ipython3",
   "version": "3.6.4"
  }
 },
 "nbformat": 4,
 "nbformat_minor": 2
}
