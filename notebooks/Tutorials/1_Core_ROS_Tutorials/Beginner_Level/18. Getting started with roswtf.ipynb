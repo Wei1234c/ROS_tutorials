{
 "cells": [
  {
   "cell_type": "markdown",
   "metadata": {},
   "source": [
    "# 18. Getting started with roswtf\n",
    "http://wiki.ros.org/ROS/Tutorials/Getting%20started%20with%20roswtf"
   ]
  },
  {
   "cell_type": "markdown",
   "metadata": {},
   "source": [
    "## setup environment"
   ]
  },
  {
   "cell_type": "code",
   "execution_count": 1,
   "metadata": {},
   "outputs": [
    {
     "data": {
      "text/plain": [
       "'/home/pi/notebooks/Tutorials/1_Core_ROS_Tutorials/Beginner_Level'"
      ]
     },
     "execution_count": 1,
     "metadata": {},
     "output_type": "execute_result"
    }
   ],
   "source": [
    "import os\n",
    "import sys \n",
    "\n",
    "home_dir = os.getcwd()\n",
    "home_dir"
   ]
  },
  {
   "cell_type": "code",
   "execution_count": 2,
   "metadata": {},
   "outputs": [],
   "source": [
    "# get ROS related environment variables\n",
    "envs = !printenv | grep ROS \n",
    "ROS_ENVs = {}\n",
    "\n",
    "for env in envs:\n",
    "    env = env.split('=')\n",
    "    [k, v] = env\n",
    "    ROS_ENVs[k] = v\n",
    "\n",
    "ROS_ENVs['LD_LIBRARY_PATH'] = '/opt/ros/kinetic/lib'\n",
    "ROS_ENVs['PKG_CONFIG_PATH'] = '/opt/ros/kinetic/lib/pkgconfig'\n",
    "ROS_ENVs['CMAKE_PREFIX_PATH'] = '/opt/ros/kinetic'  \n",
    "del ROS_ENVs['PWD']"
   ]
  },
  {
   "cell_type": "code",
   "execution_count": 3,
   "metadata": {},
   "outputs": [],
   "source": [
    "# define workspace path\n",
    "ws_dir = 'catkin_ws'\n",
    "ws_dir_abs = os.path.join(home_dir, ws_dir)\n",
    "src_dir_abs = os.path.join(ws_dir_abs, 'src') \n",
    "\n",
    "# append environment paths\n",
    "def gen_paths(ws_dir_abs, src_dir_abs):\n",
    "    paths = {}\n",
    "    paths['ROS_PACKAGE_PATH'] = src_dir_abs\n",
    "    paths['LD_LIBRARY_PATH'] = os.path.join(ws_dir_abs + 'devel/lib')\n",
    "    paths['ROSLISP_PACKAGE_DIRECTORIES'] = os.path.join(ws_dir_abs + 'devel/share/common-lisp')\n",
    "    paths['PKG_CONFIG_PATH'] = os.path.join(ws_dir_abs + 'devel/lib/pkgconfig')\n",
    "    paths['CMAKE_PREFIX_PATH'] = os.path.join(ws_dir_abs + 'devel/lib')\n",
    "    paths['LD_LIBRARY_PATH'] = os.path.join(ws_dir_abs + 'devel')\n",
    "    return paths\n",
    "\n",
    "def append_paths(ROS_ENVs, paths): \n",
    "    for path in ROS_ENVs.keys():\n",
    "        os.environ[path] = ROS_ENVs[path]\n",
    "        if path in paths.keys():\n",
    "            os.environ[path] = '{}:{}'.format(paths[path], os.environ[path])\n",
    "\n",
    "append_paths(ROS_ENVs, \n",
    "             gen_paths(ws_dir_abs, src_dir_abs))"
   ]
  },
  {
   "cell_type": "code",
   "execution_count": 4,
   "metadata": {},
   "outputs": [
    {
     "data": {
      "text/plain": [
       "'/home/pi/notebooks/Tutorials/1_Core_ROS_Tutorials/Beginner_Level/catkin_ws/src/beginner_tutorials'"
      ]
     },
     "execution_count": 4,
     "metadata": {},
     "output_type": "execute_result"
    }
   ],
   "source": [
    "# define package name and path\n",
    "package_name = 'beginner_tutorials'\n",
    "\n",
    "package_dir_abs = !rospack find {package_name}\n",
    "package_dir_abs = package_dir_abs[0]\n",
    "package_dir_abs"
   ]
  },
  {
   "cell_type": "markdown",
   "metadata": {},
   "source": [
    "## Checking your installation\n",
    "roswtf examines your system to try and find problems. Let's try it out:"
   ]
  },
  {
   "cell_type": "code",
   "execution_count": 6,
   "metadata": {},
   "outputs": [
    {
     "name": "stdout",
     "output_type": "stream",
     "text": [
      "Loaded plugin tf.tfwtf\n",
      "No package or stack in context\n",
      "================================================================================\n",
      "Static checks summary:\n",
      "\n",
      "No errors or warnings\n",
      "================================================================================\n",
      "\n",
      "ROS Master does not appear to be running.\n",
      "Online graph checks will not be run.\n",
      "ROS_MASTER_URI is [http://localhost:11311]\n"
     ]
    }
   ],
   "source": [
    "!roswtf"
   ]
  },
  {
   "cell_type": "markdown",
   "metadata": {},
   "source": [
    "## Trying it online\n",
    "For this next step, we want a Master to be up, so go ahead and start a roscore."
   ]
  },
  {
   "cell_type": "markdown",
   "metadata": {},
   "source": [
    "## Running the roscore\n",
    "Make sure that a roscore is up and running:\n",
    "### roscore\n",
    "Let's start by making sure that we have roscore running:  \n",
    "\n",
    "open a new terminal window, run a ROS Docker container with:\n",
    "```\n",
    "docker run -it --rm \\\n",
    "\t--net=host \\\n",
    "\t-v /tmp/.X11-unix:/tmp/.X11-unix \\\n",
    "\t-e DISPLAY=unix$DISPLAY \\\n",
    "\t--cap-add=SYS_ADMIN \\\n",
    "\t--device /dev/snd \\\n",
    "\t--device /dev/dri \\\n",
    "\t-v /dev/shm:/dev/shm \\\n",
    "\t-p 11311:11311 \\\n",
    "\twei1234c/ros_ubuntu_amd64\n",
    "```\n",
    "\n",
    "in the container, run roscore:\n",
    "```\n",
    "$ roscore\n",
    "```"
   ]
  },
  {
   "cell_type": "markdown",
   "metadata": {},
   "source": [
    "Now, try running the same sequence again:"
   ]
  },
  {
   "cell_type": "code",
   "execution_count": 8,
   "metadata": {},
   "outputs": [
    {
     "name": "stdout",
     "output_type": "stream",
     "text": [
      "Loaded plugin tf.tfwtf\n",
      "No package or stack in context\n",
      "================================================================================\n",
      "Static checks summary:\n",
      "\n",
      "No errors or warnings\n",
      "================================================================================\n",
      "Beginning tests of your ROS graph. These may take awhile...\n",
      "analyzing graph...\n",
      "... done analyzing graph\n",
      "running graph rules...\n",
      "... done running graph rules\n",
      "\n",
      "Online checks summary:\n",
      "\n",
      "Found 1 warning(s).\n",
      "Warnings are things that may be just fine, but are sometimes at fault\n",
      "\n",
      "\u001b[1mWARNING\u001b[0m The following node subscriptions are unconnected:\n",
      " * /rosout:\n",
      "   * /rosout\n",
      "\n",
      "\n"
     ]
    }
   ],
   "source": [
    "!roswtf"
   ]
  },
  {
   "cell_type": "markdown",
   "metadata": {},
   "source": [
    "roswtf did some online examination of your graph now that your roscore is running. Depending on how many ROS nodes you have running, this can take a long time to complete. As you can see, this time it produced a warning:\n",
    "```\n",
    "WARNING The following node subscriptions are unconnected:\n",
    " * /rosout:\n",
    "   * /rosout\n",
    "```   \n",
    "\n",
    "roswtf is warning you that the rosout node is subscribed to a topic that no one is publishing to. In this case, this is expected because nothing else is running, so we can ignore it."
   ]
  },
  {
   "cell_type": "markdown",
   "metadata": {},
   "source": [
    "## Errors\n",
    "roswtf will warn you about things that look suspicious but may be normal in your system. It can also report errors for problems that it knows are wrong.\n",
    "\n",
    "For this part, we are going to set your ROS_PACKAGE_PATH to a bad value. We're also going to stop our roscore to simplify the output that you see.\n",
    "```\n",
    "$ roscd\n",
    "$ ROS_PACKAGE_PATH=bad:$ROS_PACKAGE_PATH roswtf\n",
    "```\n",
    "\n",
    "This time we see:\n",
    "```\n",
    "Stack: ros\n",
    "======================================================\n",
    "Static checks summary:\n",
    "\n",
    "Found 1 error(s).\n",
    "\n",
    "ERROR Not all paths in ROS_PACKAGE_PATH [bad] point to an existing directory: \n",
    " * bad\n",
    "\n",
    "======================================================\n",
    "```\n",
    "\n",
    "Cannot communicate with master, ignoring graph checks\n",
    "As you can see, roswtf now gives us an error about the ROS_PACKAGE_PATH setting.\n",
    "\n",
    "There are many other types of problems that roswtf can find. If you find yourself stumped by a build or communication issue, try running it and seeing if it can point you in the right direction.\n",
    "\n",
    "Now that you know how to use roswtf, take sometime to learn more about how ros.org is structured and navigating the wiki."
   ]
  }
 ],
 "metadata": {
  "kernelspec": {
   "display_name": "Python 3",
   "language": "python",
   "name": "python3"
  },
  "language_info": {
   "codemirror_mode": {
    "name": "ipython",
    "version": 3
   },
   "file_extension": ".py",
   "mimetype": "text/x-python",
   "name": "python",
   "nbconvert_exporter": "python",
   "pygments_lexer": "ipython3",
   "version": "3.6.4"
  }
 },
 "nbformat": 4,
 "nbformat_minor": 2
}
