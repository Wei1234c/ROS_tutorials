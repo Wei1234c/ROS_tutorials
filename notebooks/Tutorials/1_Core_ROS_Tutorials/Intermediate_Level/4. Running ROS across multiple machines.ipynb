{
 "cells": [
  {
   "cell_type": "markdown",
   "metadata": {},
   "source": [
    "# 4. Running ROS across multiple machines\n",
    "http://wiki.ros.org/ROS/Tutorials/MultipleMachines"
   ]
  },
  {
   "cell_type": "markdown",
   "metadata": {},
   "source": [
    "## Overview\n",
    "ROS is designed with distributed computing in mind. A well-written node makes no assumptions about where in the network it runs, allowing computation to be relocated at run-time to match the available resources (there are exceptions; for example, a driver node that communicate with a piece of hardware must run on the machine to which the hardware is physically connected). Deploying a ROS system across multiple machines is easy. Keep the following things in mind:\n",
    "\n",
    "- You only need one master. Select one machine to run it on.\n",
    "- All nodes must be configured to use the same master, via ***ROS_MASTER_URI***.\n",
    "- There must be complete, bi-directional connectivity between all pairs of machines, on all ports (see [ROS/NetworkSetup](http://wiki.ros.org/ROS/NetworkSetup)).\n",
    "- Each machine must advertise itself by a name that all other machines can resolve (see [ROS/NetworkSetup](http://wiki.ros.org/ROS/NetworkSetup))."
   ]
  },
  {
   "cell_type": "markdown",
   "metadata": {},
   "source": [
    "## Talker / listener across two machines\n",
    "Say we want to run a talker / listener system across two machines, named marvin and hal. These are the machines' hostnames, which means that these are the names by which you would address them when. E.g., to login to marvin, you would do:\n",
    "```\n",
    "ssh marvin\n",
    "```\n",
    "Same goes for hal.\n",
    "\n",
    "### Start the master\n",
    "We need to select one machine to run the master; we'll go with hal. The first step is start the master:\n",
    "```\n",
    "ssh hal\n",
    "roscore\n",
    "```\n",
    "\n",
    "### Start the listener\n",
    "Now we'll start a listener on hal, configuring ROS_MASTER_URI so that we use the master that was just started:\n",
    "```\n",
    "ssh hal\n",
    "export ROS_MASTER_URI=http://hal:11311\n",
    "rosrun rospy_tutorials listener.py\n",
    "```\n",
    "\n",
    "### Start the talker\n",
    "Next we'll start a talker on marvin, also configuring ROS_MASTER_URI so that the master on hal is used:\n",
    "```\n",
    "ssh marvin\n",
    "export ROS_MASTER_URI=http://hal:11311\n",
    "rosrun rospy_tutorials talker.py\n",
    "```\n",
    "\n",
    "Voila: you should now see the listener on hal receiving messages from the talker on marvin.\n",
    "\n",
    "Note that the sequence of talker / listener startup doesn't matter; the nodes can be started in any order. The only requirement is that you start the master before starting any nodes.\n",
    "\n",
    "### Variation: connecting in the other direction\n",
    "Now let's try it in the other direction. Leaving the master running on hal, kill the talker and listener, then bring them up on opposite machines.\n",
    "\n",
    "First a listener on marvin:\n",
    "```\n",
    "ssh marvin\n",
    "export ROS_MASTER_URI=http://hal:11311\n",
    "rosrun rospy_tutorials listener.py\n",
    "```\n",
    "\n",
    "Now a talker on hal:\n",
    "```\n",
    "ssh hal\n",
    "export ROS_MASTER_URI=http://hal:11311\n",
    "rosrun rospy_tutorials talker.py\n",
    "```\n",
    "\n",
    "## rostopic\n",
    "For testing you can use the rostopic tool on all machines which are connected to the core.\n",
    "\n",
    "You get a list of all available topics. If you are not connected to a core there is an error.\n",
    "```\n",
    "rostopic list\n",
    "```\n",
    "\n",
    "In wireless networks it is sometimes necessary to check if there is a connection and messages still come. For short tests it is handy to print out the messages.\n",
    "```\n",
    "rostopic echo /topic_name\n",
    "```\n",
    "\n",
    "## When something goes wrong\n",
    "If something in the above sequence didn't work, the cause is likely in your network configuration. See ROS/NetworkSetup and ROS/Troubleshooting for configuration requirements and troubleshooting tips.\n",
    "\n",
    "One common trap is the missing define of ROS_IP on the machine, where talker.py is running.\n",
    "\n",
    "check it with:\n",
    "```\n",
    "echo $ROS_IP\n",
    "```\n",
    "\n",
    "If you dont't define ROS_IP, then rostopic info will show indeed the proper connections of publisher and listener, but rostopic echo will be empty. You will see no TX-traffic on LAN, on machine with talker. First, after defining ROS_IP with proper IP-address ( export ROS_PI=machine_ip_addr) you will see trafic on LAN and the listener.py will show received data."
   ]
  }
 ],
 "metadata": {
  "kernelspec": {
   "display_name": "Python 3",
   "language": "python",
   "name": "python3"
  },
  "language_info": {
   "codemirror_mode": {
    "name": "ipython",
    "version": 3
   },
   "file_extension": ".py",
   "mimetype": "text/x-python",
   "name": "python",
   "nbconvert_exporter": "python",
   "pygments_lexer": "ipython3",
   "version": "3.6.4"
  }
 },
 "nbformat": 4,
 "nbformat_minor": 2
}
