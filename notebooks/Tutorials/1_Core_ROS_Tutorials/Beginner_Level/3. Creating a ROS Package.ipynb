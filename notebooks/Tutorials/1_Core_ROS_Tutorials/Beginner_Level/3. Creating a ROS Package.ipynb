{
 "cells": [
  {
   "cell_type": "markdown",
   "metadata": {},
   "source": [
    "# 3. Creating a ROS Package\n",
    "http://wiki.ros.org/ROS/Tutorials/CreatingPackage"
   ]
  },
  {
   "cell_type": "code",
   "execution_count": 3,
   "metadata": {},
   "outputs": [],
   "source": [
    "import os\n",
    "\n",
    "home_dir = os.getcwd()"
   ]
  },
  {
   "cell_type": "code",
   "execution_count": 2,
   "metadata": {},
   "outputs": [],
   "source": [
    "# get ROS related environment variables\n",
    "\n",
    "envs = !printenv | grep ROS \n",
    "ROS_ENVs = {}\n",
    "\n",
    "for env in envs:\n",
    "    env = env.split('=')\n",
    "    [k, v] = env\n",
    "    ROS_ENVs[k] = v\n",
    "\n",
    "ROS_ENVs['LD_LIBRARY_PATH'] = '/opt/ros/kinetic/lib'\n",
    "ROS_ENVs['PKG_CONFIG_PATH'] = '/opt/ros/kinetic/lib/pkgconfig'\n",
    "ROS_ENVs['CMAKE_PREFIX_PATH'] = '/opt/ros/kinetic'  "
   ]
  },
  {
   "cell_type": "markdown",
   "metadata": {},
   "source": [
    "## 1. a catkin Package\n",
    "```\n",
    "my_package/\n",
    "  CMakeLists.txt\n",
    "  package.xml\n",
    "```"
   ]
  },
  {
   "cell_type": "markdown",
   "metadata": {},
   "source": [
    "## 2. catkin Workspace\n",
    "```\n",
    "workspace_folder/        -- WORKSPACE\n",
    "  src/                   -- SOURCE SPACE\n",
    "    CMakeLists.txt       -- 'Toplevel' CMake file, provided by catkin\n",
    "    package_1/\n",
    "      CMakeLists.txt     -- CMakeLists.txt file for package_1\n",
    "      package.xml        -- Package manifest for package_1\n",
    "    ...\n",
    "    package_n/\n",
    "      CMakeLists.txt     -- CMakeLists.txt file for package_n\n",
    "      package.xml        -- Package manifest for package_n\n",
    "```"
   ]
  },
  {
   "cell_type": "markdown",
   "metadata": {},
   "source": [
    "## 3. Creating a catkin Package"
   ]
  },
  {
   "cell_type": "markdown",
   "metadata": {},
   "source": [
    "### define paths"
   ]
  },
  {
   "cell_type": "code",
   "execution_count": 1,
   "metadata": {},
   "outputs": [],
   "source": [
    "ws_dir = 'catkin_ws' "
   ]
  },
  {
   "cell_type": "code",
   "execution_count": 4,
   "metadata": {},
   "outputs": [
    {
     "data": {
      "text/plain": [
       "'/home/pi/notebooks/Tutorials/1_Core_ROS_Tutorials/Beginner_Level/catkin_ws'"
      ]
     },
     "execution_count": 4,
     "metadata": {},
     "output_type": "execute_result"
    }
   ],
   "source": [
    "ws_dir_abs = os.path.join(home_dir, ws_dir)\n",
    "ws_dir_abs"
   ]
  },
  {
   "cell_type": "code",
   "execution_count": 5,
   "metadata": {},
   "outputs": [],
   "source": [
    "rm -rf {ws_dir_abs}"
   ]
  },
  {
   "cell_type": "code",
   "execution_count": 6,
   "metadata": {},
   "outputs": [
    {
     "data": {
      "text/plain": [
       "'/home/pi/notebooks/Tutorials/1_Core_ROS_Tutorials/Beginner_Level/catkin_ws/src'"
      ]
     },
     "execution_count": 6,
     "metadata": {},
     "output_type": "execute_result"
    }
   ],
   "source": [
    "src_dir_abs = os.path.join(ws_dir_abs, 'src') \n",
    "src_dir_abs"
   ]
  },
  {
   "cell_type": "markdown",
   "metadata": {},
   "source": [
    "### creating a Workspace"
   ]
  },
  {
   "cell_type": "code",
   "execution_count": 7,
   "metadata": {},
   "outputs": [],
   "source": [
    "mkdir -p {src_dir_abs}"
   ]
  },
  {
   "cell_type": "code",
   "execution_count": 7,
   "metadata": {},
   "outputs": [
    {
     "name": "stdout",
     "output_type": "stream",
     "text": [
      "/home/pi/notebooks/Tutorials/1_Core_ROS_Tutorials/Beginner_Level/catkin_ws/src\n"
     ]
    }
   ],
   "source": [
    "cd {src_dir_abs}"
   ]
  },
  {
   "cell_type": "markdown",
   "metadata": {},
   "source": [
    "### create a new package \n",
    "called 'beginner_tutorials' which depends on std_msgs, roscpp, and rospy:"
   ]
  },
  {
   "cell_type": "code",
   "execution_count": 12,
   "metadata": {},
   "outputs": [],
   "source": [
    "package_name = 'beginner_tutorials'"
   ]
  },
  {
   "cell_type": "code",
   "execution_count": 10,
   "metadata": {},
   "outputs": [
    {
     "name": "stdout",
     "output_type": "stream",
     "text": [
      "Created file beginner_tutorials/package.xml\n",
      "Created file beginner_tutorials/CMakeLists.txt\n",
      "Created folder beginner_tutorials/include/beginner_tutorials\n",
      "Created folder beginner_tutorials/src\n",
      "Successfully created files in /home/pi/notebooks/Tutorials/1_Core_ROS_Tutorials/catkin_ws/src/beginner_tutorials. Please adjust the values in package.xml.\n"
     ]
    }
   ],
   "source": [
    "!catkin_create_pkg {package_name} std_msgs rospy roscpp"
   ]
  },
  {
   "cell_type": "markdown",
   "metadata": {},
   "source": [
    "## 4. Building a catkin workspace and sourcing the setup file"
   ]
  },
  {
   "cell_type": "code",
   "execution_count": 8,
   "metadata": {},
   "outputs": [
    {
     "name": "stdout",
     "output_type": "stream",
     "text": [
      "/home/pi/notebooks/Tutorials/1_Core_ROS_Tutorials/Beginner_Level/catkin_ws\n"
     ]
    }
   ],
   "source": [
    "cd {ws_dir_abs}"
   ]
  },
  {
   "cell_type": "markdown",
   "metadata": {},
   "source": [
    "### build the packages in the catkin workspace:"
   ]
  },
  {
   "cell_type": "code",
   "execution_count": 12,
   "metadata": {},
   "outputs": [
    {
     "name": "stdout",
     "output_type": "stream",
     "text": [
      "Base path: /home/pi/notebooks/Tutorials/1_Core_ROS_Tutorials/catkin_ws\n",
      "Source space: /home/pi/notebooks/Tutorials/1_Core_ROS_Tutorials/catkin_ws/src\n",
      "Build space: /home/pi/notebooks/Tutorials/1_Core_ROS_Tutorials/catkin_ws/build\n",
      "Devel space: /home/pi/notebooks/Tutorials/1_Core_ROS_Tutorials/catkin_ws/devel\n",
      "Install space: /home/pi/notebooks/Tutorials/1_Core_ROS_Tutorials/catkin_ws/install\n",
      "Creating symlink \"/home/pi/notebooks/Tutorials/1_Core_ROS_Tutorials/catkin_ws/src/CMakeLists.txt\" pointing to \"/opt/ros/kinetic/share/catkin/cmake/toplevel.cmake\"\n",
      "\u001b[34m####\u001b[0m\n",
      "\u001b[34m#### Running command: \u001b[1m\"cmake /home/pi/notebooks/Tutorials/1_Core_ROS_Tutorials/catkin_ws/src -DCATKIN_DEVEL_PREFIX=/home/pi/notebooks/Tutorials/1_Core_ROS_Tutorials/catkin_ws/devel -DCMAKE_INSTALL_PREFIX=/home/pi/notebooks/Tutorials/1_Core_ROS_Tutorials/catkin_ws/install -G Unix Makefiles\"\u001b[0m\u001b[34m in \u001b[1m\"/home/pi/notebooks/Tutorials/1_Core_ROS_Tutorials/catkin_ws/build\"\u001b[0m\n",
      "\u001b[34m####\u001b[0m\n",
      "-- The C compiler identification is GNU 5.4.0\n",
      "\u001b[0m-- The CXX compiler identification is GNU 5.4.0\n",
      "\u001b[0m-- Check for working C compiler: /usr/bin/cc\n",
      "\u001b[0m-- Check for working C compiler: /usr/bin/cc -- works\n",
      "\u001b[0m-- Detecting C compiler ABI info\n",
      "\u001b[0m-- Detecting C compiler ABI info - done\n",
      "\u001b[0m-- Detecting C compile features\n",
      "\u001b[0m-- Detecting C compile features - done\n",
      "\u001b[0m-- Check for working CXX compiler: /usr/bin/c++\n",
      "\u001b[0m-- Check for working CXX compiler: /usr/bin/c++ -- works\n",
      "\u001b[0m-- Detecting CXX compiler ABI info\n",
      "\u001b[0m-- Detecting CXX compiler ABI info - done\n",
      "\u001b[0m-- Detecting CXX compile features\n",
      "\u001b[0m-- Detecting CXX compile features - done\n",
      "\u001b[0m-- Using CATKIN_DEVEL_PREFIX: /home/pi/notebooks/Tutorials/1_Core_ROS_Tutorials/catkin_ws/devel\n",
      "\u001b[0m-- Using CMAKE_PREFIX_PATH: /opt/ros/kinetic\n",
      "\u001b[0m-- This workspace overlays: /opt/ros/kinetic\n",
      "\u001b[0m-- Found PythonInterp: /home/pi/anaconda3/bin/python (found version \"3.6.4\") \n",
      "\u001b[0m-- Using PYTHON_EXECUTABLE: /home/pi/anaconda3/bin/python\n",
      "\u001b[0m-- Using Debian Python package layout\n",
      "\u001b[0m-- Using empy: /usr/bin/empy\n",
      "\u001b[0m-- Using CATKIN_ENABLE_TESTING: ON\n",
      "\u001b[0m-- Call enable_testing()\n",
      "\u001b[0m-- Using CATKIN_TEST_RESULTS_DIR: /home/pi/notebooks/Tutorials/1_Core_ROS_Tutorials/catkin_ws/build/test_results\n",
      "\u001b[0m-- Looking for pthread.h\n",
      "\u001b[0m-- Looking for pthread.h - found\n",
      "\u001b[0m-- Looking for pthread_create\n",
      "\u001b[0m-- Looking for pthread_create - not found\n",
      "\u001b[0m-- Looking for pthread_create in pthreads\n",
      "\u001b[0m-- Looking for pthread_create in pthreads - not found\n",
      "\u001b[0m-- Looking for pthread_create in pthread\n",
      "\u001b[0m-- Looking for pthread_create in pthread - found\n",
      "\u001b[0m-- Found Threads: TRUE  \n",
      "\u001b[0m-- Found gtest sources under '/usr/src/gtest': gtests will be built\n",
      "\u001b[0m-- Using Python nosetests: /home/pi/anaconda3/bin/nosetests\n",
      "\u001b[0m-- catkin 0.7.8\n",
      "\u001b[0m-- BUILD_SHARED_LIBS is on\n",
      "\u001b[0m-- \u001b[35m~~~~~~~~~~~~~~~~~~~~~~~~~~~~~~~~~~~~~~~~~~~~~~~~~\u001b[0m\n",
      "\u001b[0m-- \u001b[35m~~ \u001b[0m traversing 1 packages in topological order:\n",
      "\u001b[0m-- \u001b[35m~~ \u001b[0m - \u001b[1m\u001b[34mbeginner_tutorials\n",
      "\u001b[0m-- \u001b[35m~~~~~~~~~~~~~~~~~~~~~~~~~~~~~~~~~~~~~~~~~~~~~~~~~\u001b[0m\n",
      "\u001b[0m-- \u001b[1m\u001b[32m+++\u001b[0m processing catkin package: '\u001b[1m\u001b[34mbeginner_tutorials\u001b[0m\u001b[0m'\n",
      "\u001b[0m-- \u001b[1m\u001b[34m==>\u001b[0m add_subdirectory(beginner_tutorials)\n",
      "\u001b[0m-- Configuring done\n",
      "\u001b[0m-- Generating done\n",
      "\u001b[0m-- Build files have been written to: /home/pi/notebooks/Tutorials/1_Core_ROS_Tutorials/catkin_ws/build\n",
      "\u001b[0m\u001b[34m####\u001b[0m\n",
      "\u001b[34m#### Running command: \u001b[1m\"make -j4 -l4\"\u001b[0m\u001b[34m in \u001b[1m\"/home/pi/notebooks/Tutorials/1_Core_ROS_Tutorials/catkin_ws/build\"\u001b[0m\n",
      "\u001b[34m####\u001b[0m\n"
     ]
    }
   ],
   "source": [
    "!catkin_make"
   ]
  },
  {
   "cell_type": "markdown",
   "metadata": {},
   "source": [
    "After the workspace has been built it has created a similar structure in the **devel** subfolder as you usually find under /opt/ros/$ROSDISTRO_NAME."
   ]
  },
  {
   "cell_type": "markdown",
   "metadata": {},
   "source": [
    "### add the workspace to your ROS environment \n",
    "```\n",
    "$ . ~/ws/devel/setup.bash\n",
    "```"
   ]
  },
  {
   "cell_type": "code",
   "execution_count": 13,
   "metadata": {},
   "outputs": [],
   "source": [
    "# cat devel/setup.bash"
   ]
  },
  {
   "cell_type": "code",
   "execution_count": 14,
   "metadata": {},
   "outputs": [],
   "source": [
    "!. devel/setup.sh"
   ]
  },
  {
   "cell_type": "markdown",
   "metadata": {},
   "source": [
    "pi@095e89283999:~/catkin_ws$ printenv | grep catkin\n",
    "```\n",
    "ROS_PACKAGE_PATH=/home/pi/catkin_ws/src:/opt/ros/kinetic/share\n",
    "OLDPWD=/home/pi/catkin_ws/src\n",
    "LD_LIBRARY_PATH=/home/pi/catkin_ws/devel/lib:/opt/ros/kinetic/lib\n",
    "ROSLISP_PACKAGE_DIRECTORIES=/home/pi/catkin_ws/devel/share/common-lisp\n",
    "PKG_CONFIG_PATH=/home/pi/catkin_ws/devel/lib/pkgconfig:/opt/ros/kinetic/lib/pkgconfig\n",
    "CMAKE_PREFIX_PATH=/home/pi/catkin_ws/devel:/opt/ros/kinetic\n",
    "\n",
    "PWD=/home/pi/catkin_ws\n",
    "```"
   ]
  },
  {
   "cell_type": "code",
   "execution_count": 15,
   "metadata": {},
   "outputs": [],
   "source": [
    "def append_paths(paths):\n",
    "    for path, to_append in paths.items():\n",
    "        os.environ[path] = ROS_ENVs[path]\n",
    "        os.environ[path] = '{}:{}'.format(to_append, os.environ[path])\n",
    "        \n",
    "paths = {}\n",
    "paths['ROS_PACKAGE_PATH'] = src_dir_abs\n",
    "paths['LD_LIBRARY_PATH'] = os.path.join(ws_dir_abs + 'devel/lib')\n",
    "paths['ROSLISP_PACKAGE_DIRECTORIES'] = os.path.join(ws_dir_abs + 'devel/share/common-lisp')\n",
    "paths['PKG_CONFIG_PATH'] = os.path.join(ws_dir_abs + 'devel/lib/pkgconfig')\n",
    "paths['CMAKE_PREFIX_PATH'] = os.path.join(ws_dir_abs + 'devel/lib')\n",
    "paths['LD_LIBRARY_PATH'] = os.path.join(ws_dir_abs + 'devel')\n",
    "\n",
    "append_paths(paths)"
   ]
  },
  {
   "cell_type": "code",
   "execution_count": 16,
   "metadata": {},
   "outputs": [
    {
     "name": "stdout",
     "output_type": "stream",
     "text": [
      "ROS_PACKAGE_PATH=/home/pi/notebooks/Tutorials/1_Core_ROS_Tutorials/catkin_ws/src:/opt/ros/kinetic/share\r\n",
      "LD_LIBRARY_PATH=/home/pi/notebooks/Tutorials/1_Core_ROS_Tutorials/catkin_wsdevel:/opt/ros/kinetic/lib\r\n",
      "PKG_CONFIG_PATH=/home/pi/notebooks/Tutorials/1_Core_ROS_Tutorials/catkin_wsdevel/lib/pkgconfig:/opt/ros/kinetic/lib/pkgconfig\r\n",
      "ROSLISP_PACKAGE_DIRECTORIES=/home/pi/notebooks/Tutorials/1_Core_ROS_Tutorials/catkin_wsdevel/share/common-lisp:\r\n",
      "PWD=/home/pi/notebooks/Tutorials/1_Core_ROS_Tutorials/catkin_ws\r\n",
      "CMAKE_PREFIX_PATH=/home/pi/notebooks/Tutorials/1_Core_ROS_Tutorials/catkin_wsdevel/lib:/opt/ros/kinetic\r\n"
     ]
    }
   ],
   "source": [
    "!printenv | grep catkin_ws"
   ]
  },
  {
   "cell_type": "markdown",
   "metadata": {},
   "source": [
    "## 5. package dependencies"
   ]
  },
  {
   "cell_type": "code",
   "execution_count": 13,
   "metadata": {},
   "outputs": [
    {
     "data": {
      "text/plain": [
       "\"[rospack] Error: package 'beginner_tutorials' not found\""
      ]
     },
     "execution_count": 13,
     "metadata": {},
     "output_type": "execute_result"
    }
   ],
   "source": [
    "package_dir_abs = !rospack find {package_name}\n",
    "package_dir_abs = package_dir_abs[0]\n",
    "package_dir_abs"
   ]
  },
  {
   "cell_type": "markdown",
   "metadata": {},
   "source": [
    "### First-order dependencies"
   ]
  },
  {
   "cell_type": "code",
   "execution_count": 18,
   "metadata": {},
   "outputs": [
    {
     "name": "stdout",
     "output_type": "stream",
     "text": [
      "roscpp\r\n",
      "rospy\r\n",
      "std_msgs\r\n"
     ]
    }
   ],
   "source": [
    "!rospack depends1 {package_name}"
   ]
  },
  {
   "cell_type": "code",
   "execution_count": 19,
   "metadata": {},
   "outputs": [
    {
     "name": "stdout",
     "output_type": "stream",
     "text": [
      "/home/pi/notebooks/Tutorials/1_Core_ROS_Tutorials/catkin_ws/src/beginner_tutorials\n"
     ]
    }
   ],
   "source": [
    "cd {package_dir_abs}"
   ]
  },
  {
   "cell_type": "code",
   "execution_count": 20,
   "metadata": {},
   "outputs": [
    {
     "name": "stdout",
     "output_type": "stream",
     "text": [
      "<?xml version=\"1.0\"?>\r\n",
      "<package format=\"2\">\r\n",
      "  <name>beginner_tutorials</name>\r\n",
      "  <version>0.0.0</version>\r\n",
      "  <description>The beginner_tutorials package</description>\r\n",
      "\r\n",
      "  <!-- One maintainer tag required, multiple allowed, one person per tag -->\r\n",
      "  <!-- Example:  -->\r\n",
      "  <!-- <maintainer email=\"jane.doe@example.com\">Jane Doe</maintainer> -->\r\n",
      "  <maintainer email=\"pi@todo.todo\">pi</maintainer>\r\n",
      "\r\n",
      "\r\n",
      "  <!-- One license tag required, multiple allowed, one license per tag -->\r\n",
      "  <!-- Commonly used license strings: -->\r\n",
      "  <!--   BSD, MIT, Boost Software License, GPLv2, GPLv3, LGPLv2.1, LGPLv3 -->\r\n",
      "  <license>TODO</license>\r\n",
      "\r\n",
      "\r\n",
      "  <!-- Url tags are optional, but multiple are allowed, one per tag -->\r\n",
      "  <!-- Optional attribute type can be: website, bugtracker, or repository -->\r\n",
      "  <!-- Example: -->\r\n",
      "  <!-- <url type=\"website\">http://wiki.ros.org/beginner_tutorials</url> -->\r\n",
      "\r\n",
      "\r\n",
      "  <!-- Author tags are optional, multiple are allowed, one per tag -->\r\n",
      "  <!-- Authors do not have to be maintainers, but could be -->\r\n",
      "  <!-- Example: -->\r\n",
      "  <!-- <author email=\"jane.doe@example.com\">Jane Doe</author> -->\r\n",
      "\r\n",
      "\r\n",
      "  <!-- The *depend tags are used to specify dependencies -->\r\n",
      "  <!-- Dependencies can be catkin packages or system dependencies -->\r\n",
      "  <!-- Examples: -->\r\n",
      "  <!-- Use depend as a shortcut for packages that are both build and exec dependencies -->\r\n",
      "  <!--   <depend>roscpp</depend> -->\r\n",
      "  <!--   Note that this is equivalent to the following: -->\r\n",
      "  <!--   <build_depend>roscpp</build_depend> -->\r\n",
      "  <!--   <exec_depend>roscpp</exec_depend> -->\r\n",
      "  <!-- Use build_depend for packages you need at compile time: -->\r\n",
      "  <!--   <build_depend>message_generation</build_depend> -->\r\n",
      "  <!-- Use build_export_depend for packages you need in order to build against this package: -->\r\n",
      "  <!--   <build_export_depend>message_generation</build_export_depend> -->\r\n",
      "  <!-- Use buildtool_depend for build tool packages: -->\r\n",
      "  <!--   <buildtool_depend>catkin</buildtool_depend> -->\r\n",
      "  <!-- Use exec_depend for packages you need at runtime: -->\r\n",
      "  <!--   <exec_depend>message_runtime</exec_depend> -->\r\n",
      "  <!-- Use test_depend for packages you need only for testing: -->\r\n",
      "  <!--   <test_depend>gtest</test_depend> -->\r\n",
      "  <!-- Use doc_depend for packages you need only for building documentation: -->\r\n",
      "  <!--   <doc_depend>doxygen</doc_depend> -->\r\n",
      "  <buildtool_depend>catkin</buildtool_depend>\r\n",
      "  <build_depend>roscpp</build_depend>\r\n",
      "  <build_depend>rospy</build_depend>\r\n",
      "  <build_depend>std_msgs</build_depend>\r\n",
      "  <build_export_depend>roscpp</build_export_depend>\r\n",
      "  <build_export_depend>rospy</build_export_depend>\r\n",
      "  <build_export_depend>std_msgs</build_export_depend>\r\n",
      "  <exec_depend>roscpp</exec_depend>\r\n",
      "  <exec_depend>rospy</exec_depend>\r\n",
      "  <exec_depend>std_msgs</exec_depend>\r\n",
      "\r\n",
      "\r\n",
      "  <!-- The export tag contains other, unspecified, tags -->\r\n",
      "  <export>\r\n",
      "    <!-- Other tools can request additional information be placed here -->\r\n",
      "\r\n",
      "  </export>\r\n",
      "</package>\r\n"
     ]
    }
   ],
   "source": [
    "cat package.xml"
   ]
  },
  {
   "cell_type": "markdown",
   "metadata": {},
   "source": [
    "### Indirect dependencies"
   ]
  },
  {
   "cell_type": "code",
   "execution_count": 21,
   "metadata": {},
   "outputs": [
    {
     "name": "stdout",
     "output_type": "stream",
     "text": [
      "cpp_common\r\n",
      "rostime\r\n",
      "roscpp_traits\r\n",
      "roscpp_serialization\r\n",
      "catkin\r\n",
      "genmsg\r\n",
      "genpy\r\n",
      "message_runtime\r\n",
      "gencpp\r\n",
      "geneus\r\n",
      "gennodejs\r\n",
      "genlisp\r\n",
      "message_generation\r\n",
      "rosbuild\r\n",
      "rosconsole\r\n",
      "std_msgs\r\n",
      "rosgraph_msgs\r\n",
      "xmlrpcpp\r\n",
      "roscpp\r\n",
      "rosgraph\r\n",
      "rospack\r\n",
      "roslib\r\n",
      "rospy\r\n"
     ]
    }
   ],
   "source": [
    "!rospack depends {package_name}"
   ]
  },
  {
   "cell_type": "markdown",
   "metadata": {},
   "source": [
    "## 6. Customizing Your Package"
   ]
  },
  {
   "cell_type": "markdown",
   "metadata": {},
   "source": [
    "### Customizing the package.xml"
   ]
  },
  {
   "cell_type": "markdown",
   "metadata": {},
   "source": [
    "### Final package.xml\n",
    "As you can see the final package.xml, without comments and unused tags, is much more concise:\n",
    "\n",
    "```\n",
    "<?xml version=\"1.0\"?>\n",
    "<package format=\"2\">\n",
    "  <name>beginner_tutorials</name>\n",
    "  <version>0.1.0</version>\n",
    "  <description>The beginner_tutorials package</description>\n",
    "\n",
    "  <maintainer email=\"you@yourdomain.tld\">Your Name</maintainer>\n",
    "  <license>BSD</license>\n",
    "  <url type=\"website\">http://wiki.ros.org/beginner_tutorials</url>\n",
    "  <author email=\"you@yourdomain.tld\">Jane Doe</author>\n",
    "\n",
    "  <buildtool_depend>catkin</buildtool_depend>\n",
    "\n",
    "  <build_depend>roscpp</build_depend>\n",
    "  <build_depend>rospy</build_depend>\n",
    "  <build_depend>std_msgs</build_depend>\n",
    "\n",
    "  <exec_depend>roscpp</exec_depend>\n",
    "  <exec_depend>rospy</exec_depend>\n",
    "  <exec_depend>std_msgs</exec_depend>\n",
    "\n",
    "</package>\n",
    "```"
   ]
  }
 ],
 "metadata": {
  "kernelspec": {
   "display_name": "Python 3",
   "language": "python",
   "name": "python3"
  },
  "language_info": {
   "codemirror_mode": {
    "name": "ipython",
    "version": 3
   },
   "file_extension": ".py",
   "mimetype": "text/x-python",
   "name": "python",
   "nbconvert_exporter": "python",
   "pygments_lexer": "ipython3",
   "version": "3.6.4"
  }
 },
 "nbformat": 4,
 "nbformat_minor": 2
}
