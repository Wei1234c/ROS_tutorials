{
 "cells": [
  {
   "cell_type": "markdown",
   "metadata": {},
   "source": [
    "# 1. Creating a ROS package by hand.\n",
    "http://wiki.ros.org/ROS/Tutorials/Creating%20a%20Package%20by%20Hand"
   ]
  },
  {
   "cell_type": "markdown",
   "metadata": {},
   "source": [
    "## setup environment"
   ]
  },
  {
   "cell_type": "code",
   "execution_count": 17,
   "metadata": {},
   "outputs": [
    {
     "data": {
      "text/plain": [
       "'/home/pi/notebooks/Tutorials/1_Core_ROS_Tutorials/Intermediate_Level'"
      ]
     },
     "execution_count": 17,
     "metadata": {},
     "output_type": "execute_result"
    }
   ],
   "source": [
    "import os\n",
    "import sys \n",
    "\n",
    "home_dir = os.getcwd()\n",
    "home_dir"
   ]
  },
  {
   "cell_type": "code",
   "execution_count": 18,
   "metadata": {},
   "outputs": [],
   "source": [
    "# get ROS related environment variables\n",
    "envs = !printenv | grep ROS \n",
    "ROS_ENVs = {}\n",
    "\n",
    "for env in envs:\n",
    "    env = env.split('=')\n",
    "    [k, v] = env\n",
    "    ROS_ENVs[k] = v\n",
    "\n",
    "ROS_ENVs['LD_LIBRARY_PATH'] = '/opt/ros/kinetic/lib'\n",
    "ROS_ENVs['PKG_CONFIG_PATH'] = '/opt/ros/kinetic/lib/pkgconfig'\n",
    "ROS_ENVs['CMAKE_PREFIX_PATH'] = '/opt/ros/kinetic'  \n",
    "del ROS_ENVs['PWD']"
   ]
  },
  {
   "cell_type": "code",
   "execution_count": 19,
   "metadata": {},
   "outputs": [],
   "source": [
    "# define workspace path\n",
    "ws_dir = 'catkin_ws'\n",
    "ws_dir_abs = os.path.join(home_dir, ws_dir)\n",
    "src_dir_abs = os.path.join(ws_dir_abs, 'src') \n",
    "\n",
    "# append environment paths\n",
    "def gen_paths(ws_dir_abs, src_dir_abs):\n",
    "    paths = {}\n",
    "    paths['ROS_PACKAGE_PATH'] = src_dir_abs\n",
    "    paths['LD_LIBRARY_PATH'] = os.path.join(ws_dir_abs + 'devel/lib')\n",
    "    paths['ROSLISP_PACKAGE_DIRECTORIES'] = os.path.join(ws_dir_abs + 'devel/share/common-lisp')\n",
    "    paths['PKG_CONFIG_PATH'] = os.path.join(ws_dir_abs + 'devel/lib/pkgconfig')\n",
    "    paths['CMAKE_PREFIX_PATH'] = os.path.join(ws_dir_abs + 'devel/lib')\n",
    "    paths['LD_LIBRARY_PATH'] = os.path.join(ws_dir_abs + 'devel')\n",
    "    return paths\n",
    "\n",
    "def append_paths(ROS_ENVs, paths): \n",
    "    for path in ROS_ENVs.keys():\n",
    "        os.environ[path] = ROS_ENVs[path]\n",
    "        if path in paths.keys():\n",
    "            os.environ[path] = '{}:{}'.format(paths[path], os.environ[path])\n",
    "\n",
    "append_paths(ROS_ENVs, \n",
    "             gen_paths(ws_dir_abs, src_dir_abs))"
   ]
  },
  {
   "cell_type": "markdown",
   "metadata": {},
   "source": [
    "## create package\n",
    "There is a tool for creating ROS Packages (catkin_create_pkg), but, as you will see, there is nothing actually difficult here. catkin_create_pkg prevents mistakes and saves effort, but packages are just a directory and a simple XML file.\n",
    "\n",
    "Now we'll create a new foobar package. This tutorial assumes that we're working your catkin workspace and sourcing of the setup file is already done."
   ]
  },
  {
   "cell_type": "code",
   "execution_count": 20,
   "metadata": {},
   "outputs": [],
   "source": [
    "rm -rf {ws_dir_abs}"
   ]
  },
  {
   "cell_type": "code",
   "execution_count": 21,
   "metadata": {},
   "outputs": [],
   "source": [
    "mkdir -p {src_dir_abs}"
   ]
  },
  {
   "cell_type": "code",
   "execution_count": 22,
   "metadata": {},
   "outputs": [
    {
     "name": "stdout",
     "output_type": "stream",
     "text": [
      "/home/pi/notebooks/Tutorials/1_Core_ROS_Tutorials/Intermediate_Level/catkin_ws/src\n"
     ]
    }
   ],
   "source": [
    "cd {src_dir_abs}"
   ]
  },
  {
   "cell_type": "code",
   "execution_count": 23,
   "metadata": {},
   "outputs": [],
   "source": [
    "package_name = 'foobar'"
   ]
  },
  {
   "cell_type": "code",
   "execution_count": 24,
   "metadata": {},
   "outputs": [],
   "source": [
    "mkdir -p {package_name}"
   ]
  },
  {
   "cell_type": "code",
   "execution_count": 25,
   "metadata": {},
   "outputs": [
    {
     "name": "stdout",
     "output_type": "stream",
     "text": [
      "/home/pi/notebooks/Tutorials/1_Core_ROS_Tutorials/Intermediate_Level/catkin_ws/src/foobar\n"
     ]
    }
   ],
   "source": [
    "cd {package_name}"
   ]
  },
  {
   "cell_type": "markdown",
   "metadata": {},
   "source": [
    "The very first thing we'll do is add our manifest file. The package.xml file allows tools like rospack to determine information about what your package depends upon.\n",
    "\n",
    "Inside of foobar/package.xml put the following:"
   ]
  },
  {
   "cell_type": "code",
   "execution_count": 26,
   "metadata": {},
   "outputs": [],
   "source": [
    "text = '''\n",
    "<package>\n",
    "  <name>foobar</name>\n",
    "  <version>1.2.4</version>\n",
    "  <description>\n",
    "  This package provides foo capability.\n",
    "  </description>\n",
    "  <maintainer email=\"foobar@foo.bar.willowgarage.com\">PR-foobar</maintainer>\n",
    "  <license>BSD</license>\n",
    "\n",
    "  <buildtool_depend>catkin</buildtool_depend>\n",
    "\n",
    "  <build_depend>roscpp</build_depend>\n",
    "  <build_depend>std_msgs</build_depend>\n",
    "\n",
    "  <run_depend>roscpp</run_depend>\n",
    "  <run_depend>std_msgs</run_depend>\n",
    "</package>\n",
    "'''\n",
    "\n",
    "file_name = 'package.xml'\n",
    "\n",
    "with open(file_name, 'w') as f:\n",
    "    f.writelines(text)"
   ]
  },
  {
   "cell_type": "markdown",
   "metadata": {},
   "source": [
    "See also this page from catkin tutorial for further information on catkin/package.xml.\n",
    "\n",
    "Now that your package has a manifest, ROS can find it. Try executing the command:"
   ]
  },
  {
   "cell_type": "code",
   "execution_count": 27,
   "metadata": {},
   "outputs": [
    {
     "name": "stdout",
     "output_type": "stream",
     "text": [
      "/home/pi/notebooks/Tutorials/1_Core_ROS_Tutorials/Intermediate_Level/catkin_ws/src/foobar\r\n"
     ]
    }
   ],
   "source": [
    "!rospack find {package_name}"
   ]
  },
  {
   "cell_type": "markdown",
   "metadata": {},
   "source": [
    "If ROS is set up correctly you should see something like: /home/user/ros/catkin_ws_top/src/foobar. This is how ROS finds packages behind the scenes.\n",
    "\n",
    "Note that this package now also has dependencies on roscpp and std_msgs.\n",
    "\n",
    "Such dependencies are used by catkin to configure packages in the right order.\n",
    "\n",
    "Now we need the CMakeLists.txt file so that catkin_make, which uses CMake for its more powerful flexibility when building across multiple platforms, builds the package.\n",
    "\n",
    "In foobar/CMakeLists.txt put:"
   ]
  },
  {
   "cell_type": "code",
   "execution_count": 28,
   "metadata": {},
   "outputs": [],
   "source": [
    "text = '''\n",
    "cmake_minimum_required(VERSION 2.8.3)\n",
    "project({})\n",
    "find_package(catkin REQUIRED roscpp std_msgs)\n",
    "catkin_package()\n",
    "'''.format(package_name)\n",
    "\n",
    "file_name = 'CMakeLists.txt'\n",
    "\n",
    "with open(file_name, 'w') as f:\n",
    "    f.writelines(text)"
   ]
  },
  {
   "cell_type": "markdown",
   "metadata": {},
   "source": [
    "That's all you need to start building a package in ROS using catkin. Of course, if you want it to actually start building something, you're going to need to learn a couple more CMake macros. See our CMakeLists.txt guide for more information. Also always go back to beginner level tutorial (CreatingPackage and so on) to customize your package.xml and CMakeLists.txt."
   ]
  },
  {
   "cell_type": "code",
   "execution_count": 29,
   "metadata": {
    "scrolled": true
   },
   "outputs": [
    {
     "name": "stdout",
     "output_type": "stream",
     "text": [
      "/home/pi/notebooks/Tutorials/1_Core_ROS_Tutorials/Intermediate_Level/catkin_ws\n"
     ]
    }
   ],
   "source": [
    "cd {ws_dir_abs}"
   ]
  },
  {
   "cell_type": "code",
   "execution_count": 30,
   "metadata": {
    "scrolled": true
   },
   "outputs": [
    {
     "name": "stdout",
     "output_type": "stream",
     "text": [
      "Base path: /home/pi/notebooks/Tutorials/1_Core_ROS_Tutorials/Intermediate_Level/catkin_ws\n",
      "Source space: /home/pi/notebooks/Tutorials/1_Core_ROS_Tutorials/Intermediate_Level/catkin_ws/src\n",
      "Build space: /home/pi/notebooks/Tutorials/1_Core_ROS_Tutorials/Intermediate_Level/catkin_ws/build\n",
      "Devel space: /home/pi/notebooks/Tutorials/1_Core_ROS_Tutorials/Intermediate_Level/catkin_ws/devel\n",
      "Install space: /home/pi/notebooks/Tutorials/1_Core_ROS_Tutorials/Intermediate_Level/catkin_ws/install\n",
      "Creating symlink \"/home/pi/notebooks/Tutorials/1_Core_ROS_Tutorials/Intermediate_Level/catkin_ws/src/CMakeLists.txt\" pointing to \"/opt/ros/kinetic/share/catkin/cmake/toplevel.cmake\"\n",
      "\u001b[34m####\u001b[0m\n",
      "\u001b[34m#### Running command: \u001b[1m\"cmake /home/pi/notebooks/Tutorials/1_Core_ROS_Tutorials/Intermediate_Level/catkin_ws/src -DCATKIN_DEVEL_PREFIX=/home/pi/notebooks/Tutorials/1_Core_ROS_Tutorials/Intermediate_Level/catkin_ws/devel -DCMAKE_INSTALL_PREFIX=/home/pi/notebooks/Tutorials/1_Core_ROS_Tutorials/Intermediate_Level/catkin_ws/install -G Unix Makefiles\"\u001b[0m\u001b[34m in \u001b[1m\"/home/pi/notebooks/Tutorials/1_Core_ROS_Tutorials/Intermediate_Level/catkin_ws/build\"\u001b[0m\n",
      "\u001b[34m####\u001b[0m\n",
      "-- The C compiler identification is GNU 5.4.0\n",
      "\u001b[0m-- The CXX compiler identification is GNU 5.4.0\n",
      "\u001b[0m-- Check for working C compiler: /usr/bin/cc\n",
      "\u001b[0m-- Check for working C compiler: /usr/bin/cc -- works\n",
      "\u001b[0m-- Detecting C compiler ABI info\n",
      "\u001b[0m-- Detecting C compiler ABI info - done\n",
      "\u001b[0m-- Detecting C compile features\n",
      "\u001b[0m-- Detecting C compile features - done\n",
      "\u001b[0m-- Check for working CXX compiler: /usr/bin/c++\n",
      "\u001b[0m-- Check for working CXX compiler: /usr/bin/c++ -- works\n",
      "\u001b[0m-- Detecting CXX compiler ABI info\n",
      "\u001b[0m-- Detecting CXX compiler ABI info - done\n",
      "\u001b[0m-- Detecting CXX compile features\n",
      "\u001b[0m-- Detecting CXX compile features - done\n",
      "\u001b[0m-- Using CATKIN_DEVEL_PREFIX: /home/pi/notebooks/Tutorials/1_Core_ROS_Tutorials/Intermediate_Level/catkin_ws/devel\n",
      "\u001b[0m-- Using CMAKE_PREFIX_PATH: /home/pi/notebooks/Tutorials/1_Core_ROS_Tutorials/Intermediate_Level/catkin_wsdevel/lib;/opt/ros/kinetic\n",
      "\u001b[0m-- This workspace overlays: /opt/ros/kinetic\n",
      "\u001b[0m-- Found PythonInterp: /home/pi/anaconda3/bin/python (found version \"3.6.4\") \n",
      "\u001b[0m-- Using PYTHON_EXECUTABLE: /home/pi/anaconda3/bin/python\n",
      "\u001b[0m-- Using Debian Python package layout\n",
      "\u001b[0m-- Using empy: /usr/bin/empy\n",
      "\u001b[0m-- Using CATKIN_ENABLE_TESTING: ON\n",
      "\u001b[0m-- Call enable_testing()\n",
      "\u001b[0m-- Using CATKIN_TEST_RESULTS_DIR: /home/pi/notebooks/Tutorials/1_Core_ROS_Tutorials/Intermediate_Level/catkin_ws/build/test_results\n",
      "\u001b[0m-- Looking for pthread.h\n",
      "\u001b[0m-- Looking for pthread.h - found\n",
      "\u001b[0m-- Looking for pthread_create\n",
      "\u001b[0m-- Looking for pthread_create - not found\n",
      "\u001b[0m-- Looking for pthread_create in pthreads\n",
      "\u001b[0m-- Looking for pthread_create in pthreads - not found\n",
      "\u001b[0m-- Looking for pthread_create in pthread\n",
      "\u001b[0m-- Looking for pthread_create in pthread - found\n",
      "\u001b[0m-- Found Threads: TRUE  \n",
      "\u001b[0m-- Found gtest sources under '/usr/src/gtest': gtests will be built\n",
      "\u001b[0m-- Using Python nosetests: /home/pi/anaconda3/bin/nosetests\n",
      "\u001b[0m-- catkin 0.7.8\n",
      "\u001b[0m-- BUILD_SHARED_LIBS is on\n",
      "\u001b[0m-- \u001b[35m~~~~~~~~~~~~~~~~~~~~~~~~~~~~~~~~~~~~~~~~~~~~~~~~~\u001b[0m\n",
      "\u001b[0m-- \u001b[35m~~ \u001b[0m traversing 1 packages in topological order:\n",
      "\u001b[0m-- \u001b[35m~~ \u001b[0m - \u001b[1m\u001b[34mfoobar\n",
      "\u001b[0m-- \u001b[35m~~~~~~~~~~~~~~~~~~~~~~~~~~~~~~~~~~~~~~~~~~~~~~~~~\u001b[0m\n",
      "\u001b[0m-- \u001b[1m\u001b[32m+++\u001b[0m processing catkin package: '\u001b[1m\u001b[34mfoobar\u001b[0m\u001b[0m'\n",
      "\u001b[0m-- \u001b[1m\u001b[34m==>\u001b[0m add_subdirectory(foobar)\n",
      "\u001b[0m-- Configuring done\n",
      "\u001b[0m-- Generating done\n",
      "\u001b[0m-- Build files have been written to: /home/pi/notebooks/Tutorials/1_Core_ROS_Tutorials/Intermediate_Level/catkin_ws/build\n",
      "\u001b[0m\u001b[34m####\u001b[0m\n",
      "\u001b[34m#### Running command: \u001b[1m\"make -j4 -l4\"\u001b[0m\u001b[34m in \u001b[1m\"/home/pi/notebooks/Tutorials/1_Core_ROS_Tutorials/Intermediate_Level/catkin_ws/build\"\u001b[0m\n",
      "\u001b[34m####\u001b[0m\n"
     ]
    }
   ],
   "source": [
    "!catkin_make"
   ]
  },
  {
   "cell_type": "code",
   "execution_count": 31,
   "metadata": {},
   "outputs": [
    {
     "data": {
      "text/plain": [
       "'/home/pi/notebooks/Tutorials/1_Core_ROS_Tutorials/Intermediate_Level/catkin_ws/src/foobar'"
      ]
     },
     "execution_count": 31,
     "metadata": {},
     "output_type": "execute_result"
    }
   ],
   "source": [
    "# define package name and path \n",
    "package_dir_abs = !rospack find {package_name}\n",
    "package_dir_abs = package_dir_abs[0]\n",
    "package_dir_abs"
   ]
  },
  {
   "cell_type": "code",
   "execution_count": 32,
   "metadata": {},
   "outputs": [
    {
     "name": "stdout",
     "output_type": "stream",
     "text": [
      "/home/pi/notebooks/Tutorials/1_Core_ROS_Tutorials/Intermediate_Level\n"
     ]
    }
   ],
   "source": [
    "cd {home_dir}"
   ]
  }
 ],
 "metadata": {
  "kernelspec": {
   "display_name": "Python 3",
   "language": "python",
   "name": "python3"
  },
  "language_info": {
   "codemirror_mode": {
    "name": "ipython",
    "version": 3
   },
   "file_extension": ".py",
   "mimetype": "text/x-python",
   "name": "python",
   "nbconvert_exporter": "python",
   "pygments_lexer": "ipython3",
   "version": "3.6.4"
  }
 },
 "nbformat": 4,
 "nbformat_minor": 2
}
