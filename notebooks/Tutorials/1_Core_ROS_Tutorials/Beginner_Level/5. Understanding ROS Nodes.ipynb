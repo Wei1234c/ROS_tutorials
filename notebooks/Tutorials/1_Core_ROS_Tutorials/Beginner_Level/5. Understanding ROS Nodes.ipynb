{
 "cells": [
  {
   "cell_type": "markdown",
   "metadata": {},
   "source": [
    "# 5. Understanding ROS Nodes\n",
    "http://wiki.ros.org/ROS/Tutorials/UnderstandingNodes"
   ]
  },
  {
   "cell_type": "code",
   "execution_count": 1,
   "metadata": {},
   "outputs": [
    {
     "data": {
      "text/plain": [
       "'/home/pi/notebooks/Tutorials/1_Core_ROS_Tutorials'"
      ]
     },
     "execution_count": 1,
     "metadata": {},
     "output_type": "execute_result"
    }
   ],
   "source": [
    "import os\n",
    "import sys\n",
    "\n",
    "home_dir = os.getcwd()\n",
    "home_dir"
   ]
  },
  {
   "cell_type": "code",
   "execution_count": 2,
   "metadata": {},
   "outputs": [],
   "source": [
    "# get ROS related environment variables\n",
    "\n",
    "envs = !printenv | grep ROS \n",
    "ROS_ENVs = {}\n",
    "\n",
    "for env in envs:\n",
    "    env = env.split('=')\n",
    "    [k, v] = env\n",
    "    ROS_ENVs[k] = v\n",
    "\n",
    "ROS_ENVs['LD_LIBRARY_PATH'] = '/opt/ros/kinetic/lib'\n",
    "ROS_ENVs['PKG_CONFIG_PATH'] = '/opt/ros/kinetic/lib/pkgconfig'\n",
    "ROS_ENVs['CMAKE_PREFIX_PATH'] = '/opt/ros/kinetic'  "
   ]
  },
  {
   "cell_type": "markdown",
   "metadata": {},
   "source": [
    "## roscore\n",
    "roscore is the first thing you should run when using ROS.\n",
    "\n",
    "Please run:\n",
    "```\n",
    "$ roscore\n",
    "```\n",
    "\n",
    "You will see something similar to:\n",
    "```\n",
    "... logging to ~/.ros/log/9cf88ce4-b14d-11df-8a75-00251148e8cf/roslaunch-machine_name-13039.log\n",
    "Checking log directory for disk usage. This may take awhile.\n",
    "Press Ctrl-C to interrupt\n",
    "Done checking log file disk usage. Usage is <1GB.\n",
    "\n",
    "started roslaunch server http://machine_name:33919/\n",
    "ros_comm version 1.4.7\n",
    "\n",
    "SUMMARY\n",
    "======\n",
    "\n",
    "PARAMETERS\n",
    " * /rosversion\n",
    " * /rosdistro\n",
    "\n",
    "NODES\n",
    "\n",
    "auto-starting new master\n",
    "process[master]: started with pid [13054]\n",
    "ROS_MASTER_URI=http://machine_name:11311/\n",
    "\n",
    "setting /run_id to 9cf88ce4-b14d-11df-8a75-00251148e8cf\n",
    "process[rosout-1]: started with pid [13067]\n",
    "started core service [/rosout]\n",
    "```"
   ]
  },
  {
   "cell_type": "code",
   "execution_count": 4,
   "metadata": {},
   "outputs": [],
   "source": [
    "# !roscore"
   ]
  },
  {
   "cell_type": "markdown",
   "metadata": {},
   "source": [
    "## Using rosnode"
   ]
  },
  {
   "cell_type": "code",
   "execution_count": 5,
   "metadata": {},
   "outputs": [
    {
     "name": "stdout",
     "output_type": "stream",
     "text": [
      "/rosout\r\n"
     ]
    }
   ],
   "source": [
    "!rosnode list"
   ]
  },
  {
   "cell_type": "code",
   "execution_count": 6,
   "metadata": {},
   "outputs": [
    {
     "name": "stdout",
     "output_type": "stream",
     "text": [
      "--------------------------------------------------------------------------------\r\n",
      "Node [/rosout]\r\n",
      "Publications: \r\n",
      " * /rosout_agg [rosgraph_msgs/Log]\r\n",
      "\r\n",
      "Subscriptions: \r\n",
      " * /rosout [unknown type]\r\n",
      "\r\n",
      "Services: \r\n",
      " * /rosout/get_loggers\r\n",
      " * /rosout/set_logger_level\r\n",
      "\r\n",
      "\r\n",
      "contacting node http://wei-Lenovo-Legion:46495/ ...\r\n",
      "Pid: 71\r\n",
      "\r\n"
     ]
    }
   ],
   "source": [
    "!rosnode info /rosout"
   ]
  },
  {
   "cell_type": "markdown",
   "metadata": {},
   "source": [
    "## Using rosrun\n",
    "```\n",
    "$ rosrun [package_name] [node_name]\n",
    "```"
   ]
  },
  {
   "cell_type": "code",
   "execution_count": 7,
   "metadata": {},
   "outputs": [
    {
     "name": "stdout",
     "output_type": "stream",
     "text": [
      "\u001b[0m[ INFO] [1520501208.536579766]: Starting turtlesim with node name /turtlesim\u001b[0m\n",
      "\u001b[0m[ INFO] [1520501208.542915287]: Spawning turtle [turtle1] at x=[5.544445], y=[5.544445], theta=[0.000000]\u001b[0m\n",
      "libGL error: No matching fbConfigs or visuals found\n",
      "libGL error: failed to load driver: swrast\n",
      "Could not initialize OpenGL for RasterGLSurface, reverting to RasterSurface.\n"
     ]
    }
   ],
   "source": [
    "!rosrun turtlesim turtlesim_node"
   ]
  },
  {
   "cell_type": "code",
   "execution_count": 15,
   "metadata": {},
   "outputs": [
    {
     "name": "stdout",
     "output_type": "stream",
     "text": [
      "/rosout\r\n",
      "/turtlesim\r\n"
     ]
    }
   ],
   "source": [
    "!rosnode list"
   ]
  },
  {
   "cell_type": "markdown",
   "metadata": {},
   "source": [
    "### cleaning the rosnode list "
   ]
  },
  {
   "cell_type": "code",
   "execution_count": 16,
   "metadata": {},
   "outputs": [],
   "source": [
    "!rosnode cleanup"
   ]
  },
  {
   "cell_type": "code",
   "execution_count": 17,
   "metadata": {},
   "outputs": [
    {
     "name": "stdout",
     "output_type": "stream",
     "text": [
      "/rosout\r\n"
     ]
    }
   ],
   "source": [
    "!rosnode list"
   ]
  },
  {
   "cell_type": "markdown",
   "metadata": {},
   "source": [
    "### reassign node name"
   ]
  },
  {
   "cell_type": "code",
   "execution_count": 10,
   "metadata": {},
   "outputs": [
    {
     "name": "stdout",
     "output_type": "stream",
     "text": [
      "\u001b[0m[ INFO] [1520501310.453577618]: Starting turtlesim with node name /my_turtle\u001b[0m\n",
      "\u001b[0m[ INFO] [1520501310.460234289]: Spawning turtle [turtle1] at x=[5.544445], y=[5.544445], theta=[0.000000]\u001b[0m\n",
      "libGL error: No matching fbConfigs or visuals found\n",
      "libGL error: failed to load driver: swrast\n",
      "Could not initialize OpenGL for RasterGLSurface, reverting to RasterSurface.\n"
     ]
    }
   ],
   "source": [
    "!rosrun turtlesim turtlesim_node __name:=my_turtle"
   ]
  },
  {
   "cell_type": "code",
   "execution_count": 18,
   "metadata": {},
   "outputs": [
    {
     "name": "stdout",
     "output_type": "stream",
     "text": [
      "/my_turtle\r\n",
      "/rosout\r\n"
     ]
    }
   ],
   "source": [
    "!rosnode list"
   ]
  },
  {
   "cell_type": "code",
   "execution_count": 19,
   "metadata": {},
   "outputs": [
    {
     "name": "stdout",
     "output_type": "stream",
     "text": [
      "rosnode: node is [/my_turtle]\n",
      "pinging /my_turtle with a timeout of 3.0s\n",
      "xmlrpc reply from http://wei-Lenovo-Legion:38823/\ttime=0.458002ms\n",
      "xmlrpc reply from http://wei-Lenovo-Legion:38823/\ttime=1.152992ms\n",
      "xmlrpc reply from http://wei-Lenovo-Legion:38823/\ttime=1.074076ms\n",
      "xmlrpc reply from http://wei-Lenovo-Legion:38823/\ttime=1.182079ms\n",
      "xmlrpc reply from http://wei-Lenovo-Legion:38823/\ttime=1.186132ms\n",
      "xmlrpc reply from http://wei-Lenovo-Legion:38823/\ttime=1.332045ms\n",
      "xmlrpc reply from http://wei-Lenovo-Legion:38823/\ttime=1.177073ms\n",
      "xmlrpc reply from http://wei-Lenovo-Legion:38823/\ttime=1.174927ms\n",
      "xmlrpc reply from http://wei-Lenovo-Legion:38823/\ttime=1.188040ms\n",
      "xmlrpc reply from http://wei-Lenovo-Legion:38823/\ttime=1.205921ms\n",
      "xmlrpc reply from http://wei-Lenovo-Legion:38823/\ttime=1.161814ms\n",
      "xmlrpc reply from http://wei-Lenovo-Legion:38823/\ttime=0.624895ms\n",
      "xmlrpc reply from http://wei-Lenovo-Legion:38823/\ttime=1.194954ms\n",
      "^C\n",
      "ping average: 1.085611ms\n"
     ]
    }
   ],
   "source": [
    "!rosnode ping my_turtle"
   ]
  },
  {
   "cell_type": "markdown",
   "metadata": {},
   "source": [
    "## Review\n",
    "What was covered:\n",
    "\n",
    "- roscore = ros+core : master (provides name service for ROS) + rosout (stdout/stderr) + parameter server (parameter server will be introduced later)\n",
    "- rosnode = ros+node : ROS tool to get information about a node.\n",
    "- rosrun = ros+run : runs a node from a given package."
   ]
  }
 ],
 "metadata": {
  "kernelspec": {
   "display_name": "Python 3",
   "language": "python",
   "name": "python3"
  },
  "language_info": {
   "codemirror_mode": {
    "name": "ipython",
    "version": 3
   },
   "file_extension": ".py",
   "mimetype": "text/x-python",
   "name": "python",
   "nbconvert_exporter": "python",
   "pygments_lexer": "ipython3",
   "version": "3.6.4"
  }
 },
 "nbformat": 4,
 "nbformat_minor": 2
}
