{
 "cells": [
  {
   "cell_type": "markdown",
   "metadata": {},
   "source": [
    "# 12. Writing a Simple Publisher and Subscriber (Python)\n",
    "http://wiki.ros.org/ROS/Tutorials/WritingPublisherSubscriber%28python%29"
   ]
  },
  {
   "cell_type": "markdown",
   "metadata": {},
   "source": [
    "## setup environment"
   ]
  },
  {
   "cell_type": "code",
   "execution_count": 1,
   "metadata": {},
   "outputs": [
    {
     "data": {
      "text/plain": [
       "'/home/pi/notebooks/Tutorials/1_Core_ROS_Tutorials/Beginner_Level'"
      ]
     },
     "execution_count": 1,
     "metadata": {},
     "output_type": "execute_result"
    }
   ],
   "source": [
    "import os\n",
    "import sys \n",
    "\n",
    "home_dir = os.getcwd()\n",
    "home_dir"
   ]
  },
  {
   "cell_type": "code",
   "execution_count": 2,
   "metadata": {},
   "outputs": [],
   "source": [
    "# get ROS related environment variables\n",
    "envs = !printenv | grep ROS \n",
    "ROS_ENVs = {}\n",
    "\n",
    "for env in envs:\n",
    "    env = env.split('=')\n",
    "    [k, v] = env\n",
    "    ROS_ENVs[k] = v\n",
    "\n",
    "ROS_ENVs['LD_LIBRARY_PATH'] = '/opt/ros/kinetic/lib'\n",
    "ROS_ENVs['PKG_CONFIG_PATH'] = '/opt/ros/kinetic/lib/pkgconfig'\n",
    "ROS_ENVs['CMAKE_PREFIX_PATH'] = '/opt/ros/kinetic'  \n",
    "del ROS_ENVs['PWD']"
   ]
  },
  {
   "cell_type": "code",
   "execution_count": 3,
   "metadata": {},
   "outputs": [],
   "source": [
    "# define workspace path\n",
    "ws_dir = 'catkin_ws'\n",
    "ws_dir_abs = os.path.join(home_dir, ws_dir)\n",
    "src_dir_abs = os.path.join(ws_dir_abs, 'src') \n",
    "\n",
    "# append environment paths\n",
    "def gen_paths(ws_dir_abs, src_dir_abs):\n",
    "    paths = {}\n",
    "    paths['ROS_PACKAGE_PATH'] = src_dir_abs\n",
    "    paths['LD_LIBRARY_PATH'] = os.path.join(ws_dir_abs + 'devel/lib')\n",
    "    paths['ROSLISP_PACKAGE_DIRECTORIES'] = os.path.join(ws_dir_abs + 'devel/share/common-lisp')\n",
    "    paths['PKG_CONFIG_PATH'] = os.path.join(ws_dir_abs + 'devel/lib/pkgconfig')\n",
    "    paths['CMAKE_PREFIX_PATH'] = os.path.join(ws_dir_abs + 'devel/lib')\n",
    "    paths['LD_LIBRARY_PATH'] = os.path.join(ws_dir_abs + 'devel')\n",
    "    return paths\n",
    "\n",
    "def append_paths(ROS_ENVs, paths): \n",
    "    for path in ROS_ENVs.keys():\n",
    "        os.environ[path] = ROS_ENVs[path]\n",
    "        if path in paths.keys():\n",
    "            os.environ[path] = '{}:{}'.format(paths[path], os.environ[path])\n",
    "\n",
    "append_paths(ROS_ENVs, \n",
    "             gen_paths(ws_dir_abs, src_dir_abs))"
   ]
  },
  {
   "cell_type": "code",
   "execution_count": 4,
   "metadata": {},
   "outputs": [
    {
     "data": {
      "text/plain": [
       "'/home/pi/notebooks/Tutorials/1_Core_ROS_Tutorials/Beginner_Level/catkin_ws/src/beginner_tutorials'"
      ]
     },
     "execution_count": 4,
     "metadata": {},
     "output_type": "execute_result"
    }
   ],
   "source": [
    "# define package name and path\n",
    "package_name = 'beginner_tutorials'\n",
    "\n",
    "package_dir_abs = !rospack find {package_name}\n",
    "package_dir_abs = package_dir_abs[0]\n",
    "package_dir_abs"
   ]
  },
  {
   "cell_type": "markdown",
   "metadata": {},
   "source": [
    "## Writing the Publisher Node\n",
    "\"Node\" is the ROS term for an executable that is connected to the ROS network. Here we'll create the publisher (\"talker\") node which will continually broadcast a message.\n",
    "\n",
    "Change directory into the beginner_tutorials package, you created in the earlier tutorial, creating a package:"
   ]
  },
  {
   "cell_type": "code",
   "execution_count": 5,
   "metadata": {},
   "outputs": [
    {
     "name": "stdout",
     "output_type": "stream",
     "text": [
      "/home/pi/notebooks/Tutorials/1_Core_ROS_Tutorials/Beginner_Level/catkin_ws/src/beginner_tutorials\n"
     ]
    }
   ],
   "source": [
    "cd {package_dir_abs}"
   ]
  },
  {
   "cell_type": "markdown",
   "metadata": {},
   "source": [
    "### The Code\n",
    "First lets create a 'scripts' folder to store our Python scripts in:"
   ]
  },
  {
   "cell_type": "code",
   "execution_count": 6,
   "metadata": {},
   "outputs": [],
   "source": [
    "mkdir -p scripts"
   ]
  },
  {
   "cell_type": "code",
   "execution_count": 7,
   "metadata": {},
   "outputs": [
    {
     "name": "stdout",
     "output_type": "stream",
     "text": [
      "/home/pi/notebooks/Tutorials/1_Core_ROS_Tutorials/Beginner_Level/catkin_ws/src/beginner_tutorials/scripts\n"
     ]
    }
   ],
   "source": [
    "cd scripts"
   ]
  },
  {
   "cell_type": "markdown",
   "metadata": {},
   "source": [
    "Then download the example script talker.py to your new scripts directory and make it executable:"
   ]
  },
  {
   "cell_type": "code",
   "execution_count": 9,
   "metadata": {},
   "outputs": [
    {
     "name": "stdout",
     "output_type": "stream",
     "text": [
      "--2018-03-10 21:06:50--  https://raw.github.com/ros/ros_tutorials/kinetic-devel/rospy_tutorials/001_talker_listener/talker.py\n",
      "Resolving raw.github.com (raw.github.com)... 151.101.0.133, 151.101.64.133, 151.101.128.133, ...\n",
      "Connecting to raw.github.com (raw.github.com)|151.101.0.133|:443... connected.\n",
      "HTTP request sent, awaiting response... 301 Moved Permanently\n",
      "Location: https://raw.githubusercontent.com/ros/ros_tutorials/kinetic-devel/rospy_tutorials/001_talker_listener/talker.py [following]\n",
      "--2018-03-10 21:06:51--  https://raw.githubusercontent.com/ros/ros_tutorials/kinetic-devel/rospy_tutorials/001_talker_listener/talker.py\n",
      "Resolving raw.githubusercontent.com (raw.githubusercontent.com)... 151.101.0.133, 151.101.64.133, 151.101.128.133, ...\n",
      "Connecting to raw.githubusercontent.com (raw.githubusercontent.com)|151.101.0.133|:443... connected.\n",
      "HTTP request sent, awaiting response... 200 OK\n",
      "Length: 2217 (2.2K) [text/plain]\n",
      "Saving to: 'talker.py'\n",
      "\n",
      "talker.py           100%[===================>]   2.17K  --.-KB/s    in 0s      \n",
      "\n",
      "2018-03-10 21:06:52 (9.41 MB/s) - 'talker.py' saved [2217/2217]\n",
      "\n"
     ]
    }
   ],
   "source": [
    "!wget https://raw.github.com/ros/ros_tutorials/kinetic-devel/rospy_tutorials/001_talker_listener/talker.py"
   ]
  },
  {
   "cell_type": "code",
   "execution_count": 11,
   "metadata": {},
   "outputs": [],
   "source": [
    "!chmod +x talker.py"
   ]
  },
  {
   "cell_type": "code",
   "execution_count": 12,
   "metadata": {},
   "outputs": [
    {
     "name": "stdout",
     "output_type": "stream",
     "text": [
      "#!/usr/bin/env python\r\n",
      "# Software License Agreement (BSD License)\r\n",
      "#\r\n",
      "# Copyright (c) 2008, Willow Garage, Inc.\r\n",
      "# All rights reserved.\r\n",
      "#\r\n",
      "# Redistribution and use in source and binary forms, with or without\r\n",
      "# modification, are permitted provided that the following conditions\r\n",
      "# are met:\r\n",
      "#\r\n",
      "#  * Redistributions of source code must retain the above copyright\r\n",
      "#    notice, this list of conditions and the following disclaimer.\r\n",
      "#  * Redistributions in binary form must reproduce the above\r\n",
      "#    copyright notice, this list of conditions and the following\r\n",
      "#    disclaimer in the documentation and/or other materials provided\r\n",
      "#    with the distribution.\r\n",
      "#  * Neither the name of Willow Garage, Inc. nor the names of its\r\n",
      "#    contributors may be used to endorse or promote products derived\r\n",
      "#    from this software without specific prior written permission.\r\n",
      "#\r\n",
      "# THIS SOFTWARE IS PROVIDED BY THE COPYRIGHT HOLDERS AND CONTRIBUTORS\r\n",
      "# \"AS IS\" AND ANY EXPRESS OR IMPLIED WARRANTIES, INCLUDING, BUT NOT\r\n",
      "# LIMITED TO, THE IMPLIED WARRANTIES OF MERCHANTABILITY AND FITNESS\r\n",
      "# FOR A PARTICULAR PURPOSE ARE DISCLAIMED. IN NO EVENT SHALL THE\r\n",
      "# COPYRIGHT OWNER OR CONTRIBUTORS BE LIABLE FOR ANY DIRECT, INDIRECT,\r\n",
      "# INCIDENTAL, SPECIAL, EXEMPLARY, OR CONSEQUENTIAL DAMAGES (INCLUDING,\r\n",
      "# BUT NOT LIMITED TO, PROCUREMENT OF SUBSTITUTE GOODS OR SERVICES;\r\n",
      "# LOSS OF USE, DATA, OR PROFITS; OR BUSINESS INTERRUPTION) HOWEVER\r\n",
      "# CAUSED AND ON ANY THEORY OF LIABILITY, WHETHER IN CONTRACT, STRICT\r\n",
      "# LIABILITY, OR TORT (INCLUDING NEGLIGENCE OR OTHERWISE) ARISING IN\r\n",
      "# ANY WAY OUT OF THE USE OF THIS SOFTWARE, EVEN IF ADVISED OF THE\r\n",
      "# POSSIBILITY OF SUCH DAMAGE.\r\n",
      "#\r\n",
      "# Revision $Id$\r\n",
      "\r\n",
      "## Simple talker demo that published std_msgs/Strings messages\r\n",
      "## to the 'chatter' topic\r\n",
      "\r\n",
      "import rospy\r\n",
      "from std_msgs.msg import String\r\n",
      "\r\n",
      "def talker():\r\n",
      "    pub = rospy.Publisher('chatter', String, queue_size=10)\r\n",
      "    rospy.init_node('talker', anonymous=True)\r\n",
      "    rate = rospy.Rate(10) # 10hz\r\n",
      "    while not rospy.is_shutdown():\r\n",
      "        hello_str = \"hello world %s\" % rospy.get_time()\r\n",
      "        rospy.loginfo(hello_str)\r\n",
      "        pub.publish(hello_str)\r\n",
      "        rate.sleep()\r\n",
      "\r\n",
      "if __name__ == '__main__':\r\n",
      "    try:\r\n",
      "        talker()\r\n",
      "    except rospy.ROSInterruptException:\r\n",
      "        pass\r\n"
     ]
    }
   ],
   "source": [
    "cat talker.py"
   ]
  },
  {
   "cell_type": "markdown",
   "metadata": {},
   "source": [
    "### The Code Explained\n",
    "Now, let's break the code down.\n",
    "```\n",
    "#!/usr/bin/env python\n",
    "```\n",
    "\n",
    "Every Python ROS Node will have this declaration at the top. The first line makes sure your script is executed as a Python script.\n",
    "```\n",
    "import rospy\n",
    "from std_msgs.msg import String\n",
    "```\n",
    "You need to import rospy if you are writing a ROS Node. The std_msgs.msg import is so that we can reuse the std_msgs/String message type (a simple string container) for publishing.\n",
    "```\n",
    "pub = rospy.Publisher('chatter', String, queue_size=10)\n",
    "rospy.init_node('talker', anonymous=True)\n",
    "```    \n",
    "This section of code defines the talker's interface to the rest of ROS.  \n",
    "pub = rospy.Publisher(\"chatter\", String, queue_size=10) declares that your node is publishing to the chatter topic using the message type String. String here is actually the class std_msgs.msg.String.  \n",
    "The queue_size argument is New in ROS hydro and limits the amount of queued messages if any subscriber is not receiving them fast enough. In older ROS distributions just omit the argument.\n",
    "\n",
    "The next line, rospy.init_node(NAME, ...), is very important as it tells rospy the **name of your node** -- until rospy has this information, it cannot start communicating with the ROS Master. In this case, your node will take on the name talker. NOTE: the name must be a base name, i.e. it cannot contain any slashes \"/\".\n",
    "\n",
    "**anonymous = True** ensures that your node has a unique name by adding random numbers to the end of NAME. Refer to [Initialization and Shutdown - Initializing your ROS Node](http://wiki.ros.org/rospy/Overview/Initialization%20and%20Shutdown#Initializing_your_ROS_Node) in the rospy documentation for more information about node initialization options.\n",
    "```\n",
    "rate = rospy.Rate(10) # 10hz\n",
    "```\n",
    "\n",
    "This line creates a Rate object rate. With the help of its method sleep(), it offers a convenient way for looping at the desired rate. With its argument of 10, we should expect to go through the loop 10 times per second (as long as our processing time does not exceed 1/10th of a second!)\n",
    "```\n",
    " while not rospy.is_shutdown():\n",
    "    hello_str = \"hello world %s\" % rospy.get_time()\n",
    "    rospy.loginfo(hello_str)\n",
    "    pub.publish(hello_str)\n",
    "    rate.sleep()\n",
    "```\n",
    "\n",
    "This loop is a fairly standard rospy construct: checking the ***rospy.is_shutdown()*** flag and then doing work. You have to check is_shutdown() to check if your program should exit (e.g. if there is a Ctrl-C or otherwise). In this case, the \"work\" is a call to pub.publish(hello_str) that publishes a string to our chatter topic.  \n",
    "\n",
    "The loop calls **rate.sleep()**, which sleeps just long enough to maintain the desired rate through the loop.\n",
    "\n",
    "(You may also run across rospy.sleep() which is similar to time.sleep() except that it works with simulated time as well (see Clock).)\n",
    "\n",
    "This loop also calls **rospy.loginfo(str)**, which performs triple-duty: the messages get printed to screen, it gets written to the Node's log file, and it gets written to rosout. **rosout** is a handy for debugging: you can pull up messages using **rqt_console** instead of having to find the console window with your Node's output.\n",
    "\n",
    "**std_msgs.msg.String** is a very simple message type, so you may be wondering what it looks like to publish more complicated types. The general rule of thumb is that constructor args are in the same order as in the .msg file. You can also pass in no arguments and initialize the fields directly, e.g.\n",
    "```\n",
    "msg = String()\n",
    "msg.data = str\n",
    "```\n",
    "\n",
    "or you can initialize some of the fields and leave the rest with default values:\n",
    "```\n",
    "String(data=str)\n",
    "```\n",
    "\n",
    "You may be wondering about the last little bit:\n",
    "```\n",
    "try:\n",
    "    talker()\n",
    "except rospy.ROSInterruptException:\n",
    "    pass\n",
    "```        \n",
    "In addition to the standard Python __main__ check, this catches a rospy.ROSInterruptException exception, which can be thrown by rospy.sleep() and rospy.Rate.sleep() methods when Ctrl-C is pressed or your Node is otherwise shutdown. The reason this exception is raised is so that you don't accidentally continue executing code after the sleep().\n",
    "\n",
    "Now we need to write a node to receive the messages."
   ]
  },
  {
   "cell_type": "markdown",
   "metadata": {},
   "source": [
    "## Writing the Subscriber Node \n",
    "Download the listener.py file into your scripts directory:"
   ]
  },
  {
   "cell_type": "code",
   "execution_count": 13,
   "metadata": {},
   "outputs": [
    {
     "name": "stdout",
     "output_type": "stream",
     "text": [
      "/home/pi/notebooks/Tutorials/1_Core_ROS_Tutorials/Beginner_Level/catkin_ws/src/beginner_tutorials\n"
     ]
    }
   ],
   "source": [
    "cd {package_dir_abs}"
   ]
  },
  {
   "cell_type": "code",
   "execution_count": 14,
   "metadata": {},
   "outputs": [],
   "source": [
    "mkdir -p scripts"
   ]
  },
  {
   "cell_type": "code",
   "execution_count": 15,
   "metadata": {},
   "outputs": [
    {
     "name": "stdout",
     "output_type": "stream",
     "text": [
      "/home/pi/notebooks/Tutorials/1_Core_ROS_Tutorials/Beginner_Level/catkin_ws/src/beginner_tutorials/scripts\n"
     ]
    }
   ],
   "source": [
    "cd scripts"
   ]
  },
  {
   "cell_type": "code",
   "execution_count": 16,
   "metadata": {},
   "outputs": [
    {
     "name": "stdout",
     "output_type": "stream",
     "text": [
      "--2018-03-10 21:32:08--  https://raw.github.com/ros/ros_tutorials/kinetic-devel/rospy_tutorials/001_talker_listener/listener.py\n",
      "Resolving raw.github.com (raw.github.com)... 151.101.0.133, 151.101.64.133, 151.101.128.133, ...\n",
      "Connecting to raw.github.com (raw.github.com)|151.101.0.133|:443... connected.\n",
      "HTTP request sent, awaiting response... 301 Moved Permanently\n",
      "Location: https://raw.githubusercontent.com/ros/ros_tutorials/kinetic-devel/rospy_tutorials/001_talker_listener/listener.py [following]\n",
      "--2018-03-10 21:32:09--  https://raw.githubusercontent.com/ros/ros_tutorials/kinetic-devel/rospy_tutorials/001_talker_listener/listener.py\n",
      "Resolving raw.githubusercontent.com (raw.githubusercontent.com)... 151.101.0.133, 151.101.64.133, 151.101.128.133, ...\n",
      "Connecting to raw.githubusercontent.com (raw.githubusercontent.com)|151.101.0.133|:443... connected.\n",
      "HTTP request sent, awaiting response... 200 OK\n",
      "Length: 2406 (2.3K) [text/plain]\n",
      "Saving to: 'listener.py'\n",
      "\n",
      "listener.py         100%[===================>]   2.35K  --.-KB/s    in 0s      \n",
      "\n",
      "2018-03-10 21:32:10 (14.9 MB/s) - 'listener.py' saved [2406/2406]\n",
      "\n"
     ]
    }
   ],
   "source": [
    "!wget https://raw.github.com/ros/ros_tutorials/kinetic-devel/rospy_tutorials/001_talker_listener/listener.py"
   ]
  },
  {
   "cell_type": "code",
   "execution_count": 17,
   "metadata": {},
   "outputs": [],
   "source": [
    "!chmod +x listener.py"
   ]
  },
  {
   "cell_type": "code",
   "execution_count": 18,
   "metadata": {},
   "outputs": [
    {
     "name": "stdout",
     "output_type": "stream",
     "text": [
      "#!/usr/bin/env python\r\n",
      "# Software License Agreement (BSD License)\r\n",
      "#\r\n",
      "# Copyright (c) 2008, Willow Garage, Inc.\r\n",
      "# All rights reserved.\r\n",
      "#\r\n",
      "# Redistribution and use in source and binary forms, with or without\r\n",
      "# modification, are permitted provided that the following conditions\r\n",
      "# are met:\r\n",
      "#\r\n",
      "#  * Redistributions of source code must retain the above copyright\r\n",
      "#    notice, this list of conditions and the following disclaimer.\r\n",
      "#  * Redistributions in binary form must reproduce the above\r\n",
      "#    copyright notice, this list of conditions and the following\r\n",
      "#    disclaimer in the documentation and/or other materials provided\r\n",
      "#    with the distribution.\r\n",
      "#  * Neither the name of Willow Garage, Inc. nor the names of its\r\n",
      "#    contributors may be used to endorse or promote products derived\r\n",
      "#    from this software without specific prior written permission.\r\n",
      "#\r\n",
      "# THIS SOFTWARE IS PROVIDED BY THE COPYRIGHT HOLDERS AND CONTRIBUTORS\r\n",
      "# \"AS IS\" AND ANY EXPRESS OR IMPLIED WARRANTIES, INCLUDING, BUT NOT\r\n",
      "# LIMITED TO, THE IMPLIED WARRANTIES OF MERCHANTABILITY AND FITNESS\r\n",
      "# FOR A PARTICULAR PURPOSE ARE DISCLAIMED. IN NO EVENT SHALL THE\r\n",
      "# COPYRIGHT OWNER OR CONTRIBUTORS BE LIABLE FOR ANY DIRECT, INDIRECT,\r\n",
      "# INCIDENTAL, SPECIAL, EXEMPLARY, OR CONSEQUENTIAL DAMAGES (INCLUDING,\r\n",
      "# BUT NOT LIMITED TO, PROCUREMENT OF SUBSTITUTE GOODS OR SERVICES;\r\n",
      "# LOSS OF USE, DATA, OR PROFITS; OR BUSINESS INTERRUPTION) HOWEVER\r\n",
      "# CAUSED AND ON ANY THEORY OF LIABILITY, WHETHER IN CONTRACT, STRICT\r\n",
      "# LIABILITY, OR TORT (INCLUDING NEGLIGENCE OR OTHERWISE) ARISING IN\r\n",
      "# ANY WAY OUT OF THE USE OF THIS SOFTWARE, EVEN IF ADVISED OF THE\r\n",
      "# POSSIBILITY OF SUCH DAMAGE.\r\n",
      "#\r\n",
      "# Revision $Id$\r\n",
      "\r\n",
      "## Simple talker demo that listens to std_msgs/Strings published \r\n",
      "## to the 'chatter' topic\r\n",
      "\r\n",
      "import rospy\r\n",
      "from std_msgs.msg import String\r\n",
      "\r\n",
      "def callback(data):\r\n",
      "    rospy.loginfo(rospy.get_caller_id() + 'I heard %s', data.data)\r\n",
      "\r\n",
      "def listener():\r\n",
      "\r\n",
      "    # In ROS, nodes are uniquely named. If two nodes with the same\r\n",
      "    # name are launched, the previous one is kicked off. The\r\n",
      "    # anonymous=True flag means that rospy will choose a unique\r\n",
      "    # name for our 'listener' node so that multiple listeners can\r\n",
      "    # run simultaneously.\r\n",
      "    rospy.init_node('listener', anonymous=True)\r\n",
      "\r\n",
      "    rospy.Subscriber('chatter', String, callback)\r\n",
      "\r\n",
      "    # spin() simply keeps python from exiting until this node is stopped\r\n",
      "    rospy.spin()\r\n",
      "\r\n",
      "if __name__ == '__main__':\r\n",
      "    listener()\r\n"
     ]
    }
   ],
   "source": [
    "cat listener.py"
   ]
  },
  {
   "cell_type": "markdown",
   "metadata": {},
   "source": [
    "### The Code Explained\n",
    "The code for listener.py is similar to talker.py, except we've introduced a new callback-based mechanism for subscribing to messages.\n",
    "```\n",
    "rospy.init_node('listener', anonymous=True)\n",
    "rospy.Subscriber(\"chatter\", String, callback)\n",
    "\n",
    "# spin() simply keeps python from exiting until this node is stopped\n",
    "rospy.spin()\n",
    "```\n",
    "\n",
    "This declares that your node subscribes to the chatter topic which is of type ***std_msgs.msgs.String***. **When new messages are received, callback is invoked with the message as the first argument**.\n",
    "\n",
    "We also changed up the call to **rospy.init_node()** somewhat. We've added the ***anonymous=True*** keyword argument. ROS requires that each node have a unique name. ***If a node with the same name comes up, it bumps the previous one. This is so that malfunctioning nodes can easily be kicked off the network***. The ***anonymous=True*** flag tells rospy to generate a unique name for the node so that you can have multiple listener.py nodes run easily.\n",
    "\n",
    "The final addition, **rospy.spin()** simply keeps your node from exiting until the node has been shutdown. Unlike roscpp, **rospy.spin() does not affect the subscriber callback functions**, as those have their own threads.\n",
    "\n",
    "## Building your nodes\n",
    "We use CMake as our build system and, yes, you have to use it even for Python nodes. This is to make sure that the autogenerated Python code for messages and services is created.\n",
    "\n",
    "Go to your catkin workspace and run catkin_make:"
   ]
  },
  {
   "cell_type": "code",
   "execution_count": 19,
   "metadata": {},
   "outputs": [
    {
     "name": "stdout",
     "output_type": "stream",
     "text": [
      "/home/pi/notebooks/Tutorials/1_Core_ROS_Tutorials/Beginner_Level/catkin_ws\n"
     ]
    }
   ],
   "source": [
    "cd {ws_dir_abs}"
   ]
  },
  {
   "cell_type": "code",
   "execution_count": 21,
   "metadata": {},
   "outputs": [
    {
     "name": "stdout",
     "output_type": "stream",
     "text": [
      "Base path: /home/pi/notebooks/Tutorials/1_Core_ROS_Tutorials/Beginner_Level/catkin_ws\n",
      "Source space: /home/pi/notebooks/Tutorials/1_Core_ROS_Tutorials/Beginner_Level/catkin_ws/src\n",
      "Build space: /home/pi/notebooks/Tutorials/1_Core_ROS_Tutorials/Beginner_Level/catkin_ws/build\n",
      "Devel space: /home/pi/notebooks/Tutorials/1_Core_ROS_Tutorials/Beginner_Level/catkin_ws/devel\n",
      "Install space: /home/pi/notebooks/Tutorials/1_Core_ROS_Tutorials/Beginner_Level/catkin_ws/install\n",
      "\u001b[34m####\u001b[0m\n",
      "\u001b[34m#### Running command: \u001b[1m\"make cmake_check_build_system\"\u001b[0m\u001b[34m in \u001b[1m\"/home/pi/notebooks/Tutorials/1_Core_ROS_Tutorials/Beginner_Level/catkin_ws/build\"\u001b[0m\n",
      "\u001b[34m####\u001b[0m\n",
      "\u001b[34m####\u001b[0m\n",
      "\u001b[34m#### Running command: \u001b[1m\"make -j2 -l2\"\u001b[0m\u001b[34m in \u001b[1m\"/home/pi/notebooks/Tutorials/1_Core_ROS_Tutorials/Beginner_Level/catkin_ws/build\"\u001b[0m\n",
      "\u001b[34m####\u001b[0m\n",
      "[  0%] Built target std_msgs_generate_messages_eus\n",
      "[  0%] Built target _beginner_tutorials_generate_messages_check_deps_AddTwoInts\n",
      "[  0%] Built target _beginner_tutorials_generate_messages_check_deps_Num\n",
      "[  0%] Built target std_msgs_generate_messages_lisp\n",
      "[  0%] Built target std_msgs_generate_messages_nodejs\n",
      "[  0%] Built target std_msgs_generate_messages_cpp\n",
      "[  0%] Built target std_msgs_generate_messages_py\n",
      "[ 23%] Built target beginner_tutorials_generate_messages_eus\n",
      "[ 38%] Built target beginner_tutorials_generate_messages_lisp\n",
      "[ 53%] Built target beginner_tutorials_generate_messages_nodejs\n",
      "[ 84%] Built target beginner_tutorials_generate_messages_py\n",
      "[100%] Built target beginner_tutorials_generate_messages_cpp\n",
      "[100%] Built target beginner_tutorials_generate_messages\n"
     ]
    }
   ],
   "source": [
    "!catkin_make"
   ]
  }
 ],
 "metadata": {
  "kernelspec": {
   "display_name": "Python 3",
   "language": "python",
   "name": "python3"
  },
  "language_info": {
   "codemirror_mode": {
    "name": "ipython",
    "version": 3
   },
   "file_extension": ".py",
   "mimetype": "text/x-python",
   "name": "python",
   "nbconvert_exporter": "python",
   "pygments_lexer": "ipython3",
   "version": "3.6.4"
  }
 },
 "nbformat": 4,
 "nbformat_minor": 2
}
