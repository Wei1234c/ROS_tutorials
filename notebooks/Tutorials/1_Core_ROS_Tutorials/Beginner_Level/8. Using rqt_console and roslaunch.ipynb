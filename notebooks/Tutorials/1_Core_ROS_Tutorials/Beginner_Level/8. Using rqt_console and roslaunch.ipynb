{
 "cells": [
  {
   "cell_type": "markdown",
   "metadata": {},
   "source": [
    "# 8. Using rqt_console and roslaunch\n",
    "http://wiki.ros.org/ROS/Tutorials/UsingRqtconsoleRoslaunch"
   ]
  },
  {
   "cell_type": "code",
   "execution_count": 1,
   "metadata": {},
   "outputs": [
    {
     "data": {
      "text/plain": [
       "'/home/pi/notebooks/Tutorials/1_Core_ROS_Tutorials'"
      ]
     },
     "execution_count": 1,
     "metadata": {},
     "output_type": "execute_result"
    }
   ],
   "source": [
    "import os\n",
    "import sys\n",
    "\n",
    "home_dir = os.getcwd()\n",
    "home_dir"
   ]
  },
  {
   "cell_type": "code",
   "execution_count": 2,
   "metadata": {},
   "outputs": [],
   "source": [
    "# get ROS related environment variables\n",
    "envs = !printenv | grep ROS \n",
    "ROS_ENVs = {}\n",
    "\n",
    "for env in envs:\n",
    "    env = env.split('=')\n",
    "    [k, v] = env\n",
    "    ROS_ENVs[k] = v\n",
    "\n",
    "ROS_ENVs['LD_LIBRARY_PATH'] = '/opt/ros/kinetic/lib'\n",
    "ROS_ENVs['PKG_CONFIG_PATH'] = '/opt/ros/kinetic/lib/pkgconfig'\n",
    "ROS_ENVs['CMAKE_PREFIX_PATH'] = '/opt/ros/kinetic'  \n",
    "del ROS_ENVs['PWD']"
   ]
  },
  {
   "cell_type": "markdown",
   "metadata": {},
   "source": [
    "## Setup\n",
    "### roscore\n",
    "Let's start by making sure that we have roscore running:  \n",
    "\n",
    "open a new terminal window, run a ROS Docker container with:\n",
    "```\n",
    "docker run -it --rm \\\n",
    "\t--net=host \\\n",
    "\t-v /tmp/.X11-unix:/tmp/.X11-unix \\\n",
    "\t-e DISPLAY=unix$DISPLAY \\\n",
    "\t--cap-add=SYS_ADMIN \\\n",
    "\t--device /dev/snd \\\n",
    "\t--device /dev/dri \\\n",
    "\t-v /dev/shm:/dev/shm \\\n",
    "\t-p 11311:11311 \\\n",
    "\twei1234c/ros_ubuntu_amd64\n",
    "```\n",
    "\n",
    "in the container, run roscore:\n",
    "```\n",
    "$ roscore\n",
    "```"
   ]
  },
  {
   "cell_type": "markdown",
   "metadata": {},
   "source": [
    "### turtlesim\n",
    "For this tutorial we will also use turtlesim.  \n",
    "open a new terminal window, run a ROS Docker container with:\n",
    "```\n",
    "docker run -it --rm \\\n",
    "\t--net=host \\\n",
    "\t-v /tmp/.X11-unix:/tmp/.X11-unix \\\n",
    "\t-e DISPLAY=unix$DISPLAY \\\n",
    "\t--cap-add=SYS_ADMIN \\\n",
    "\t--device /dev/snd \\\n",
    "\t--device /dev/dri \\\n",
    "\t-v /dev/shm:/dev/shm \\\n",
    "\t-p 11311:11311 \\\n",
    "\twei1234c/ros_ubuntu_amd64\n",
    "```\n",
    "\n",
    "in the container, run:\n",
    "```\n",
    "$ rosrun turtlesim turtlesim_node\n",
    "```"
   ]
  },
  {
   "cell_type": "markdown",
   "metadata": {},
   "source": [
    "### turtle keyboard teleoperation\n",
    "We'll also need something to drive the turtle around with.  \n",
    "\n",
    "open a new terminal window, run a ROS Docker container with:\n",
    "```\n",
    "docker run -it --rm \\\n",
    "\t--net=host \\\n",
    "\t-v /tmp/.X11-unix:/tmp/.X11-unix \\\n",
    "\t-e DISPLAY=unix$DISPLAY \\\n",
    "\t--cap-add=SYS_ADMIN \\\n",
    "\t--device /dev/snd \\\n",
    "\t--device /dev/dri \\\n",
    "\t-v /dev/shm:/dev/shm \\\n",
    "\t-p 11311:11311 \\\n",
    "\twei1234c/ros_ubuntu_amd64\n",
    "```\n",
    "\n",
    "in the container, run:\n",
    "```\n",
    "$ rosrun turtlesim turtle_teleop_key\n",
    "```\n",
    "\n",
    "Now you can use the arrow keys of the keyboard to drive the turtle around. If you can not drive the turtle, **select the terminal window of the turtle_teleop_key** to make sure that the keys that you type are recorded."
   ]
  },
  {
   "cell_type": "markdown",
   "metadata": {},
   "source": [
    "## Prerequisites rqt and turtlesim package\n",
    "The tutorial uses both the rqt and turtlesim packages. To do this tutorial, please install both packages, if you have not yet done so.\n",
    "```\n",
    "$ sudo apt-get install ros-kinetic-rqt ros-kinetic-rqt-common-plugins ros-kinetic-turtlesim\n",
    "``` \n",
    "\n",
    "### Using rqt_console and rqt_logger_level  \n",
    "rqt_console attaches to ROS's logging framework to display output from nodes. rqt_logger_level allows us to change the verbosity level (DEBUG, WARN, INFO, and ERROR) of nodes as they run.\n",
    "\n",
    "Now let's look at the turtlesim output in **rqt_console** and switch logger levels in **rqt_logger_level** as we use turtlesim. Before we start the turtlesim, in two new terminals start rqt_console and rqt_logger_level:"
   ]
  },
  {
   "cell_type": "markdown",
   "metadata": {},
   "source": [
    "### run rqt_console\n",
    "open a new terminal window, run a ROS Docker container with:\n",
    "```\n",
    "docker run -it --rm \\\n",
    "\t--net=host \\\n",
    "\t-v /tmp/.X11-unix:/tmp/.X11-unix \\\n",
    "\t-e DISPLAY=unix$DISPLAY \\\n",
    "\t--cap-add=SYS_ADMIN \\\n",
    "\t--device /dev/snd \\\n",
    "\t--device /dev/dri \\\n",
    "\t-v /dev/shm:/dev/shm \\\n",
    "\t-p 11311:11311 \\\n",
    "\twei1234c/ros_ubuntu_amd64\n",
    "```\n",
    "\n",
    "in the container, run:\n",
    "```\n",
    "$ rosrun rqt_console rqt_console\n",
    "```  \n",
    "\n",
    "<img src='http://wiki.ros.org/ROS/Tutorials/UsingRqtconsoleRoslaunch?action=AttachFile&do=get&target=rqt_console%28start%29.png'>"
   ]
  },
  {
   "cell_type": "markdown",
   "metadata": {},
   "source": [
    "### run rqt_logger_level\n",
    "\n",
    "open a new terminal window, run a ROS Docker container with:\n",
    "```\n",
    "docker run -it --rm \\\n",
    "\t--net=host \\\n",
    "\t-v /tmp/.X11-unix:/tmp/.X11-unix \\\n",
    "\t-e DISPLAY=unix$DISPLAY \\\n",
    "\t--cap-add=SYS_ADMIN \\\n",
    "\t--device /dev/snd \\\n",
    "\t--device /dev/dri \\\n",
    "\t-v /dev/shm:/dev/shm \\\n",
    "\t-p 11311:11311 \\\n",
    "\twei1234c/ros_ubuntu_amd64\n",
    "```\n",
    "\n",
    "in the container, run:\n",
    "```\n",
    "$ rosrun rqt_logger_level rqt_logger_level\n",
    "```    \n",
    "\n",
    "<img src='http://wiki.ros.org/ROS/Tutorials/UsingRqtconsoleRoslaunch?action=AttachFile&do=get&target=rqt_logger_level.png'>"
   ]
  },
  {
   "cell_type": "markdown",
   "metadata": {},
   "source": [
    "Now let's change the logger level to Warn by refreshing the nodes in the rqt_logger_level window and selecting Warn as shown below:\n",
    "<img src='http://wiki.ros.org/ROS/Tutorials/UsingRqtconsoleRoslaunch?action=AttachFile&do=get&target=rqt_logger_level%28error%29.png'>"
   ]
  },
  {
   "cell_type": "markdown",
   "metadata": {},
   "source": [
    "Now let's run our turtle into the wall and see what is displayed in our rqt_console:"
   ]
  },
  {
   "cell_type": "code",
   "execution_count": 3,
   "metadata": {},
   "outputs": [
    {
     "name": "stdout",
     "output_type": "stream",
     "text": [
      "^C\r\n"
     ]
    }
   ],
   "source": [
    "!rostopic pub /turtle1/cmd_vel geometry_msgs/Twist -r 1 -- '{linear: {x: 2.0, y: 0.0, z: 0.0}, angular: {x: 0.0,y: 0.0,z: 0.0}}'"
   ]
  },
  {
   "cell_type": "markdown",
   "metadata": {},
   "source": [
    "<img src='http://wiki.ros.org/ROS/Tutorials/UsingRqtconsoleRoslaunch?action=AttachFile&do=get&target=rqt_console%28turtlesimerror%29.png'>"
   ]
  },
  {
   "cell_type": "markdown",
   "metadata": {},
   "source": [
    "### Quick Note about logger levels\n",
    "Logging levels are prioritized in the following order:\n",
    "```\n",
    "Fatal\n",
    "Error\n",
    "Warn\n",
    "Info\n",
    "Debug\n",
    "```\n",
    "\n",
    "Fatal has the highest priority and Debug has the lowest. By setting the logger level, you will get all messages of that priority level or higher. For example, by setting the level to Warn, you will get all Warn, Error, and Fatal logging messages."
   ]
  },
  {
   "cell_type": "markdown",
   "metadata": {},
   "source": [
    "### Using roslaunch\n",
    "roslaunch starts nodes as defined in a launch file.\n",
    "\n",
    "Usage:\n",
    "```\n",
    "$ roslaunch [package] [filename.launch]\n",
    "```\n",
    "First go to the beginner_tutorials package we created and built earlier:\n",
    "\n",
    "\n"
   ]
  },
  {
   "cell_type": "code",
   "execution_count": 3,
   "metadata": {},
   "outputs": [],
   "source": [
    "import os\n",
    "\n",
    "# define workspace path\n",
    "ws_dir = 'catkin_ws'\n",
    "ws_dir_abs = os.path.join(home_dir, ws_dir)\n",
    "src_dir_abs = os.path.join(ws_dir_abs, 'src') \n",
    "\n",
    "# append environment paths\n",
    "def gen_paths(ws_dir_abs, src_dir_abs):\n",
    "    paths = {}\n",
    "    paths['ROS_PACKAGE_PATH'] = src_dir_abs\n",
    "    paths['LD_LIBRARY_PATH'] = os.path.join(ws_dir_abs + 'devel/lib')\n",
    "    paths['ROSLISP_PACKAGE_DIRECTORIES'] = os.path.join(ws_dir_abs + 'devel/share/common-lisp')\n",
    "    paths['PKG_CONFIG_PATH'] = os.path.join(ws_dir_abs + 'devel/lib/pkgconfig')\n",
    "    paths['CMAKE_PREFIX_PATH'] = os.path.join(ws_dir_abs + 'devel/lib')\n",
    "    paths['LD_LIBRARY_PATH'] = os.path.join(ws_dir_abs + 'devel')\n",
    "    return paths\n",
    "\n",
    "def append_paths(ROS_ENVs, paths): \n",
    "    for path in ROS_ENVs.keys():\n",
    "        os.environ[path] = ROS_ENVs[path]\n",
    "        if path in paths.keys():\n",
    "            os.environ[path] = '{}:{}'.format(paths[path], os.environ[path])\n",
    "\n",
    "append_paths(ROS_ENVs, \n",
    "             gen_paths(ws_dir_abs, src_dir_abs))"
   ]
  },
  {
   "cell_type": "code",
   "execution_count": 5,
   "metadata": {},
   "outputs": [
    {
     "data": {
      "text/plain": [
       "'/home/pi/notebooks/Tutorials/1_Core_ROS_Tutorials/catkin_ws/src/beginner_tutorials'"
      ]
     },
     "execution_count": 5,
     "metadata": {},
     "output_type": "execute_result"
    }
   ],
   "source": [
    "# find package path\n",
    "package_name = 'beginner_tutorials'\n",
    "\n",
    "package_dir_abs = !rospack find {package_name}\n",
    "package_dir_abs = package_dir_abs[0]\n",
    "package_dir_abs"
   ]
  },
  {
   "cell_type": "code",
   "execution_count": 6,
   "metadata": {},
   "outputs": [
    {
     "name": "stdout",
     "output_type": "stream",
     "text": [
      "/home/pi/notebooks/Tutorials/1_Core_ROS_Tutorials/catkin_ws/src/beginner_tutorials\n"
     ]
    }
   ],
   "source": [
    "cd {package_dir_abs}"
   ]
  },
  {
   "cell_type": "markdown",
   "metadata": {},
   "source": [
    "make a launch directory:"
   ]
  },
  {
   "cell_type": "code",
   "execution_count": 7,
   "metadata": {},
   "outputs": [],
   "source": [
    "mkdir launch"
   ]
  },
  {
   "cell_type": "code",
   "execution_count": 8,
   "metadata": {},
   "outputs": [
    {
     "name": "stdout",
     "output_type": "stream",
     "text": [
      "/home/pi/notebooks/Tutorials/1_Core_ROS_Tutorials/catkin_ws/src/beginner_tutorials/launch\n"
     ]
    }
   ],
   "source": [
    "cd launch"
   ]
  },
  {
   "cell_type": "markdown",
   "metadata": {},
   "source": [
    "create a launch file called **turtlemimic.launch** and paste the following:"
   ]
  },
  {
   "cell_type": "code",
   "execution_count": 9,
   "metadata": {},
   "outputs": [],
   "source": [
    "text = '''\n",
    "<launch>\n",
    "\n",
    "  <group ns=\"turtlesim1\">\n",
    "    <node pkg=\"turtlesim\" name=\"sim\" type=\"turtlesim_node\"/>\n",
    "  </group>\n",
    "\n",
    "  <group ns=\"turtlesim2\">\n",
    "    <node pkg=\"turtlesim\" name=\"sim\" type=\"turtlesim_node\"/>\n",
    "  </group>\n",
    "\n",
    "  <node pkg=\"turtlesim\" name=\"mimic\" type=\"mimic\">\n",
    "    <remap from=\"input\" to=\"turtlesim1/turtle1\"/>\n",
    "    <remap from=\"output\" to=\"turtlesim2/turtle1\"/>\n",
    "  </node>\n",
    "\n",
    "</launch>\n",
    "'''\n",
    "\n",
    "file_name = 'turtlemimic.launch'\n",
    "\n",
    "with open(file_name, 'w') as f:\n",
    "    f.writelines(text)"
   ]
  },
  {
   "cell_type": "markdown",
   "metadata": {},
   "source": [
    "Here we start two groups with a namespace tag of turtlesim1 and turtlesim2 with a turtlesim node with a name of sim. This allows us to start two simulators without having name conflicts.\n",
    "```\n",
    "  <group ns=\"turtlesim1\">\n",
    "    <node pkg=\"turtlesim\" name=\"sim\" type=\"turtlesim_node\"/>\n",
    "  </group>\n",
    "\n",
    "  <group ns=\"turtlesim2\">\n",
    "    <node pkg=\"turtlesim\" name=\"sim\" type=\"turtlesim_node\"/>\n",
    "  </group>\n",
    "```"
   ]
  },
  {
   "cell_type": "markdown",
   "metadata": {},
   "source": [
    "Here we start the mimic node with the topics input and output renamed to turtlesim1 and turtlesim2. This renaming will cause turtlesim2 to mimic turtlesim1.\n",
    "```\n",
    "  <node pkg=\"turtlesim\" name=\"mimic\" type=\"mimic\">\n",
    "    <remap from=\"input\" to=\"turtlesim1/turtle1\"/>\n",
    "    <remap from=\"output\" to=\"turtlesim2/turtle1\"/>\n",
    "  </node>\n",
    "```"
   ]
  },
  {
   "cell_type": "markdown",
   "metadata": {},
   "source": [
    "### roslaunching\n",
    "Now let's roslaunch the launch file:"
   ]
  },
  {
   "cell_type": "code",
   "execution_count": null,
   "metadata": {},
   "outputs": [
    {
     "name": "stdout",
     "output_type": "stream",
     "text": [
      "... logging to /home/pi/.ros/log/a01a9306-233f-11e8-b375-0242d121c5a4/roslaunch-wei-Lenovo-Legion-1580.log\n",
      "Checking log directory for disk usage. This may take awhile.\n",
      "Press Ctrl-C to interrupt\n",
      "Done checking log file disk usage. Usage is <1GB.\n",
      "\u001b]2;/home/pi/notebooks/Tutorials/1_Core_ROS_Tutorials/catkin_ws/src/beginner_tutorials/launch/turtlemimic.launch\u0007\n",
      "\u001b[1mstarted roslaunch server http://wei-Lenovo-Legion:34065/\u001b[0m\n",
      "\n",
      "SUMMARY\n",
      "========\n",
      "\n",
      "PARAMETERS\n",
      " * /rosdistro: kinetic\n",
      " * /rosversion: 1.12.12\n",
      "\n",
      "NODES\n",
      "  /\n",
      "    mimic (turtlesim/mimic)\n",
      "  /turtlesim1/\n",
      "    sim (turtlesim/turtlesim_node)\n",
      "  /turtlesim2/\n",
      "    sim (turtlesim/turtlesim_node)\n",
      "\n",
      "\u001b[1mROS_MASTER_URI=http://localhost:11311\u001b[0m\n",
      "\u001b]2;/home/pi/notebooks/Tutorials/1_Core_ROS_Tutorials/catkin_ws/src/beginner_tutorials/launch/turtlemimic.launch http://localhost:11311\u0007\n",
      "\u001b[1mprocess[turtlesim1/sim-1]: started with pid [1589]\u001b[0m\n",
      "libGL error: No matching fbConfigs or visuals found\n",
      "libGL error: failed to load driver: swrast\n",
      "Could not initialize OpenGL for RasterGLSurface, reverting to RasterSurface.\n",
      "\u001b[1mprocess[turtlesim2/sim-2]: started with pid [1590]\u001b[0m\n",
      "libGL error: No matching fbConfigs or visuals found\n",
      "libGL error: failed to load driver: swrast\n",
      "Could not initialize OpenGL for RasterGLSurface, reverting to RasterSurface.\n",
      "\u001b[1mprocess[mimic-3]: started with pid [1601]\u001b[0m\n",
      "^C\n",
      "[mimic-3] killing on exit\n",
      "[turtlesim2/sim-2] killing on exit\n",
      "[turtlesim1/sim-1] killing on exit\n"
     ]
    }
   ],
   "source": [
    "!roslaunch {package_name} turtlemimic.launch"
   ]
  },
  {
   "cell_type": "markdown",
   "metadata": {},
   "source": [
    "Two turtlesims will start and in a new terminal send the rostopic command:\n",
    "\n",
    "For ROS Hydro and later,"
   ]
  },
  {
   "cell_type": "markdown",
   "metadata": {},
   "source": [
    "open a new terminal window, run a ROS Docker container with:\n",
    "```\n",
    "docker run -it --rm \\\n",
    "\t--net=host \\\n",
    "\t-v /tmp/.X11-unix:/tmp/.X11-unix \\\n",
    "\t-e DISPLAY=unix$DISPLAY \\\n",
    "\t--cap-add=SYS_ADMIN \\\n",
    "\t--device /dev/snd \\\n",
    "\t--device /dev/dri \\\n",
    "\t-v /dev/shm:/dev/shm \\\n",
    "\t-p 11311:11311 \\\n",
    "\twei1234c/ros_ubuntu_amd64\n",
    "```\n",
    "\n",
    "in the container, run:\n",
    "```\n",
    "$rostopic pub /turtlesim1/turtle1/cmd_vel geometry_msgs/Twist -r 1 -- '[2.0, 0.0, 0.0]' '[0.0, 0.0, -1.8]'\n",
    "```"
   ]
  },
  {
   "cell_type": "markdown",
   "metadata": {},
   "source": [
    "We can also use rqt_graph to better understand what our launch file did. Run rqt's main window and select Plugins > Introspection > Node Graph:\n",
    "\n",
    "```\n",
    "$ rqt\n",
    "``` \n",
    "\n",
    "Or simply:\n",
    "\n",
    "``` \n",
    "$ rqt_graph\n",
    "```\n",
    "\n",
    "<img src='http://wiki.ros.org/ROS/Tutorials/UsingRqtconsoleRoslaunch?action=AttachFile&do=get&target=mimiclaunch.jpg'>"
   ]
  }
 ],
 "metadata": {
  "kernelspec": {
   "display_name": "Python 3",
   "language": "python",
   "name": "python3"
  },
  "language_info": {
   "codemirror_mode": {
    "name": "ipython",
    "version": 3
   },
   "file_extension": ".py",
   "mimetype": "text/x-python",
   "name": "python",
   "nbconvert_exporter": "python",
   "pygments_lexer": "ipython3",
   "version": "3.6.4"
  }
 },
 "nbformat": 4,
 "nbformat_minor": 2
}
