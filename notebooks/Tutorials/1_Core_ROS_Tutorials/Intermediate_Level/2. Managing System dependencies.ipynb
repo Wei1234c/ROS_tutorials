{
 "cells": [
  {
   "cell_type": "markdown",
   "metadata": {},
   "source": [
    "# 2. Managing System dependencies\n",
    "http://wiki.ros.org/ROS/Tutorials/rosdep"
   ]
  },
  {
   "cell_type": "markdown",
   "metadata": {},
   "source": [
    "## setup environment"
   ]
  },
  {
   "cell_type": "code",
   "execution_count": 1,
   "metadata": {},
   "outputs": [
    {
     "data": {
      "text/plain": [
       "'/home/pi/notebooks/Tutorials/1_Core_ROS_Tutorials/Intermediate_Level'"
      ]
     },
     "execution_count": 1,
     "metadata": {},
     "output_type": "execute_result"
    }
   ],
   "source": [
    "import os\n",
    "import sys \n",
    "\n",
    "home_dir = os.getcwd()\n",
    "home_dir"
   ]
  },
  {
   "cell_type": "code",
   "execution_count": 2,
   "metadata": {},
   "outputs": [],
   "source": [
    "# get ROS related environment variables\n",
    "envs = !printenv | grep ROS \n",
    "ROS_ENVs = {}\n",
    "\n",
    "for env in envs:\n",
    "    env = env.split('=')\n",
    "    [k, v] = env\n",
    "    ROS_ENVs[k] = v\n",
    "\n",
    "ROS_ENVs['LD_LIBRARY_PATH'] = '/opt/ros/kinetic/lib'\n",
    "ROS_ENVs['PKG_CONFIG_PATH'] = '/opt/ros/kinetic/lib/pkgconfig'\n",
    "ROS_ENVs['CMAKE_PREFIX_PATH'] = '/opt/ros/kinetic'  \n",
    "del ROS_ENVs['PWD']"
   ]
  },
  {
   "cell_type": "code",
   "execution_count": 3,
   "metadata": {},
   "outputs": [],
   "source": [
    "# define workspace path\n",
    "ws_dir = 'catkin_ws'\n",
    "ws_dir_abs = os.path.join(home_dir, ws_dir)\n",
    "src_dir_abs = os.path.join(ws_dir_abs, 'src') \n",
    "\n",
    "# append environment paths\n",
    "def gen_paths(ws_dir_abs, src_dir_abs):\n",
    "    paths = {}\n",
    "    paths['ROS_PACKAGE_PATH'] = src_dir_abs\n",
    "    paths['LD_LIBRARY_PATH'] = os.path.join(ws_dir_abs + 'devel/lib')\n",
    "    paths['ROSLISP_PACKAGE_DIRECTORIES'] = os.path.join(ws_dir_abs + 'devel/share/common-lisp')\n",
    "    paths['PKG_CONFIG_PATH'] = os.path.join(ws_dir_abs + 'devel/lib/pkgconfig')\n",
    "    paths['CMAKE_PREFIX_PATH'] = os.path.join(ws_dir_abs + 'devel/lib')\n",
    "    paths['LD_LIBRARY_PATH'] = os.path.join(ws_dir_abs + 'devel')\n",
    "    return paths\n",
    "\n",
    "def append_paths(ROS_ENVs, paths): \n",
    "    for path in ROS_ENVs.keys():\n",
    "        os.environ[path] = ROS_ENVs[path]\n",
    "        if path in paths.keys():\n",
    "            os.environ[path] = '{}:{}'.format(paths[path], os.environ[path])\n",
    "\n",
    "append_paths(ROS_ENVs, \n",
    "             gen_paths(ws_dir_abs, src_dir_abs))"
   ]
  },
  {
   "cell_type": "markdown",
   "metadata": {},
   "source": [
    "## System Dependencies\n",
    "ROS packages sometimes require external libraries and tools that must be provided by the operating system. These required libraries and tools are commonly referred to as system dependencies. In some cases these system dependencies are not installed by default. ROS provides a simple tool, ***rosdep***, that is used to download and install system dependencies.\n",
    "\n",
    "ROS packages must declare that they need these system dependencies in the package manifest. Let's look at the manifest for the turtlesim package:"
   ]
  },
  {
   "cell_type": "code",
   "execution_count": 4,
   "metadata": {},
   "outputs": [],
   "source": [
    "path = !rospack find rospy\n",
    "path = path[0]"
   ]
  },
  {
   "cell_type": "code",
   "execution_count": 5,
   "metadata": {},
   "outputs": [
    {
     "name": "stdout",
     "output_type": "stream",
     "text": [
      "/opt/ros/kinetic/share/rospy\n"
     ]
    }
   ],
   "source": [
    "cd {path}"
   ]
  },
  {
   "cell_type": "code",
   "execution_count": 6,
   "metadata": {
    "scrolled": false
   },
   "outputs": [
    {
     "name": "stdout",
     "output_type": "stream",
     "text": [
      "<package>\r\n",
      "  <name>rospy</name>\r\n",
      "  <version>1.12.12</version>\r\n",
      "  <description>\r\n",
      "    rospy is a pure Python client library for ROS. The rospy client\r\n",
      "    API enables Python programmers to quickly interface with ROS <a\r\n",
      "    href=\"http://ros.org/wiki/Topics\">Topics</a>, <a\r\n",
      "    href=\"http://ros.org/wiki/Services\">Services</a>, and <a\r\n",
      "    href=\"http://ros.org/wiki/Parameter Server\">Parameters</a>. The\r\n",
      "    design of rospy favors implementation speed (i.e. developer\r\n",
      "    time) over runtime performance so that algorithms can be quickly\r\n",
      "    prototyped and tested within ROS. It is also ideal for\r\n",
      "    non-critical-path code, such as configuration and initialization\r\n",
      "    code. Many of the ROS tools are written in rospy to take\r\n",
      "    advantage of the type introspection capabilities.\r\n",
      "\r\n",
      "    Many of the ROS tools, such\r\n",
      "    as <a href=\"http://ros.org/wiki/rostopic\">rostopic</a>\r\n",
      "    and <a href=\"http://ros.org/wiki/rosservice\">rosservice</a>, are\r\n",
      "    built on top of rospy.\r\n",
      "  </description>\r\n",
      "  <maintainer email=\"dthomas@osrfoundation.org\">Dirk Thomas</maintainer>\r\n",
      "  <license>BSD</license>\r\n",
      "\r\n",
      "  <url>http://ros.org/wiki/rospy</url>\r\n",
      "  <author>Ken Conley</author>\r\n",
      "\r\n",
      "  <buildtool_depend version_gte=\"0.5.78\">catkin</buildtool_depend>\r\n",
      "\r\n",
      "  <run_depend>genpy</run_depend>\r\n",
      "  <run_depend>python-numpy</run_depend>\r\n",
      "  <run_depend>python-rospkg</run_depend>\r\n",
      "  <run_depend>python-yaml</run_depend>\r\n",
      "  <run_depend>roscpp</run_depend>\r\n",
      "  <run_depend>rosgraph</run_depend>\r\n",
      "  <run_depend version_gte=\"1.10.3\">rosgraph_msgs</run_depend>\r\n",
      "  <run_depend>roslib</run_depend>\r\n",
      "  <run_depend>std_msgs</run_depend>\r\n",
      "\r\n",
      "  <export>\r\n",
      "    <rosdoc config=\"rosdoc.yaml\"/>\r\n",
      "    <architecture_independent/>\r\n",
      "  </export>\r\n",
      "</package>\r\n"
     ]
    }
   ],
   "source": [
    "cat package.xml"
   ]
  },
  {
   "cell_type": "code",
   "execution_count": 19,
   "metadata": {},
   "outputs": [
    {
     "name": "stdout",
     "output_type": "stream",
     "text": [
      "genpy\r\n",
      "roscpp\r\n",
      "rosgraph\r\n",
      "rosgraph_msgs\r\n",
      "roslib\r\n",
      "std_msgs\r\n"
     ]
    }
   ],
   "source": [
    "!rospack depends1 rospy"
   ]
  },
  {
   "cell_type": "markdown",
   "metadata": {},
   "source": [
    "### rosdep\n",
    "rosdep is a tool you can use to install system dependencies required by ROS packages.\n",
    "\n",
    "Usage:\n",
    "```\n",
    "rosdep install [package]\n",
    "```"
   ]
  },
  {
   "cell_type": "code",
   "execution_count": 7,
   "metadata": {},
   "outputs": [
    {
     "name": "stdout",
     "output_type": "stream",
     "text": [
      "#All required rosdeps installed successfully\r\n"
     ]
    }
   ],
   "source": [
    "!rosdep install turtlesim"
   ]
  },
  {
   "cell_type": "markdown",
   "metadata": {},
   "source": [
    "If you've been following along with the tutorials, it's likely that this is the first time you've used rosdep. When you run this command, you'll get an error message:\n",
    "```\n",
    "ERROR: your rosdep installation has not been initialized yet.  Please run:\n",
    "\n",
    "    sudo rosdep init\n",
    "    rosdep update\n",
    "```\n",
    "Just run those two commands and then try to install turtlesim's dependencies again.\n",
    "\n",
    "If you installed using binaries you will see: \n",
    "```\n",
    "All required rosdeps installed successfully\n",
    "```\n",
    "Otherwise you will see the output of installing the dependencies of turtlesim:\n",
    "```\n",
    "#!/usr/bin/bash\n",
    "\n",
    "set -o errexit\n",
    "set -o verbose\n",
    "\n",
    "\n",
    "if [ ! -f /opt/ros/lib/libboost_date_time-gcc42-mt*-1_37.a ] ; then\n",
    "  mkdir -p ~/ros/ros-deps\n",
    "  cd ~/ros/ros-deps\n",
    "  wget --tries=10 http://pr.willowgarage.com/downloads/boost_1_37_0.tar.gz\n",
    "  tar xzf boost_1_37_0.tar.gz\n",
    "  cd boost_1_37_0\n",
    "  ./configure --prefix=/opt/ros\n",
    "  make\n",
    "  sudo make install\n",
    "fi\n",
    "\n",
    "\n",
    "if [ ! -f /opt/ros/lib/liblog4cxx.so.10 ] ; then\n",
    "  mkdir -p ~/ros/ros-deps\n",
    "  cd ~/ros/ros-deps\n",
    "  wget --tries=10 http://pr.willowgarage.com/downloads/apache-log4cxx-0.10.0-wg_patched.tar.gz\n",
    "  tar xzf apache-log4cxx-0.10.0-wg_patched.tar.gz\n",
    "  cd apache-log4cxx-0.10.0\n",
    "  ./configure --prefix=/opt/ros\n",
    "  make\n",
    "  sudo make install\n",
    "fi\n",
    "```\n",
    "\n",
    "rosdep runs the bash script above and exits when complete."
   ]
  },
  {
   "cell_type": "markdown",
   "metadata": {},
   "source": [
    "### rosdistro/rosdep\n",
    "While rosdep is the client tool, the reference is provided by rosdep rules, stored online in ros/rosdistro/rosdep on github.\n",
    "\n",
    "When doing\n",
    "\n",
    "\n"
   ]
  },
  {
   "cell_type": "code",
   "execution_count": 9,
   "metadata": {},
   "outputs": [
    {
     "name": "stdout",
     "output_type": "stream",
     "text": [
      "reading in sources list data from /etc/ros/rosdep/sources.list.d\n",
      "Hit https://raw.githubusercontent.com/ros/rosdistro/master/rosdep/osx-homebrew.yaml\n",
      "Hit https://raw.githubusercontent.com/ros/rosdistro/master/rosdep/base.yaml\n",
      "Hit https://raw.githubusercontent.com/ros/rosdistro/master/rosdep/python.yaml\n",
      "Hit https://raw.githubusercontent.com/ros/rosdistro/master/rosdep/ruby.yaml\n",
      "Hit https://raw.githubusercontent.com/ros/rosdistro/master/releases/fuerte.yaml\n",
      "Query rosdistro index https://raw.githubusercontent.com/ros/rosdistro/master/index.yaml\n",
      "Add distro \"groovy\"\n",
      "Add distro \"hydro\"\n",
      "Add distro \"indigo\"\n",
      "Add distro \"jade\"\n",
      "Add distro \"kinetic\"\n",
      "Add distro \"lunar\"\n",
      "Add distro \"melodic\"\n",
      "updated cache in /home/pi/.ros/rosdep/sources.cache\n"
     ]
    }
   ],
   "source": [
    "!rosdep update"
   ]
  },
  {
   "cell_type": "markdown",
   "metadata": {},
   "source": [
    "rosdep actually retrieves the rules from the rosdistro github repository.\n",
    "\n",
    "These rules are used when a dependency is listed that doesn't match the name of a ROS package built on the buildfarm. Then rosdep checks if there exists a rule to resolve it for the proper platform and package manager you are using."
   ]
  },
  {
   "cell_type": "markdown",
   "metadata": {},
   "source": [
    "When creating a new package, you might need to declare new system dependencies to the rosdep rules if there are not there yet. Just edit the file, add the dependency needed (following a strict alphabetical order and a similar structure as the other dependencies already registered) and send a pull request.\n",
    "\n",
    "After that pull request has been merged, you need to run :"
   ]
  },
  {
   "cell_type": "code",
   "execution_count": 10,
   "metadata": {},
   "outputs": [
    {
     "name": "stdout",
     "output_type": "stream",
     "text": [
      "reading in sources list data from /etc/ros/rosdep/sources.list.d\n",
      "Hit https://raw.githubusercontent.com/ros/rosdistro/master/rosdep/osx-homebrew.yaml\n",
      "Hit https://raw.githubusercontent.com/ros/rosdistro/master/rosdep/base.yaml\n",
      "Hit https://raw.githubusercontent.com/ros/rosdistro/master/rosdep/python.yaml\n",
      "Hit https://raw.githubusercontent.com/ros/rosdistro/master/rosdep/ruby.yaml\n",
      "Hit https://raw.githubusercontent.com/ros/rosdistro/master/releases/fuerte.yaml\n",
      "Query rosdistro index https://raw.githubusercontent.com/ros/rosdistro/master/index.yaml\n",
      "Add distro \"groovy\"\n",
      "Add distro \"hydro\"\n",
      "Add distro \"indigo\"\n",
      "Add distro \"jade\"\n",
      "Add distro \"kinetic\"\n",
      "Add distro \"lunar\"\n",
      "Add distro \"melodic\"\n",
      "updated cache in /home/pi/.ros/rosdep/sources.cache\n"
     ]
    }
   ],
   "source": [
    "!rosdep update"
   ]
  },
  {
   "cell_type": "markdown",
   "metadata": {},
   "source": [
    "and now that dependency will be resolved by rosdep.\n",
    "\n",
    "You can test it with :"
   ]
  },
  {
   "cell_type": "code",
   "execution_count": 11,
   "metadata": {},
   "outputs": [
    {
     "name": "stdout",
     "output_type": "stream",
     "text": [
      "#apt\r\n",
      "ros-kinetic-rospy\r\n"
     ]
    }
   ],
   "source": [
    "!rosdep resolve rospy"
   ]
  },
  {
   "cell_type": "markdown",
   "metadata": {},
   "source": [
    "where the first line is the package manager chosen for installing this dependency, and the second line is the actual name for that dependency on your current platform."
   ]
  }
 ],
 "metadata": {
  "kernelspec": {
   "display_name": "Python 3",
   "language": "python",
   "name": "python3"
  },
  "language_info": {
   "codemirror_mode": {
    "name": "ipython",
    "version": 3
   },
   "file_extension": ".py",
   "mimetype": "text/x-python",
   "name": "python",
   "nbconvert_exporter": "python",
   "pygments_lexer": "ipython3",
   "version": "3.6.4"
  }
 },
 "nbformat": 4,
 "nbformat_minor": 2
}
