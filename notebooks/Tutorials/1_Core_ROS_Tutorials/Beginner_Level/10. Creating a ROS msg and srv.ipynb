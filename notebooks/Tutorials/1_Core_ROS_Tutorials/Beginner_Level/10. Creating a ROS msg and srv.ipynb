{
 "cells": [
  {
   "cell_type": "markdown",
   "metadata": {},
   "source": [
    "# 10. Creating a ROS msg and srv\n",
    "http://wiki.ros.org/ROS/Tutorials/CreatingMsgAndSrv"
   ]
  },
  {
   "cell_type": "markdown",
   "metadata": {},
   "source": [
    "## setup environment"
   ]
  },
  {
   "cell_type": "code",
   "execution_count": 1,
   "metadata": {},
   "outputs": [
    {
     "data": {
      "text/plain": [
       "'/home/pi/notebooks/Tutorials/1_Core_ROS_Tutorials/Beginner_Level'"
      ]
     },
     "execution_count": 1,
     "metadata": {},
     "output_type": "execute_result"
    }
   ],
   "source": [
    "import os\n",
    "import sys \n",
    "\n",
    "home_dir = os.getcwd()\n",
    "home_dir"
   ]
  },
  {
   "cell_type": "code",
   "execution_count": 2,
   "metadata": {},
   "outputs": [],
   "source": [
    "# get ROS related environment variables\n",
    "envs = !printenv | grep ROS \n",
    "ROS_ENVs = {}\n",
    "\n",
    "for env in envs:\n",
    "    env = env.split('=')\n",
    "    [k, v] = env\n",
    "    ROS_ENVs[k] = v\n",
    "\n",
    "ROS_ENVs['LD_LIBRARY_PATH'] = '/opt/ros/kinetic/lib'\n",
    "ROS_ENVs['PKG_CONFIG_PATH'] = '/opt/ros/kinetic/lib/pkgconfig'\n",
    "ROS_ENVs['CMAKE_PREFIX_PATH'] = '/opt/ros/kinetic'  \n",
    "del ROS_ENVs['PWD']"
   ]
  },
  {
   "cell_type": "code",
   "execution_count": 3,
   "metadata": {},
   "outputs": [],
   "source": [
    "# define workspace path\n",
    "ws_dir = 'catkin_ws'\n",
    "ws_dir_abs = os.path.join(home_dir, ws_dir)\n",
    "src_dir_abs = os.path.join(ws_dir_abs, 'src') \n",
    "\n",
    "# append environment paths\n",
    "def gen_paths(ws_dir_abs, src_dir_abs):\n",
    "    paths = {}\n",
    "    paths['ROS_PACKAGE_PATH'] = src_dir_abs\n",
    "    paths['LD_LIBRARY_PATH'] = os.path.join(ws_dir_abs + 'devel/lib')\n",
    "    paths['ROSLISP_PACKAGE_DIRECTORIES'] = os.path.join(ws_dir_abs + 'devel/share/common-lisp')\n",
    "    paths['PKG_CONFIG_PATH'] = os.path.join(ws_dir_abs + 'devel/lib/pkgconfig')\n",
    "    paths['CMAKE_PREFIX_PATH'] = os.path.join(ws_dir_abs + 'devel/lib')\n",
    "    paths['LD_LIBRARY_PATH'] = os.path.join(ws_dir_abs + 'devel')\n",
    "    return paths\n",
    "\n",
    "def append_paths(ROS_ENVs, paths): \n",
    "    for path in ROS_ENVs.keys():\n",
    "        os.environ[path] = ROS_ENVs[path]\n",
    "        if path in paths.keys():\n",
    "            os.environ[path] = '{}:{}'.format(paths[path], os.environ[path])\n",
    "\n",
    "append_paths(ROS_ENVs, \n",
    "             gen_paths(ws_dir_abs, src_dir_abs))"
   ]
  },
  {
   "cell_type": "code",
   "execution_count": 4,
   "metadata": {},
   "outputs": [
    {
     "data": {
      "text/plain": [
       "'/home/pi/notebooks/Tutorials/1_Core_ROS_Tutorials/Beginner_Level/catkin_ws/src/beginner_tutorials'"
      ]
     },
     "execution_count": 4,
     "metadata": {},
     "output_type": "execute_result"
    }
   ],
   "source": [
    "# define package name and path\n",
    "package_name = 'beginner_tutorials'\n",
    "\n",
    "package_dir_abs = !rospack find {package_name}\n",
    "package_dir_abs = package_dir_abs[0]\n",
    "package_dir_abs"
   ]
  },
  {
   "cell_type": "markdown",
   "metadata": {},
   "source": [
    "## Introduction to msg and srv\n",
    "- msg: msg files are simple text files that **describe the fields of a ROS message**. They are used to generate source code for messages in different languages.\n",
    "- srv: an srv file describes a service. It is composed of two parts: a request and a response.\n",
    "\n",
    "msg files are stored in the msg directory of a package, and srv files are stored in the srv directory.\n",
    "\n",
    "msgs are just simple text files with a field type and field name per line. The field types you can use are:\n",
    "```\n",
    "int8, int16, int32, int64 (plus uint*)\n",
    "float32, float64\n",
    "string\n",
    "time, duration\n",
    "other msg files\n",
    "variable-length array[] and fixed-length array[C]\n",
    "```\n",
    "There is also a special type in ROS: ***Header***, the header contains a timestamp and coordinate frame information that are commonly used in ROS. You will frequently see the first line in a msg file have Header header.\n",
    "\n",
    "Here is an example of a msg that uses a Header, a string primitive, and two other msgs :\n",
    "```\n",
    "  Header header\n",
    "  string child_frame_id\n",
    "  geometry_msgs/PoseWithCovariance pose\n",
    "  geometry_msgs/TwistWithCovariance twist\n",
    "```\n",
    "\n",
    "srv files are just like msg files, except they contain two parts: a request and a response. The two parts are separated by a '---' line. Here is an example of a srv file:\n",
    "```\n",
    "int64 A\n",
    "int64 B\n",
    "---\n",
    "int64 Sum\n",
    "```\n",
    "\n",
    "In the above example, A and B are the request, and Sum is the response."
   ]
  },
  {
   "cell_type": "markdown",
   "metadata": {},
   "source": [
    "## Using msg\n",
    "Creating a msg\n",
    "Let's define a new msg in the package that was created in the previous tutorial."
   ]
  },
  {
   "cell_type": "code",
   "execution_count": 5,
   "metadata": {},
   "outputs": [
    {
     "name": "stdout",
     "output_type": "stream",
     "text": [
      "/home/pi/notebooks/Tutorials/1_Core_ROS_Tutorials/Beginner_Level/catkin_ws/src/beginner_tutorials\n"
     ]
    }
   ],
   "source": [
    "cd {package_dir_abs}"
   ]
  },
  {
   "cell_type": "code",
   "execution_count": 6,
   "metadata": {},
   "outputs": [],
   "source": [
    "mkdir -p msg"
   ]
  },
  {
   "cell_type": "markdown",
   "metadata": {},
   "source": [
    "#### [package]/msg/"
   ]
  },
  {
   "cell_type": "code",
   "execution_count": 9,
   "metadata": {},
   "outputs": [],
   "source": [
    "# !echo \"int64 num\" > msg/Num.msg"
   ]
  },
  {
   "cell_type": "markdown",
   "metadata": {},
   "source": [
    "#### [package]/msg/Num.msg"
   ]
  },
  {
   "cell_type": "code",
   "execution_count": 11,
   "metadata": {},
   "outputs": [],
   "source": [
    "text = '''int64 num\n",
    "string first_name\n",
    "string last_name\n",
    "uint8 age\n",
    "uint32 score\n",
    "'''\n",
    "\n",
    "file_name = 'msg/Num.msg'\n",
    "\n",
    "with open(file_name, 'w') as f:\n",
    "    f.writelines(text)"
   ]
  },
  {
   "cell_type": "markdown",
   "metadata": {},
   "source": [
    "### package.xml"
   ]
  },
  {
   "cell_type": "markdown",
   "metadata": {},
   "source": [
    "There's one more step, though. We need to make sure that the msg files are turned into source code for C++, Python, and other languages:\n",
    "\n",
    "Open package.xml, and make sure these two lines are in it and uncommented:\n",
    "```\n",
    "<build_depend>message_generation</build_depend>\n",
    "<exec_depend>message_runtime</exec_depend>\n",
    "```"
   ]
  },
  {
   "cell_type": "markdown",
   "metadata": {},
   "source": [
    "### CMakeLists.txt"
   ]
  },
  {
   "cell_type": "markdown",
   "metadata": {},
   "source": [
    "Note that at build time, we need \"message_generation\", while at runtime, we only need \"message_runtime\".\n",
    "\n",
    "Open CMakeLists.txt in your favorite text editor (rosed from the previous tutorial is a good option).\n",
    "\n",
    "Add the message_generation dependency to the ***find_package*** call which already exists in your CMakeLists.txt so that you can generate messages. You can do this by simply adding message_generation to the list of COMPONENTS such that it looks like this:\n",
    "```\n",
    "# Do not just add this to your CMakeLists.txt, modify the existing text to add message_generation before the closing parenthesis\n",
    "find_package(catkin REQUIRED COMPONENTS\n",
    "   roscpp\n",
    "   rospy\n",
    "   std_msgs\n",
    "   message_generation\n",
    ")\n",
    "```\n",
    "\n",
    "You may notice that sometimes your project builds fine even if you did not call find_package with all dependencies. This is because catkin combines all your projects into one, so if an earlier project calls find_package, yours is configured with the same values. But forgetting the call means your project can easily break when built in isolation.\n",
    "\n",
    "Also make sure you export the ***message runtime dependency***.\n",
    "```\n",
    "catkin_package(\n",
    "  ...\n",
    "  CATKIN_DEPENDS message_runtime ...\n",
    "  ...)\n",
    "```  "
   ]
  },
  {
   "cell_type": "markdown",
   "metadata": {},
   "source": [
    "Find the following block of code:\n",
    "```\n",
    "# add_message_files(\n",
    "#   FILES\n",
    "#   Message1.msg\n",
    "#   Message2.msg\n",
    "# )\n",
    "```\n",
    "\n",
    "Uncomment it by removing the # symbols and then replace the stand in Message*.msg files with your .msg file, such that it looks like this:\n",
    "```\n",
    "add_message_files(\n",
    "  FILES\n",
    "  Num.msg\n",
    ")\n",
    "```\n",
    "By adding the .msg files manually, we make sure that CMake knows when it has to reconfigure the project after you add other .msg files.\n",
    "\n",
    "Now we must ensure the generate_messages() function is called.\n",
    "\n",
    "For ROS Hydro and later, you need to uncomment these lines:\n",
    "```\n",
    "# generate_messages(\n",
    "#   DEPENDENCIES\n",
    "#   std_msgs\n",
    "# )\n",
    "```\n",
    "\n",
    "so it looks like:\n",
    "```\n",
    "generate_messages(\n",
    "  DEPENDENCIES\n",
    "  std_msgs\n",
    ")\n",
    "```"
   ]
  },
  {
   "cell_type": "markdown",
   "metadata": {},
   "source": [
    "## Using rosmsg\n",
    "That's all you need to do to create a msg. Let's make sure that ROS can see it using the ***rosmsg show*** command.\n",
    "\n",
    "Usage:  \n",
    "```\n",
    "$ rosmsg show [message type]\n",
    "```\n",
    "Example:"
   ]
  },
  {
   "cell_type": "code",
   "execution_count": 5,
   "metadata": {},
   "outputs": [
    {
     "name": "stdout",
     "output_type": "stream",
     "text": [
      "int64 num\r\n",
      "string first_name\r\n",
      "string last_name\r\n",
      "uint8 age\r\n",
      "uint32 score\r\n",
      "\r\n"
     ]
    }
   ],
   "source": [
    "!rosmsg show beginner_tutorials/Num"
   ]
  },
  {
   "cell_type": "code",
   "execution_count": 6,
   "metadata": {},
   "outputs": [
    {
     "name": "stdout",
     "output_type": "stream",
     "text": [
      "int64 num\r\n",
      "string first_name\r\n",
      "string last_name\r\n",
      "uint8 age\r\n",
      "uint32 score\r\n",
      "\r\n"
     ]
    }
   ],
   "source": [
    "!rosmsg info beginner_tutorials/Num"
   ]
  },
  {
   "cell_type": "markdown",
   "metadata": {},
   "source": [
    "If you can't remember which Package a msg is in, you can leave out the package name. Try:"
   ]
  },
  {
   "cell_type": "code",
   "execution_count": 9,
   "metadata": {},
   "outputs": [
    {
     "name": "stdout",
     "output_type": "stream",
     "text": [
      "[beginner_tutorials/Num]:\r\n",
      "int64 num\r\n",
      "string first_name\r\n",
      "string last_name\r\n",
      "uint8 age\r\n",
      "uint32 score\r\n",
      "\r\n"
     ]
    }
   ],
   "source": [
    "!rosmsg show Num"
   ]
  },
  {
   "cell_type": "markdown",
   "metadata": {},
   "source": [
    "## Using srv\n",
    "Creating a srv\n",
    "Let's use the package we just created to create a srv:"
   ]
  },
  {
   "cell_type": "code",
   "execution_count": 14,
   "metadata": {},
   "outputs": [
    {
     "name": "stdout",
     "output_type": "stream",
     "text": [
      "/home/pi/notebooks/Tutorials/1_Core_ROS_Tutorials/Beginner_Level/catkin_ws/src/beginner_tutorials\n"
     ]
    }
   ],
   "source": [
    "cd {package_dir_abs}"
   ]
  },
  {
   "cell_type": "code",
   "execution_count": 15,
   "metadata": {},
   "outputs": [],
   "source": [
    "mkdir -p srv"
   ]
  },
  {
   "cell_type": "markdown",
   "metadata": {},
   "source": [
    "nstead of creating a new srv definition by hand, we will copy an existing one from another package.\n",
    "\n",
    "For that, roscp is a useful commandline tool for copying files from one package to another.\n",
    "\n",
    "Usage:\n",
    "```\n",
    "$ roscp [package_name] [file_to_copy_path] [copy_path]\n",
    "```\n",
    "Now we can copy a service from the rospy_tutorials package:"
   ]
  },
  {
   "cell_type": "code",
   "execution_count": 24,
   "metadata": {},
   "outputs": [
    {
     "data": {
      "text/plain": [
       "'/opt/ros/kinetic/share/rospy_tutorials'"
      ]
     },
     "execution_count": 24,
     "metadata": {},
     "output_type": "execute_result"
    }
   ],
   "source": [
    "source_path = !rospack find rospy_tutorials\n",
    "source_path = source_path[0]\n",
    "source_path"
   ]
  },
  {
   "cell_type": "code",
   "execution_count": 25,
   "metadata": {},
   "outputs": [],
   "source": [
    "cp  {source_path}/srv/AddTwoInts.srv srv/AddTwoInts.srv"
   ]
  },
  {
   "cell_type": "markdown",
   "metadata": {},
   "source": [
    "There's one more step, though. We need to make sure that the srv files are turned into source code for C++, Python, and other languages.\n",
    "\n",
    "### package.xml\n",
    "Unless you have done so already, open package.xml, and make sure these two lines are in it and uncommented:\n",
    "```\n",
    "  <build_depend>message_generation</build_depend>\n",
    "  <exec_depend>message_runtime</exec_depend>\n",
    "```\n",
    "\n",
    "### CMakeLists.txt\n",
    "As before, note that at build time, we need \"message_generation\", while at runtime, we only need \"message_runtime\".\n",
    "\n",
    "Unless you have done so already for messages in the previous step, add the message_generation dependency to generate messages in CMakeLists.txt:\n",
    "```\n",
    "# Do not just add this line to your CMakeLists.txt, modify the existing line\n",
    "find_package(catkin REQUIRED COMPONENTS\n",
    "  roscpp\n",
    "  rospy\n",
    "  std_msgs\n",
    "  message_generation\n",
    ")\n",
    "```\n",
    "\n",
    "(Despite its name, message_generation works for both msg and srv.)\n",
    "\n",
    "Also you need the same changes to package.xml for services as for messages, so look above for the additional dependencies required.\n",
    "\n",
    "Remove # to uncomment the following lines:\n",
    "```\n",
    "# add_service_files(\n",
    "#   FILES\n",
    "#   Service1.srv\n",
    "#   Service2.srv\n",
    "# )\n",
    "```\n",
    "And replace the placeholder Service*.srv files for your service files:\n",
    "\n",
    "```\n",
    "add_service_files(\n",
    "  FILES\n",
    "  AddTwoInts.srv\n",
    ")\n",
    "```\n",
    "\n",
    "Now you're ready to generate source files from your service definition. If you want to do so right now, skip next sections to Common step for msg and srv."
   ]
  },
  {
   "cell_type": "markdown",
   "metadata": {},
   "source": [
    "## Using rossrv\n",
    "That's all you need to do to create a srv. Let's make sure that ROS can see it using the rossrv show command.\n",
    "\n",
    "Usage:\n",
    "\n",
    "```\n",
    "$ rossrv show <service type>\n",
    "```\n",
    "Example:"
   ]
  },
  {
   "cell_type": "code",
   "execution_count": 26,
   "metadata": {},
   "outputs": [
    {
     "name": "stdout",
     "output_type": "stream",
     "text": [
      "int64 a\r\n",
      "int64 b\r\n",
      "---\r\n",
      "int64 sum\r\n",
      "\r\n"
     ]
    }
   ],
   "source": [
    "!rossrv show beginner_tutorials/AddTwoInts"
   ]
  },
  {
   "cell_type": "markdown",
   "metadata": {},
   "source": [
    "Similar to rosmsg, you can find service files like this without specifying package name:"
   ]
  },
  {
   "cell_type": "code",
   "execution_count": 27,
   "metadata": {},
   "outputs": [
    {
     "name": "stdout",
     "output_type": "stream",
     "text": [
      "[beginner_tutorials/AddTwoInts]:\r\n",
      "int64 a\r\n",
      "int64 b\r\n",
      "---\r\n",
      "int64 sum\r\n",
      "\r\n",
      "[rospy_tutorials/AddTwoInts]:\r\n",
      "int64 a\r\n",
      "int64 b\r\n",
      "---\r\n",
      "int64 sum\r\n",
      "\r\n"
     ]
    }
   ],
   "source": [
    "!rossrv show AddTwoInts"
   ]
  },
  {
   "cell_type": "markdown",
   "metadata": {},
   "source": [
    "## Common step for msg and srv\n",
    "\n",
    "Unless you have already done this in the previous steps, change in CMakeLists.txt. :\n",
    "```\n",
    "# generate_messages(\n",
    "#   DEPENDENCIES\n",
    "# #  std_msgs  # Or other packages containing msgs\n",
    "# )\n",
    "```\n",
    "Uncomment it and add any packages you depend on which contain .msg files that your messages use (in this case std_msgs), such that it looks like this:\n",
    "```\n",
    "generate_messages(\n",
    "  DEPENDENCIES\n",
    "  std_msgs\n",
    ")\n",
    "```\n",
    "Now that we have made some new messages we need to make our package again: "
   ]
  },
  {
   "cell_type": "code",
   "execution_count": 8,
   "metadata": {},
   "outputs": [
    {
     "name": "stdout",
     "output_type": "stream",
     "text": [
      "/home/pi/notebooks/Tutorials/1_Core_ROS_Tutorials/Beginner_Level/catkin_ws\n"
     ]
    }
   ],
   "source": [
    "cd {ws_dir_abs}"
   ]
  },
  {
   "cell_type": "code",
   "execution_count": 6,
   "metadata": {},
   "outputs": [
    {
     "name": "stdout",
     "output_type": "stream",
     "text": [
      "Base path: /home/pi/notebooks/Tutorials/1_Core_ROS_Tutorials/Beginner_Level/catkin_ws\n",
      "Source space: /home/pi/notebooks/Tutorials/1_Core_ROS_Tutorials/Beginner_Level/catkin_ws/src\n",
      "Build space: /home/pi/notebooks/Tutorials/1_Core_ROS_Tutorials/Beginner_Level/catkin_ws/build\n",
      "Devel space: /home/pi/notebooks/Tutorials/1_Core_ROS_Tutorials/Beginner_Level/catkin_ws/devel\n",
      "Install space: /home/pi/notebooks/Tutorials/1_Core_ROS_Tutorials/Beginner_Level/catkin_ws/install\n",
      "\u001b[34m####\u001b[0m\n",
      "\u001b[34m#### Running command: \u001b[1m\"make cmake_check_build_system\"\u001b[0m\u001b[34m in \u001b[1m\"/home/pi/notebooks/Tutorials/1_Core_ROS_Tutorials/Beginner_Level/catkin_ws/build\"\u001b[0m\n",
      "\u001b[34m####\u001b[0m\n",
      "\u001b[34m####\u001b[0m\n",
      "\u001b[34m#### Running command: \u001b[1m\"make install -j2 -l2\"\u001b[0m\u001b[34m in \u001b[1m\"/home/pi/notebooks/Tutorials/1_Core_ROS_Tutorials/Beginner_Level/catkin_ws/build\"\u001b[0m\n",
      "\u001b[34m####\u001b[0m\n",
      "[  0%] Built target std_msgs_generate_messages_eus\n",
      "[  0%] Built target _beginner_tutorials_generate_messages_check_deps_Num\n",
      "[  0%] Built target std_msgs_generate_messages_lisp\n",
      "[  0%] Built target _beginner_tutorials_generate_messages_check_deps_AddTwoInts\n",
      "[  0%] Built target std_msgs_generate_messages_py\n",
      "[  0%] Built target std_msgs_generate_messages_nodejs\n",
      "[ 23%] Built target beginner_tutorials_generate_messages_eus\n",
      "[ 23%] Built target std_msgs_generate_messages_cpp\n",
      "[ 38%] Built target beginner_tutorials_generate_messages_lisp\n",
      "[ 69%] Built target beginner_tutorials_generate_messages_py\n",
      "[ 84%] Built target beginner_tutorials_generate_messages_nodejs\n",
      "[ 92%] \u001b[34m\u001b[1mGenerating C++ code from beginner_tutorials/Num.msg\u001b[0m\n",
      "[100%] \u001b[34m\u001b[1mGenerating C++ code from beginner_tutorials/AddTwoInts.srv\u001b[0m\n",
      "[100%] Built target beginner_tutorials_generate_messages_cpp\n",
      "\u001b[35m\u001b[1mScanning dependencies of target beginner_tutorials_generate_messages\u001b[0m\n",
      "[100%] Built target beginner_tutorials_generate_messages\n",
      "\u001b[36mInstall the project...\u001b[0m\n",
      "-- Install configuration: \"\"\n",
      "-- Installing: /home/pi/notebooks/Tutorials/1_Core_ROS_Tutorials/Beginner_Level/catkin_ws/install/_setup_util.py\n",
      "-- Installing: /home/pi/notebooks/Tutorials/1_Core_ROS_Tutorials/Beginner_Level/catkin_ws/install/env.sh\n",
      "-- Installing: /home/pi/notebooks/Tutorials/1_Core_ROS_Tutorials/Beginner_Level/catkin_ws/install/setup.bash\n",
      "-- Installing: /home/pi/notebooks/Tutorials/1_Core_ROS_Tutorials/Beginner_Level/catkin_ws/install/setup.sh\n",
      "-- Installing: /home/pi/notebooks/Tutorials/1_Core_ROS_Tutorials/Beginner_Level/catkin_ws/install/setup.zsh\n",
      "-- Installing: /home/pi/notebooks/Tutorials/1_Core_ROS_Tutorials/Beginner_Level/catkin_ws/install/.rosinstall\n",
      "-- Installing: /home/pi/notebooks/Tutorials/1_Core_ROS_Tutorials/Beginner_Level/catkin_ws/install/share/beginner_tutorials/msg/Num.msg\n",
      "-- Installing: /home/pi/notebooks/Tutorials/1_Core_ROS_Tutorials/Beginner_Level/catkin_ws/install/share/beginner_tutorials/srv/AddTwoInts.srv\n",
      "-- Installing: /home/pi/notebooks/Tutorials/1_Core_ROS_Tutorials/Beginner_Level/catkin_ws/install/share/beginner_tutorials/cmake/beginner_tutorials-msg-paths.cmake\n",
      "-- Installing: /home/pi/notebooks/Tutorials/1_Core_ROS_Tutorials/Beginner_Level/catkin_ws/install/include/beginner_tutorials\n",
      "-- Installing: /home/pi/notebooks/Tutorials/1_Core_ROS_Tutorials/Beginner_Level/catkin_ws/install/include/beginner_tutorials/AddTwoInts.h\n",
      "-- Installing: /home/pi/notebooks/Tutorials/1_Core_ROS_Tutorials/Beginner_Level/catkin_ws/install/include/beginner_tutorials/AddTwoIntsRequest.h\n",
      "-- Installing: /home/pi/notebooks/Tutorials/1_Core_ROS_Tutorials/Beginner_Level/catkin_ws/install/include/beginner_tutorials/Num.h\n",
      "-- Installing: /home/pi/notebooks/Tutorials/1_Core_ROS_Tutorials/Beginner_Level/catkin_ws/install/include/beginner_tutorials/AddTwoIntsResponse.h\n",
      "-- Installing: /home/pi/notebooks/Tutorials/1_Core_ROS_Tutorials/Beginner_Level/catkin_ws/install/share/roseus/ros/beginner_tutorials\n",
      "-- Installing: /home/pi/notebooks/Tutorials/1_Core_ROS_Tutorials/Beginner_Level/catkin_ws/install/share/roseus/ros/beginner_tutorials/msg\n",
      "-- Installing: /home/pi/notebooks/Tutorials/1_Core_ROS_Tutorials/Beginner_Level/catkin_ws/install/share/roseus/ros/beginner_tutorials/msg/Num.l\n",
      "-- Installing: /home/pi/notebooks/Tutorials/1_Core_ROS_Tutorials/Beginner_Level/catkin_ws/install/share/roseus/ros/beginner_tutorials/srv\n",
      "-- Installing: /home/pi/notebooks/Tutorials/1_Core_ROS_Tutorials/Beginner_Level/catkin_ws/install/share/roseus/ros/beginner_tutorials/srv/AddTwoInts.l\n",
      "-- Installing: /home/pi/notebooks/Tutorials/1_Core_ROS_Tutorials/Beginner_Level/catkin_ws/install/share/roseus/ros/beginner_tutorials/manifest.l\n",
      "-- Installing: /home/pi/notebooks/Tutorials/1_Core_ROS_Tutorials/Beginner_Level/catkin_ws/install/share/common-lisp/ros/beginner_tutorials\n",
      "-- Installing: /home/pi/notebooks/Tutorials/1_Core_ROS_Tutorials/Beginner_Level/catkin_ws/install/share/common-lisp/ros/beginner_tutorials/msg\n",
      "-- Installing: /home/pi/notebooks/Tutorials/1_Core_ROS_Tutorials/Beginner_Level/catkin_ws/install/share/common-lisp/ros/beginner_tutorials/msg/beginner_tutorials-msg.asd\n",
      "-- Installing: /home/pi/notebooks/Tutorials/1_Core_ROS_Tutorials/Beginner_Level/catkin_ws/install/share/common-lisp/ros/beginner_tutorials/msg/_package_Num.lisp\n",
      "-- Installing: /home/pi/notebooks/Tutorials/1_Core_ROS_Tutorials/Beginner_Level/catkin_ws/install/share/common-lisp/ros/beginner_tutorials/msg/Num.lisp\n",
      "-- Installing: /home/pi/notebooks/Tutorials/1_Core_ROS_Tutorials/Beginner_Level/catkin_ws/install/share/common-lisp/ros/beginner_tutorials/msg/_package.lisp\n",
      "-- Installing: /home/pi/notebooks/Tutorials/1_Core_ROS_Tutorials/Beginner_Level/catkin_ws/install/share/common-lisp/ros/beginner_tutorials/srv\n",
      "-- Installing: /home/pi/notebooks/Tutorials/1_Core_ROS_Tutorials/Beginner_Level/catkin_ws/install/share/common-lisp/ros/beginner_tutorials/srv/beginner_tutorials-srv.asd\n",
      "-- Installing: /home/pi/notebooks/Tutorials/1_Core_ROS_Tutorials/Beginner_Level/catkin_ws/install/share/common-lisp/ros/beginner_tutorials/srv/AddTwoInts.lisp\n",
      "-- Installing: /home/pi/notebooks/Tutorials/1_Core_ROS_Tutorials/Beginner_Level/catkin_ws/install/share/common-lisp/ros/beginner_tutorials/srv/_package_AddTwoInts.lisp\n",
      "-- Installing: /home/pi/notebooks/Tutorials/1_Core_ROS_Tutorials/Beginner_Level/catkin_ws/install/share/common-lisp/ros/beginner_tutorials/srv/_package.lisp\n",
      "-- Installing: /home/pi/notebooks/Tutorials/1_Core_ROS_Tutorials/Beginner_Level/catkin_ws/install/share/gennodejs/ros/beginner_tutorials\n",
      "-- Installing: /home/pi/notebooks/Tutorials/1_Core_ROS_Tutorials/Beginner_Level/catkin_ws/install/share/gennodejs/ros/beginner_tutorials/_index.js\n",
      "-- Installing: /home/pi/notebooks/Tutorials/1_Core_ROS_Tutorials/Beginner_Level/catkin_ws/install/share/gennodejs/ros/beginner_tutorials/msg\n",
      "-- Installing: /home/pi/notebooks/Tutorials/1_Core_ROS_Tutorials/Beginner_Level/catkin_ws/install/share/gennodejs/ros/beginner_tutorials/msg/_index.js\n",
      "-- Installing: /home/pi/notebooks/Tutorials/1_Core_ROS_Tutorials/Beginner_Level/catkin_ws/install/share/gennodejs/ros/beginner_tutorials/msg/Num.js\n",
      "-- Installing: /home/pi/notebooks/Tutorials/1_Core_ROS_Tutorials/Beginner_Level/catkin_ws/install/share/gennodejs/ros/beginner_tutorials/srv\n",
      "-- Installing: /home/pi/notebooks/Tutorials/1_Core_ROS_Tutorials/Beginner_Level/catkin_ws/install/share/gennodejs/ros/beginner_tutorials/srv/_index.js\n",
      "-- Installing: /home/pi/notebooks/Tutorials/1_Core_ROS_Tutorials/Beginner_Level/catkin_ws/install/share/gennodejs/ros/beginner_tutorials/srv/AddTwoInts.js\n",
      "Listing '/home/pi/notebooks/Tutorials/1_Core_ROS_Tutorials/Beginner_Level/catkin_ws/devel/lib/python3/dist-packages/beginner_tutorials'...\n",
      "Compiling '/home/pi/notebooks/Tutorials/1_Core_ROS_Tutorials/Beginner_Level/catkin_ws/devel/lib/python3/dist-packages/beginner_tutorials/__init__.py'...\n",
      "Listing '/home/pi/notebooks/Tutorials/1_Core_ROS_Tutorials/Beginner_Level/catkin_ws/devel/lib/python3/dist-packages/beginner_tutorials/msg'...\n",
      "Compiling '/home/pi/notebooks/Tutorials/1_Core_ROS_Tutorials/Beginner_Level/catkin_ws/devel/lib/python3/dist-packages/beginner_tutorials/msg/_Num.py'...\n",
      "Compiling '/home/pi/notebooks/Tutorials/1_Core_ROS_Tutorials/Beginner_Level/catkin_ws/devel/lib/python3/dist-packages/beginner_tutorials/msg/__init__.py'...\n",
      "Listing '/home/pi/notebooks/Tutorials/1_Core_ROS_Tutorials/Beginner_Level/catkin_ws/devel/lib/python3/dist-packages/beginner_tutorials/srv'...\n",
      "Compiling '/home/pi/notebooks/Tutorials/1_Core_ROS_Tutorials/Beginner_Level/catkin_ws/devel/lib/python3/dist-packages/beginner_tutorials/srv/_AddTwoInts.py'...\n",
      "Compiling '/home/pi/notebooks/Tutorials/1_Core_ROS_Tutorials/Beginner_Level/catkin_ws/devel/lib/python3/dist-packages/beginner_tutorials/srv/__init__.py'...\n",
      "-- Installing: /home/pi/notebooks/Tutorials/1_Core_ROS_Tutorials/Beginner_Level/catkin_ws/install/lib/python3/dist-packages/beginner_tutorials\n",
      "-- Installing: /home/pi/notebooks/Tutorials/1_Core_ROS_Tutorials/Beginner_Level/catkin_ws/install/lib/python3/dist-packages/beginner_tutorials/__init__.py\n",
      "-- Installing: /home/pi/notebooks/Tutorials/1_Core_ROS_Tutorials/Beginner_Level/catkin_ws/install/lib/python3/dist-packages/beginner_tutorials/msg\n",
      "-- Installing: /home/pi/notebooks/Tutorials/1_Core_ROS_Tutorials/Beginner_Level/catkin_ws/install/lib/python3/dist-packages/beginner_tutorials/msg/__init__.py\n",
      "-- Installing: /home/pi/notebooks/Tutorials/1_Core_ROS_Tutorials/Beginner_Level/catkin_ws/install/lib/python3/dist-packages/beginner_tutorials/msg/_Num.py\n",
      "-- Installing: /home/pi/notebooks/Tutorials/1_Core_ROS_Tutorials/Beginner_Level/catkin_ws/install/lib/python3/dist-packages/beginner_tutorials/msg/__pycache__\n",
      "-- Installing: /home/pi/notebooks/Tutorials/1_Core_ROS_Tutorials/Beginner_Level/catkin_ws/install/lib/python3/dist-packages/beginner_tutorials/msg/__pycache__/__init__.cpython-36.pyc\n",
      "-- Installing: /home/pi/notebooks/Tutorials/1_Core_ROS_Tutorials/Beginner_Level/catkin_ws/install/lib/python3/dist-packages/beginner_tutorials/msg/__pycache__/_Num.cpython-36.pyc\n",
      "-- Installing: /home/pi/notebooks/Tutorials/1_Core_ROS_Tutorials/Beginner_Level/catkin_ws/install/lib/python3/dist-packages/beginner_tutorials/srv\n",
      "-- Installing: /home/pi/notebooks/Tutorials/1_Core_ROS_Tutorials/Beginner_Level/catkin_ws/install/lib/python3/dist-packages/beginner_tutorials/srv/__init__.py\n",
      "-- Installing: /home/pi/notebooks/Tutorials/1_Core_ROS_Tutorials/Beginner_Level/catkin_ws/install/lib/python3/dist-packages/beginner_tutorials/srv/_AddTwoInts.py\n",
      "-- Installing: /home/pi/notebooks/Tutorials/1_Core_ROS_Tutorials/Beginner_Level/catkin_ws/install/lib/python3/dist-packages/beginner_tutorials/srv/__pycache__\n",
      "-- Installing: /home/pi/notebooks/Tutorials/1_Core_ROS_Tutorials/Beginner_Level/catkin_ws/install/lib/python3/dist-packages/beginner_tutorials/srv/__pycache__/__init__.cpython-36.pyc\n",
      "-- Installing: /home/pi/notebooks/Tutorials/1_Core_ROS_Tutorials/Beginner_Level/catkin_ws/install/lib/python3/dist-packages/beginner_tutorials/srv/__pycache__/_AddTwoInts.cpython-36.pyc\n",
      "-- Installing: /home/pi/notebooks/Tutorials/1_Core_ROS_Tutorials/Beginner_Level/catkin_ws/install/lib/python3/dist-packages/beginner_tutorials/__pycache__\n",
      "-- Installing: /home/pi/notebooks/Tutorials/1_Core_ROS_Tutorials/Beginner_Level/catkin_ws/install/lib/python3/dist-packages/beginner_tutorials/__pycache__/__init__.cpython-36.pyc\n",
      "-- Installing: /home/pi/notebooks/Tutorials/1_Core_ROS_Tutorials/Beginner_Level/catkin_ws/install/lib/pkgconfig/beginner_tutorials.pc\n",
      "-- Installing: /home/pi/notebooks/Tutorials/1_Core_ROS_Tutorials/Beginner_Level/catkin_ws/install/share/beginner_tutorials/cmake/beginner_tutorials-msg-extras.cmake\n",
      "-- Installing: /home/pi/notebooks/Tutorials/1_Core_ROS_Tutorials/Beginner_Level/catkin_ws/install/share/beginner_tutorials/cmake/beginner_tutorialsConfig.cmake\n",
      "-- Installing: /home/pi/notebooks/Tutorials/1_Core_ROS_Tutorials/Beginner_Level/catkin_ws/install/share/beginner_tutorials/cmake/beginner_tutorialsConfig-version.cmake\n",
      "-- Installing: /home/pi/notebooks/Tutorials/1_Core_ROS_Tutorials/Beginner_Level/catkin_ws/install/share/beginner_tutorials/package.xml\n"
     ]
    }
   ],
   "source": [
    "!catkin_make install"
   ]
  },
  {
   "cell_type": "markdown",
   "metadata": {},
   "source": [
    "Any .msg file in the msg directory will generate code for use in all supported languages. \n",
    "- The C++ message header file will be generated in ***~/catkin_ws/devel/include/beginner_tutorials/. ***\n",
    "- The Python script will be created in ***~/catkin_ws/devel/lib/python3/dist-packages/beginner_tutorials/msg. ***\n",
    "- The lisp file appears in ***~/catkin_ws/devel/share/common-lisp/ros/beginner_tutorials/msg/.***\n",
    "\n",
    "Similarly, any .srv files in the srv directory will have generated code in supported languages. \n",
    "- For C++, this will generate header files in the same directory as the message header files. \n",
    "- For Python and Lisp, there will be an 'srv' folder beside the 'msg' folders.\n",
    "\n",
    "The full specification for the message format is available at the [Message Description Language](http://wiki.ros.org/ROS/Message_Description_Language) page.\n",
    "\n",
    "\n",
    "If you are building C++ nodes which use your new messages, you will also need to declare a dependency between your node and your message, as described in the [catkin msg/srv build documentation](http://docs.ros.org/latest/api/catkin/html/howto/format2/building_msgs.html).\n",
    "\n",
    "## Getting Help\n",
    "We've seen quite a few ROS tools already. It can be difficult to keep track of what arguments each command requires. Luckily, most ROS tools provide their own help.\n",
    "\n",
    "Try:"
   ]
  },
  {
   "cell_type": "code",
   "execution_count": 9,
   "metadata": {},
   "outputs": [
    {
     "name": "stdout",
     "output_type": "stream",
     "text": [
      "rosmsg is a command-line tool for displaying information about ROS Message types.\r\n",
      "\r\n",
      "Commands:\r\n",
      "\trosmsg show\tShow message description\r\n",
      "\trosmsg info\tAlias for rosmsg show\r\n",
      "\trosmsg list\tList all messages\r\n",
      "\trosmsg md5\tDisplay message md5sum\r\n",
      "\trosmsg package\tList messages in a package\r\n",
      "\trosmsg packages\tList packages that contain messages\r\n",
      "\r\n",
      "Type rosmsg <command> -h for more detailed usage\r\n",
      "\r\n"
     ]
    }
   ],
   "source": [
    "!rosmsg -h"
   ]
  },
  {
   "cell_type": "markdown",
   "metadata": {},
   "source": [
    "You can also get help for subcommands"
   ]
  },
  {
   "cell_type": "code",
   "execution_count": 10,
   "metadata": {},
   "outputs": [
    {
     "name": "stdout",
     "output_type": "stream",
     "text": [
      "Usage: rosmsg show [options] <message type>\r\n",
      "\r\n",
      "Options:\r\n",
      "  -h, --help            show this help message and exit\r\n",
      "  -r, --raw             show raw message text, including comments\r\n",
      "  -b BAGFILE, --bag=BAGFILE\r\n",
      "                        show message from .bag file\r\n"
     ]
    }
   ],
   "source": [
    "!rosmsg show -h"
   ]
  },
  {
   "cell_type": "markdown",
   "metadata": {},
   "source": [
    "This shows the arguments that are needed for rosmsg show:\n",
    "```\n",
    "Usage: rosmsg show [options] <message type>\n",
    "\n",
    "Options:\n",
    "  -h, --help  show this help message and exit\n",
    "  -r, --raw   show raw message text, including comments\n",
    "```\n",
    "\n",
    "## Review\n",
    "Let's just list some of the commands we've used so far:\n",
    "- rospack = ros+pack(age) : provides information related to ROS packages\n",
    "- roscd = ros+cd : changes directory to a ROS package or stack\n",
    "- rosls = ros+ls : lists files in a ROS package\n",
    "- roscp = ros+cp : copies files from/to a ROS package\n",
    "- rosmsg = ros+msg : provides information related to ROS message definitions\n",
    "- rossrv = ros+srv : provides information related to ROS service definitions\n",
    "- catkin_make : makes (compiles) a ROS package\n",
    " - rosmake = ros+make : makes (compiles) a ROS package (if you're not using a catkin workspace)"
   ]
  }
 ],
 "metadata": {
  "kernelspec": {
   "display_name": "Python 3",
   "language": "python",
   "name": "python3"
  },
  "language_info": {
   "codemirror_mode": {
    "name": "ipython",
    "version": 3
   },
   "file_extension": ".py",
   "mimetype": "text/x-python",
   "name": "python",
   "nbconvert_exporter": "python",
   "pygments_lexer": "ipython3",
   "version": "3.6.4"
  }
 },
 "nbformat": 4,
 "nbformat_minor": 2
}
