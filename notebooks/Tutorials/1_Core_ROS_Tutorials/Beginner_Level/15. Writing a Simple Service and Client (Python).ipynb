{
 "cells": [
  {
   "cell_type": "markdown",
   "metadata": {},
   "source": [
    "# 15. Writing a Simple Service and Client (Python)\n",
    "http://wiki.ros.org/ROS/Tutorials/WritingServiceClient%28python%29"
   ]
  },
  {
   "cell_type": "markdown",
   "metadata": {},
   "source": [
    "## setup environment"
   ]
  },
  {
   "cell_type": "code",
   "execution_count": 1,
   "metadata": {},
   "outputs": [
    {
     "data": {
      "text/plain": [
       "'/home/pi/notebooks/Tutorials/1_Core_ROS_Tutorials/Beginner_Level'"
      ]
     },
     "execution_count": 1,
     "metadata": {},
     "output_type": "execute_result"
    }
   ],
   "source": [
    "import os\n",
    "import sys \n",
    "\n",
    "home_dir = os.getcwd()\n",
    "home_dir"
   ]
  },
  {
   "cell_type": "code",
   "execution_count": 2,
   "metadata": {},
   "outputs": [],
   "source": [
    "# get ROS related environment variables\n",
    "envs = !printenv | grep ROS \n",
    "ROS_ENVs = {}\n",
    "\n",
    "for env in envs:\n",
    "    env = env.split('=')\n",
    "    [k, v] = env\n",
    "    ROS_ENVs[k] = v\n",
    "\n",
    "ROS_ENVs['LD_LIBRARY_PATH'] = '/opt/ros/kinetic/lib'\n",
    "ROS_ENVs['PKG_CONFIG_PATH'] = '/opt/ros/kinetic/lib/pkgconfig'\n",
    "ROS_ENVs['CMAKE_PREFIX_PATH'] = '/opt/ros/kinetic'  \n",
    "del ROS_ENVs['PWD']"
   ]
  },
  {
   "cell_type": "code",
   "execution_count": 3,
   "metadata": {},
   "outputs": [],
   "source": [
    "# define workspace path\n",
    "ws_dir = 'catkin_ws'\n",
    "ws_dir_abs = os.path.join(home_dir, ws_dir)\n",
    "src_dir_abs = os.path.join(ws_dir_abs, 'src') \n",
    "\n",
    "# append environment paths\n",
    "def gen_paths(ws_dir_abs, src_dir_abs):\n",
    "    paths = {}\n",
    "    paths['ROS_PACKAGE_PATH'] = src_dir_abs\n",
    "    paths['LD_LIBRARY_PATH'] = os.path.join(ws_dir_abs + 'devel/lib')\n",
    "    paths['ROSLISP_PACKAGE_DIRECTORIES'] = os.path.join(ws_dir_abs + 'devel/share/common-lisp')\n",
    "    paths['PKG_CONFIG_PATH'] = os.path.join(ws_dir_abs + 'devel/lib/pkgconfig')\n",
    "    paths['CMAKE_PREFIX_PATH'] = os.path.join(ws_dir_abs + 'devel/lib')\n",
    "    paths['LD_LIBRARY_PATH'] = os.path.join(ws_dir_abs + 'devel')\n",
    "    return paths\n",
    "\n",
    "def append_paths(ROS_ENVs, paths): \n",
    "    for path in ROS_ENVs.keys():\n",
    "        os.environ[path] = ROS_ENVs[path]\n",
    "        if path in paths.keys():\n",
    "            os.environ[path] = '{}:{}'.format(paths[path], os.environ[path])\n",
    "\n",
    "append_paths(ROS_ENVs, \n",
    "             gen_paths(ws_dir_abs, src_dir_abs))"
   ]
  },
  {
   "cell_type": "code",
   "execution_count": 4,
   "metadata": {},
   "outputs": [
    {
     "data": {
      "text/plain": [
       "'/home/pi/notebooks/Tutorials/1_Core_ROS_Tutorials/Beginner_Level/catkin_ws/src/beginner_tutorials'"
      ]
     },
     "execution_count": 4,
     "metadata": {},
     "output_type": "execute_result"
    }
   ],
   "source": [
    "# define package name and path\n",
    "package_name = 'beginner_tutorials'\n",
    "\n",
    "package_dir_abs = !rospack find {package_name}\n",
    "package_dir_abs = package_dir_abs[0]\n",
    "package_dir_abs"
   ]
  },
  {
   "cell_type": "markdown",
   "metadata": {},
   "source": [
    "## Writing a Service Node\n",
    "Here we'll create the service (\"add_two_ints_server\") node which will receive two ints and return the sum.\n",
    "\n",
    "Change directory into the beginner_tutorials package, you created in the earlier tutorial, creating a package:"
   ]
  },
  {
   "cell_type": "code",
   "execution_count": 5,
   "metadata": {},
   "outputs": [
    {
     "name": "stdout",
     "output_type": "stream",
     "text": [
      "/home/pi/notebooks/Tutorials/1_Core_ROS_Tutorials/Beginner_Level/catkin_ws/src/beginner_tutorials\n"
     ]
    }
   ],
   "source": [
    "cd {package_dir_abs}"
   ]
  },
  {
   "cell_type": "markdown",
   "metadata": {},
   "source": [
    "Please make sure you have followed the directions in the previous tutorial for creating the service needed in this tutorial, creating the **AddTwoInts.srv** (be sure to choose the right version of build tool you're using at the top of wiki page in the link)."
   ]
  },
  {
   "cell_type": "markdown",
   "metadata": {},
   "source": [
    "### The Code\n",
    "Create the **scripts/add_two_ints_server.py** file within the beginner_tutorials package and paste the following inside it:"
   ]
  },
  {
   "cell_type": "code",
   "execution_count": 6,
   "metadata": {},
   "outputs": [],
   "source": [
    "text = '''#!/usr/bin/env python\n",
    "\n",
    "from beginner_tutorials.srv import *\n",
    "import rospy\n",
    "\n",
    "def handle_add_two_ints(req):\n",
    "    print(\"Returning [%s + %s = %s]\"%(req.a, req.b, (req.a + req.b)))\n",
    "    return AddTwoIntsResponse(req.a + req.b)\n",
    "\n",
    "def add_two_ints_server():\n",
    "    rospy.init_node('add_two_ints_server')\n",
    "    s = rospy.Service('add_two_ints', AddTwoInts, handle_add_two_ints)\n",
    "    print(\"Ready to add two ints.\")\n",
    "    rospy.spin()\n",
    "\n",
    "if __name__ == \"__main__\":\n",
    "    add_two_ints_server()\n",
    "'''\n",
    "\n",
    "file_name = 'scripts/add_two_ints_server.py'\n",
    "\n",
    "with open(file_name, 'w') as f:\n",
    "    f.writelines(text)"
   ]
  },
  {
   "cell_type": "markdown",
   "metadata": {},
   "source": [
    "Don't forget to make the node executable:"
   ]
  },
  {
   "cell_type": "code",
   "execution_count": 7,
   "metadata": {},
   "outputs": [],
   "source": [
    "!chmod +x scripts/add_two_ints_server.py"
   ]
  },
  {
   "cell_type": "markdown",
   "metadata": {},
   "source": [
    "### The Code Explained\n",
    "Now, let's break the code down.\n",
    "\n",
    "There's very little to writing a service using rospy. We declare our node using init_node() and then declare our service:  \n",
    "```s = rospy.Service('add_two_ints', AddTwoInts, handle_add_two_ints)\n",
    "```\n",
    "\n",
    "This declares a new service named **add_two_ints** with the **AddTwoInts service type**. All requests are passed to **handle_add_two_ints** function. handle_add_two_ints is called with instances of **AddTwoIntsRequest** and returns instances of **AddTwoIntsResponse**.\n",
    "\n",
    "Just like with the subscriber example, rospy.spin() keeps your code from exiting until the service is shutdown."
   ]
  },
  {
   "cell_type": "markdown",
   "metadata": {},
   "source": [
    "## Writing the Client Node\n",
    "The Code\n",
    "Create the scripts/add_two_ints_client.py file within the beginner_tutorials package and paste the following inside it:"
   ]
  },
  {
   "cell_type": "code",
   "execution_count": 8,
   "metadata": {},
   "outputs": [],
   "source": [
    "text = '''#!/usr/bin/env python\n",
    "\n",
    "import sys\n",
    "import rospy\n",
    "from beginner_tutorials.srv import *\n",
    "\n",
    "def add_two_ints_client(x, y):\n",
    "    rospy.wait_for_service('add_two_ints')\n",
    "    try:\n",
    "        add_two_ints = rospy.ServiceProxy('add_two_ints', AddTwoInts)\n",
    "        resp1 = add_two_ints(x, y)\n",
    "        return resp1.sum\n",
    "    except rospy.ServiceException as e:\n",
    "        print(\"Service call failed: %s\"%e)\n",
    "\n",
    "def usage():\n",
    "    return \"%s [x y]\"%sys.argv[0]\n",
    "\n",
    "if __name__ == \"__main__\":\n",
    "    if len(sys.argv) == 3:\n",
    "        x = int(sys.argv[1])\n",
    "        y = int(sys.argv[2])\n",
    "    else:\n",
    "        print(usage())\n",
    "        sys.exit(1)\n",
    "    print(\"Requesting %s+%s\"%(x, y))\n",
    "    print(\"%s + %s = %s\"%(x, y, add_two_ints_client(x, y)))\n",
    "'''\n",
    "\n",
    "file_name = 'scripts/add_two_ints_client.py'\n",
    "\n",
    "with open(file_name, 'w') as f:\n",
    "    f.writelines(text)"
   ]
  },
  {
   "cell_type": "markdown",
   "metadata": {},
   "source": [
    "Don't forget to make the node executable:"
   ]
  },
  {
   "cell_type": "code",
   "execution_count": 9,
   "metadata": {},
   "outputs": [],
   "source": [
    "!chmod +x scripts/add_two_ints_client.py"
   ]
  },
  {
   "cell_type": "markdown",
   "metadata": {},
   "source": [
    "### The Code Explained\n",
    "Now, let's break the code down.\n",
    "\n",
    "The client code for calling services is also simple. For clients you don't have to call init_node(). We first call:\n",
    "```\n",
    "rospy.wait_for_service('add_two_ints')\n",
    "```\n",
    "This is a convenience method that **blocks until the service named add_two_ints is available**. Next we create a handle for calling the service:\n",
    "```\n",
    "add_two_ints = rospy.ServiceProxy('add_two_ints', AddTwoInts)\n",
    "```\n",
    "We can use this handle just like a normal ***function*** and call it:\n",
    "```\n",
    "resp1 = add_two_ints(x, y)\n",
    "return resp1.sum\n",
    "```\n",
    "\n",
    "Because we've declared the type of the service to be **AddTwoInts**, it does the work of generating the **AddTwoIntsRequest** object for you (you're free to pass in your own instead). The return value is an **AddTwoIntsResponse** object. If the call fails, a **rospy.ServiceException** may be thrown, so you should setup the appropriate try/except block."
   ]
  },
  {
   "cell_type": "markdown",
   "metadata": {},
   "source": [
    "## Building your nodes\n",
    "We use CMake as our build system and, yes, you have to use it even for Python nodes. This is to make sure that the autogenerated Python code for messages and services is created.\n",
    "\n",
    "Go to your catkin workspace and run catkin_make."
   ]
  },
  {
   "cell_type": "code",
   "execution_count": 10,
   "metadata": {},
   "outputs": [
    {
     "name": "stdout",
     "output_type": "stream",
     "text": [
      "/home/pi/notebooks/Tutorials/1_Core_ROS_Tutorials/Beginner_Level/catkin_ws\n"
     ]
    }
   ],
   "source": [
    "cd {ws_dir_abs}"
   ]
  },
  {
   "cell_type": "code",
   "execution_count": 11,
   "metadata": {},
   "outputs": [
    {
     "name": "stdout",
     "output_type": "stream",
     "text": [
      "Base path: /home/pi/notebooks/Tutorials/1_Core_ROS_Tutorials/Beginner_Level/catkin_ws\n",
      "Source space: /home/pi/notebooks/Tutorials/1_Core_ROS_Tutorials/Beginner_Level/catkin_ws/src\n",
      "Build space: /home/pi/notebooks/Tutorials/1_Core_ROS_Tutorials/Beginner_Level/catkin_ws/build\n",
      "Devel space: /home/pi/notebooks/Tutorials/1_Core_ROS_Tutorials/Beginner_Level/catkin_ws/devel\n",
      "Install space: /home/pi/notebooks/Tutorials/1_Core_ROS_Tutorials/Beginner_Level/catkin_ws/install\n",
      "\u001b[34m####\u001b[0m\n",
      "\u001b[34m#### Running command: \u001b[1m\"make cmake_check_build_system\"\u001b[0m\u001b[34m in \u001b[1m\"/home/pi/notebooks/Tutorials/1_Core_ROS_Tutorials/Beginner_Level/catkin_ws/build\"\u001b[0m\n",
      "\u001b[34m####\u001b[0m\n",
      "\u001b[34m####\u001b[0m\n",
      "\u001b[34m#### Running command: \u001b[1m\"make -j2 -l2\"\u001b[0m\u001b[34m in \u001b[1m\"/home/pi/notebooks/Tutorials/1_Core_ROS_Tutorials/Beginner_Level/catkin_ws/build\"\u001b[0m\n",
      "\u001b[34m####\u001b[0m\n",
      "[  0%] Built target std_msgs_generate_messages_eus\n",
      "[  0%] Built target _beginner_tutorials_generate_messages_check_deps_AddTwoInts\n",
      "[  0%] Built target _beginner_tutorials_generate_messages_check_deps_Num\n",
      "[  0%] Built target std_msgs_generate_messages_py\n",
      "[  0%] Built target std_msgs_generate_messages_lisp\n",
      "[  0%] Built target std_msgs_generate_messages_nodejs\n",
      "[  0%] Built target std_msgs_generate_messages_cpp\n",
      "[ 23%] Built target beginner_tutorials_generate_messages_eus\n",
      "[ 53%] Built target beginner_tutorials_generate_messages_py\n",
      "[ 69%] Built target beginner_tutorials_generate_messages_nodejs\n",
      "[ 84%] Built target beginner_tutorials_generate_messages_cpp\n",
      "[100%] Built target beginner_tutorials_generate_messages_lisp\n",
      "[100%] Built target beginner_tutorials_generate_messages\n"
     ]
    }
   ],
   "source": [
    "!catkin_make"
   ]
  }
 ],
 "metadata": {
  "kernelspec": {
   "display_name": "Python 3",
   "language": "python",
   "name": "python3"
  },
  "language_info": {
   "codemirror_mode": {
    "name": "ipython",
    "version": 3
   },
   "file_extension": ".py",
   "mimetype": "text/x-python",
   "name": "python",
   "nbconvert_exporter": "python",
   "pygments_lexer": "ipython3",
   "version": "3.6.4"
  }
 },
 "nbformat": 4,
 "nbformat_minor": 2
}
