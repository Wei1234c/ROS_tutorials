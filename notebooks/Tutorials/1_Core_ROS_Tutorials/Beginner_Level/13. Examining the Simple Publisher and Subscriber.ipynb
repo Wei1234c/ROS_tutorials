{
 "cells": [
  {
   "cell_type": "markdown",
   "metadata": {},
   "source": [
    "# 13. Examining the Simple Publisher and Subscriber\n",
    "http://wiki.ros.org/ROS/Tutorials/ExaminingPublisherSubscriber"
   ]
  },
  {
   "cell_type": "markdown",
   "metadata": {},
   "source": [
    "## setup environment"
   ]
  },
  {
   "cell_type": "code",
   "execution_count": 1,
   "metadata": {},
   "outputs": [
    {
     "data": {
      "text/plain": [
       "'/home/pi/notebooks/Tutorials/1_Core_ROS_Tutorials/Beginner_Level'"
      ]
     },
     "execution_count": 1,
     "metadata": {},
     "output_type": "execute_result"
    }
   ],
   "source": [
    "import os\n",
    "import sys \n",
    "\n",
    "home_dir = os.getcwd()\n",
    "home_dir"
   ]
  },
  {
   "cell_type": "code",
   "execution_count": 2,
   "metadata": {},
   "outputs": [],
   "source": [
    "# get ROS related environment variables\n",
    "envs = !printenv | grep ROS \n",
    "ROS_ENVs = {}\n",
    "\n",
    "for env in envs:\n",
    "    env = env.split('=')\n",
    "    [k, v] = env\n",
    "    ROS_ENVs[k] = v\n",
    "\n",
    "ROS_ENVs['LD_LIBRARY_PATH'] = '/opt/ros/kinetic/lib'\n",
    "ROS_ENVs['PKG_CONFIG_PATH'] = '/opt/ros/kinetic/lib/pkgconfig'\n",
    "ROS_ENVs['CMAKE_PREFIX_PATH'] = '/opt/ros/kinetic'  \n",
    "del ROS_ENVs['PWD']"
   ]
  },
  {
   "cell_type": "code",
   "execution_count": 3,
   "metadata": {},
   "outputs": [],
   "source": [
    "# define workspace path\n",
    "ws_dir = 'catkin_ws'\n",
    "ws_dir_abs = os.path.join(home_dir, ws_dir)\n",
    "src_dir_abs = os.path.join(ws_dir_abs, 'src') \n",
    "\n",
    "# append environment paths\n",
    "def gen_paths(ws_dir_abs, src_dir_abs):\n",
    "    paths = {}\n",
    "    paths['ROS_PACKAGE_PATH'] = src_dir_abs\n",
    "    paths['LD_LIBRARY_PATH'] = os.path.join(ws_dir_abs + 'devel/lib')\n",
    "    paths['ROSLISP_PACKAGE_DIRECTORIES'] = os.path.join(ws_dir_abs + 'devel/share/common-lisp')\n",
    "    paths['PKG_CONFIG_PATH'] = os.path.join(ws_dir_abs + 'devel/lib/pkgconfig')\n",
    "    paths['CMAKE_PREFIX_PATH'] = os.path.join(ws_dir_abs + 'devel/lib')\n",
    "    paths['LD_LIBRARY_PATH'] = os.path.join(ws_dir_abs + 'devel')\n",
    "    return paths\n",
    "\n",
    "def append_paths(ROS_ENVs, paths): \n",
    "    for path in ROS_ENVs.keys():\n",
    "        os.environ[path] = ROS_ENVs[path]\n",
    "        if path in paths.keys():\n",
    "            os.environ[path] = '{}:{}'.format(paths[path], os.environ[path])\n",
    "\n",
    "append_paths(ROS_ENVs, \n",
    "             gen_paths(ws_dir_abs, src_dir_abs))"
   ]
  },
  {
   "cell_type": "code",
   "execution_count": 4,
   "metadata": {},
   "outputs": [
    {
     "data": {
      "text/plain": [
       "'/home/pi/notebooks/Tutorials/1_Core_ROS_Tutorials/Beginner_Level/catkin_ws/src/beginner_tutorials'"
      ]
     },
     "execution_count": 4,
     "metadata": {},
     "output_type": "execute_result"
    }
   ],
   "source": [
    "# define package name and path\n",
    "package_name = 'beginner_tutorials'\n",
    "\n",
    "package_dir_abs = !rospack find {package_name}\n",
    "package_dir_abs = package_dir_abs[0]\n",
    "package_dir_abs"
   ]
  },
  {
   "cell_type": "markdown",
   "metadata": {},
   "source": [
    "## Running the roscore\n",
    "Make sure that a roscore is up and running:\n",
    "### roscore\n",
    "Let's start by making sure that we have roscore running:  \n",
    "\n",
    "open a new terminal window, run a ROS Docker container with:\n",
    "```\n",
    "docker run -it --rm \\\n",
    "\t--net=host \\\n",
    "\t-v /tmp/.X11-unix:/tmp/.X11-unix \\\n",
    "\t-e DISPLAY=unix$DISPLAY \\\n",
    "\t--cap-add=SYS_ADMIN \\\n",
    "\t--device /dev/snd \\\n",
    "\t--device /dev/dri \\\n",
    "\t-v /dev/shm:/dev/shm \\\n",
    "\t-p 11311:11311 \\\n",
    "\twei1234c/ros_ubuntu_amd64\n",
    "```\n",
    "\n",
    "in the container, run roscore:\n",
    "```\n",
    "$ roscore\n",
    "```"
   ]
  },
  {
   "cell_type": "markdown",
   "metadata": {},
   "source": [
    "## Running the Publisher\n",
    "\n",
    "catkin specific If you are using catkin, make sure you have sourced your workspace's setup.sh file after calling catkin_make but before trying to use your applications:  \n",
    "\n",
    "open a new terminal window, run a ROS Docker container with:\n",
    "```\n",
    "docker run -it --rm \\\n",
    "\t--net=host \\\n",
    "\t-v /tmp/.X11-unix:/tmp/.X11-unix \\\n",
    "\t-e DISPLAY=unix$DISPLAY \\\n",
    "\t--cap-add=SYS_ADMIN \\\n",
    "\t--device /dev/snd \\\n",
    "\t--device /dev/dri \\\n",
    "\t-v /dev/shm:/dev/shm \\\n",
    "\t-p 8888:8888 \\\n",
    "\t-p 11311:11311 \\\n",
    "\t-v /home/wei/Dropbox/Coding/notebooks/工具與技術/ROS/notebooks:/home/pi/notebooks \\\n",
    "\twei1234c/ros_ubuntu_amd64:latest-py3\n",
    "```\n",
    "\n",
    "in the container, run:\n",
    "```\n",
    "# In your catkin workspace\n",
    "# cd ~/catkin_ws\n",
    "$ cd ~/notebooks/Tutorials/1_Core_ROS_Tutorials/Beginner_Level/catkin_ws\n",
    "$ source ./devel/setup.bash\n",
    "```\n",
    "\n",
    "In the last tutorial we made a publisher called \"talker\". Let's run it:\n",
    "\n",
    "```\n",
    "$ rosrun beginner_tutorials talker.py\n",
    "```"
   ]
  },
  {
   "cell_type": "markdown",
   "metadata": {},
   "source": [
    "## Running the Subscriber\n",
    "In the last tutorial we made a subscriber called \"listener\". Let's run it:"
   ]
  },
  {
   "cell_type": "code",
   "execution_count": 5,
   "metadata": {},
   "outputs": [
    {
     "name": "stdout",
     "output_type": "stream",
     "text": [
      "[INFO] [1520719926.082324]: /listener_134_1520719863766I heard hello world 1520719926.0814064\n",
      "[INFO] [1520719926.183142]: /listener_134_1520719863766I heard hello world 1520719926.1817126\n",
      "[INFO] [1520719926.283298]: /listener_134_1520719863766I heard hello world 1520719926.2817466\n",
      "[INFO] [1520719926.383654]: /listener_134_1520719863766I heard hello world 1520719926.381749\n",
      "[INFO] [1520719926.484211]: /listener_134_1520719863766I heard hello world 1520719926.4820957\n",
      "[INFO] [1520719926.583484]: /listener_134_1520719863766I heard hello world 1520719926.5817068\n",
      "[INFO] [1520719926.683511]: /listener_134_1520719863766I heard hello world 1520719926.6817052\n",
      "[INFO] [1520719926.783331]: /listener_134_1520719863766I heard hello world 1520719926.781705\n",
      "[INFO] [1520719926.882892]: /listener_134_1520719863766I heard hello world 1520719926.8816743\n",
      "[INFO] [1520719926.983044]: /listener_134_1520719863766I heard hello world 1520719926.9816191\n",
      "[INFO] [1520719927.083292]: /listener_134_1520719863766I heard hello world 1520719927.0816405\n",
      "[INFO] [1520719927.183462]: /listener_134_1520719863766I heard hello world 1520719927.181614\n",
      "[INFO] [1520719927.283999]: /listener_134_1520719863766I heard hello world 1520719927.281803\n",
      "[INFO] [1520719927.383864]: /listener_134_1520719863766I heard hello world 1520719927.3816726\n",
      "[INFO] [1520719927.483992]: /listener_134_1520719863766I heard hello world 1520719927.4817255\n",
      "[INFO] [1520719927.584074]: /listener_134_1520719863766I heard hello world 1520719927.581824\n",
      "[INFO] [1520719927.683625]: /listener_134_1520719863766I heard hello world 1520719927.6816845\n",
      "[INFO] [1520719927.783836]: /listener_134_1520719863766I heard hello world 1520719927.7816975\n",
      "[INFO] [1520719927.883875]: /listener_134_1520719863766I heard hello world 1520719927.8816895\n",
      "[INFO] [1520719927.984149]: /listener_134_1520719863766I heard hello world 1520719927.9817894\n",
      "[INFO] [1520719928.083391]: /listener_134_1520719863766I heard hello world 1520719928.0816534\n",
      "[INFO] [1520719928.183923]: /listener_134_1520719863766I heard hello world 1520719928.1817417\n",
      "[INFO] [1520719928.283723]: /listener_134_1520719863766I heard hello world 1520719928.281748\n",
      "[INFO] [1520719928.383204]: /listener_134_1520719863766I heard hello world 1520719928.3817258\n",
      "[INFO] [1520719928.483329]: /listener_134_1520719863766I heard hello world 1520719928.4817243\n",
      "[INFO] [1520719928.583149]: /listener_134_1520719863766I heard hello world 1520719928.5816164\n",
      "[INFO] [1520719928.683106]: /listener_134_1520719863766I heard hello world 1520719928.6816638\n",
      "[INFO] [1520719928.783082]: /listener_134_1520719863766I heard hello world 1520719928.7816427\n",
      "[INFO] [1520719928.882689]: /listener_134_1520719863766I heard hello world 1520719928.8815928\n",
      "[INFO] [1520719928.982809]: /listener_134_1520719863766I heard hello world 1520719928.9815943\n",
      "[INFO] [1520719929.083034]: /listener_134_1520719863766I heard hello world 1520719929.081563\n",
      "[INFO] [1520719929.183950]: /listener_134_1520719863766I heard hello world 1520719929.181703\n",
      "^C\n"
     ]
    }
   ],
   "source": [
    "!rosrun beginner_tutorials listener.py"
   ]
  },
  {
   "cell_type": "markdown",
   "metadata": {},
   "source": [
    "When you are done, press Ctrl-C to terminate both the listener and the talker."
   ]
  }
 ],
 "metadata": {
  "kernelspec": {
   "display_name": "Python 3",
   "language": "python",
   "name": "python3"
  },
  "language_info": {
   "codemirror_mode": {
    "name": "ipython",
    "version": 3
   },
   "file_extension": ".py",
   "mimetype": "text/x-python",
   "name": "python",
   "nbconvert_exporter": "python",
   "pygments_lexer": "ipython3",
   "version": "3.6.4"
  }
 },
 "nbformat": 4,
 "nbformat_minor": 2
}
