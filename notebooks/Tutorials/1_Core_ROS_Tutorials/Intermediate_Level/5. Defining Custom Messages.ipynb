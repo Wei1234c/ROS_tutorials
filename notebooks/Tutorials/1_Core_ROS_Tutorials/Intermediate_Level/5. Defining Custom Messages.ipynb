{
 "cells": [
  {
   "cell_type": "markdown",
   "metadata": {},
   "source": [
    "# 5. Defining Custom Messages\n",
    "http://wiki.ros.org/ROS/Tutorials/DefiningCustomMessages"
   ]
  },
  {
   "cell_type": "markdown",
   "metadata": {},
   "source": [
    "## Generating Messages\n",
    "Generating a message is easy. Simply place a .msg file inside the msg directory in a package. Please follow previous tutorial about creating .msg files (don't forget to choose build system type at the top of the page there)."
   ]
  },
  {
   "cell_type": "markdown",
   "metadata": {},
   "source": [
    "## Including or Importing Messages\n",
    "### C++\n",
    "Messages are put into a namespace that matches the name of the package. ie.\n",
    "```\n",
    "#include <std_msgs/String.h>\n",
    "\n",
    "std_msgs::String msg;\n",
    "```\n",
    "\n",
    "### Python\n",
    "```\n",
    "from std_msgs.msg import String\n",
    "\n",
    "msg = String()\n",
    "```"
   ]
  },
  {
   "cell_type": "markdown",
   "metadata": {},
   "source": [
    "## Dependencies\n",
    "If you are using the new custom message defined in a different package, remember to add:\n",
    "\n",
    "\n",
    "to **package.xml**:\n",
    "```\n",
    "<build_depend>name_of_package_containing_custom_msg</build_depend>\n",
    "<run_depend>name_of_package_containing_custom_msg</run_depend>\n",
    "```\n",
    "```\n",
    "<build_depend>message_generation</build_depend>\n",
    "<run_depend>message_runtime</run_depend>\n",
    "```\n",
    "\n",
    "and you will need to add this to your **CMakeList.txt**:\n",
    "```\n",
    "find_package(message_generation)\n",
    "catkin_package(CATKIN_DEPENDS message_runtime)\n",
    "add_message_files(FILES your_msg_file.msg)\n",
    "```\n",
    "\n",
    "If you are building C++ nodes which use your new messages, you will also need to declare a dependency between your node and your message, as described in the catkin msg/srv build documentation\n",
    "\n",
    "The ROSNodeTutorialPython tutorial shows an example of the previously described talker and listener tutorials using a custom message, with implementations in C++ and Python."
   ]
  }
 ],
 "metadata": {
  "kernelspec": {
   "display_name": "Python 3",
   "language": "python",
   "name": "python3"
  },
  "language_info": {
   "codemirror_mode": {
    "name": "ipython",
    "version": 3
   },
   "file_extension": ".py",
   "mimetype": "text/x-python",
   "name": "python",
   "nbconvert_exporter": "python",
   "pygments_lexer": "ipython3",
   "version": "3.6.4"
  }
 },
 "nbformat": 4,
 "nbformat_minor": 2
}
