{
 "cells": [
  {
   "cell_type": "markdown",
   "metadata": {},
   "source": [
    "# 6. Understanding ROS Topics\n",
    "http://wiki.ros.org/ROS/Tutorials/UnderstandingTopics"
   ]
  },
  {
   "cell_type": "code",
   "execution_count": 1,
   "metadata": {},
   "outputs": [
    {
     "data": {
      "text/plain": [
       "'/home/pi/notebooks/Tutorials/1_Core_ROS_Tutorials'"
      ]
     },
     "execution_count": 1,
     "metadata": {},
     "output_type": "execute_result"
    }
   ],
   "source": [
    "import os\n",
    "import sys\n",
    "\n",
    "home_dir = os.getcwd()\n",
    "home_dir"
   ]
  },
  {
   "cell_type": "code",
   "execution_count": 2,
   "metadata": {},
   "outputs": [],
   "source": [
    "# get ROS related environment variables\n",
    "\n",
    "envs = !printenv | grep ROS \n",
    "ROS_ENVs = {}\n",
    "\n",
    "for env in envs:\n",
    "    env = env.split('=')\n",
    "    [k, v] = env\n",
    "    ROS_ENVs[k] = v\n",
    "\n",
    "ROS_ENVs['LD_LIBRARY_PATH'] = '/opt/ros/kinetic/lib'\n",
    "ROS_ENVs['PKG_CONFIG_PATH'] = '/opt/ros/kinetic/lib/pkgconfig'\n",
    "ROS_ENVs['CMAKE_PREFIX_PATH'] = '/opt/ros/kinetic'  "
   ]
  },
  {
   "cell_type": "markdown",
   "metadata": {},
   "source": [
    "## Setup\n",
    "### roscore\n",
    "Let's start by making sure that we have roscore running:  \n",
    "\n",
    "open a new terminal window, run a ROS Docker container with:\n",
    "```\n",
    "docker run -it --rm \\\n",
    "\t--net=host \\\n",
    "\t-v /tmp/.X11-unix:/tmp/.X11-unix \\\n",
    "\t-e DISPLAY=unix$DISPLAY \\\n",
    "\t--cap-add=SYS_ADMIN \\\n",
    "\t--device /dev/snd \\\n",
    "\t--device /dev/dri \\\n",
    "\t-v /dev/shm:/dev/shm \\\n",
    "\t-p 11311:11311 \\\n",
    "\twei1234c/ros_ubuntu_amd64\n",
    "```\n",
    "\n",
    "in the container, run roscore:\n",
    "```\n",
    "$ roscore\n",
    "```"
   ]
  },
  {
   "cell_type": "markdown",
   "metadata": {},
   "source": [
    "### turtlesim\n",
    "For this tutorial we will also use turtlesim.  \n",
    "open a new terminal window, run a ROS Docker container with:\n",
    "```\n",
    "docker run -it --rm \\\n",
    "\t--net=host \\\n",
    "\t-v /tmp/.X11-unix:/tmp/.X11-unix \\\n",
    "\t-e DISPLAY=unix$DISPLAY \\\n",
    "\t--cap-add=SYS_ADMIN \\\n",
    "\t--device /dev/snd \\\n",
    "\t--device /dev/dri \\\n",
    "\t-v /dev/shm:/dev/shm \\\n",
    "\t-p 11311:11311 \\\n",
    "\twei1234c/ros_ubuntu_amd64\n",
    "```\n",
    "\n",
    "in the container, run:\n",
    "```\n",
    "$ rosrun turtlesim turtlesim_node\n",
    "```"
   ]
  },
  {
   "cell_type": "markdown",
   "metadata": {},
   "source": [
    "### turtle keyboard teleoperation\n",
    "We'll also need something to drive the turtle around with.  \n",
    "\n",
    "open a new terminal window, run a ROS Docker container with:\n",
    "```\n",
    "docker run -it --rm \\\n",
    "\t--net=host \\\n",
    "\t-v /tmp/.X11-unix:/tmp/.X11-unix \\\n",
    "\t-e DISPLAY=unix$DISPLAY \\\n",
    "\t--cap-add=SYS_ADMIN \\\n",
    "\t--device /dev/snd \\\n",
    "\t--device /dev/dri \\\n",
    "\t-v /dev/shm:/dev/shm \\\n",
    "\t-p 11311:11311 \\\n",
    "\twei1234c/ros_ubuntu_amd64\n",
    "```\n",
    "\n",
    "in the container, run:\n",
    "```\n",
    "$ rosrun turtlesim turtle_teleop_key\n",
    "```\n",
    "\n",
    "Now you can use the arrow keys of the keyboard to drive the turtle around. If you can not drive the turtle, **select the terminal window of the turtle_teleop_key** to make sure that the keys that you type are recorded."
   ]
  },
  {
   "cell_type": "markdown",
   "metadata": {},
   "source": [
    "## ROS Topics\n",
    "The turtlesim_node and the turtle_teleop_key node are communicating with each other over a ROS Topic. turtle_teleop_key is publishing the key strokes on a topic, while turtlesim subscribes to the same topic to receive the key strokes. Let's use rqt_graph which shows the nodes and topics currently running.\n",
    "\n",
    "Note: If you're using electric or earlier, rqt is not available. Use rxgraph instead.\n",
    "\n",
    "## Using rqt_graph\n",
    "rqt_graph creates a dynamic graph of what's going on in the system. rqt_graph is part of the rqt package. Unless you already have it installed,   \n",
    "\n",
    "open a new terminal window, run a ROS Docker container with:\n",
    "```\n",
    "docker run -it --rm \\\n",
    "\t--net=host \\\n",
    "\t-v /tmp/.X11-unix:/tmp/.X11-unix \\\n",
    "\t-e DISPLAY=unix$DISPLAY \\\n",
    "\t--cap-add=SYS_ADMIN \\\n",
    "\t--device /dev/snd \\\n",
    "\t--device /dev/dri \\\n",
    "\t-v /dev/shm:/dev/shm \\\n",
    "\t-p 11311:11311 \\\n",
    "\twei1234c/ros_ubuntu_amd64\n",
    "```\n",
    "\n",
    "in the container, run: \n",
    "```\n",
    "$ sudo apt-get install -y ros-kinetic-rqt ros-kinetic-rqt-common-plugins\n",
    "```\n",
    "\n",
    "then, run: \n",
    "```\n",
    "$ rosrun rqt_graph rqt_graph  \n",
    "```"
   ]
  },
  {
   "cell_type": "markdown",
   "metadata": {},
   "source": [
    "You will see something similar to:\n",
    "\n",
    "<img src='http://wiki.ros.org/ROS/Tutorials/UnderstandingTopics?action=AttachFile&do=get&target=rqt_graph_turtle_key.png'>\n",
    "\n",
    "If you place your mouse over /turtle1/command_velocity it will highlight the ROS nodes (here blue and green) and topics (here red). As you can see, the turtlesim_node and the turtle_teleop_key nodes are communicating on the topic named /turtle1/command_velocity.\n",
    "\n",
    "<img src='http://wiki.ros.org/ROS/Tutorials/UnderstandingTopics?action=AttachFile&do=get&target=rqt_graph_turtle_key2.png'>"
   ]
  },
  {
   "cell_type": "markdown",
   "metadata": {},
   "source": [
    "## Introducing rostopic\n",
    "The **rostopic** tool allows you to get information about ROS topics.\n",
    "\n",
    "You can use the help option to get the available sub-commands for rostopic "
   ]
  },
  {
   "cell_type": "code",
   "execution_count": 3,
   "metadata": {},
   "outputs": [
    {
     "name": "stdout",
     "output_type": "stream",
     "text": [
      "rostopic is a command-line tool for printing information about ROS Topics.\r\n",
      "\r\n",
      "Commands:\r\n",
      "\trostopic bw\tdisplay bandwidth used by topic\r\n",
      "\trostopic delay\tdisplay delay of topic from timestamp in header\r\n",
      "\trostopic echo\tprint messages to screen\r\n",
      "\trostopic find\tfind topics by type\r\n",
      "\trostopic hz\tdisplay publishing rate of topic    \r\n",
      "\trostopic info\tprint information about active topic\r\n",
      "\trostopic list\tlist active topics\r\n",
      "\trostopic pub\tpublish data to topic\r\n",
      "\trostopic type\tprint topic or field type\r\n",
      "\r\n",
      "Type rostopic <command> -h for more detailed usage, e.g. 'rostopic echo -h'\r\n",
      "\r\n"
     ]
    }
   ],
   "source": [
    "!rostopic -h"
   ]
  },
  {
   "cell_type": "markdown",
   "metadata": {},
   "source": [
    "## Using rostopic echo\n",
    "**rostopic echo** shows the data published on a topic.\n",
    "\n",
    "Usage:\n",
    "```\n",
    "rostopic echo [topic]\n",
    "```"
   ]
  },
  {
   "cell_type": "code",
   "execution_count": 4,
   "metadata": {},
   "outputs": [
    {
     "name": "stdout",
     "output_type": "stream",
     "text": [
      "linear: \n",
      "  x: 2.0\n",
      "  y: 0.0\n",
      "  z: 0.0\n",
      "angular: \n",
      "  x: 0.0\n",
      "  y: 0.0\n",
      "  z: 0.0\n",
      "---\n",
      "linear: \n",
      "  x: 0.0\n",
      "  y: 0.0\n",
      "  z: 0.0\n",
      "angular: \n",
      "  x: 0.0\n",
      "  y: 0.0\n",
      "  z: -2.0\n",
      "---\n",
      "linear: \n",
      "  x: -2.0\n",
      "  y: 0.0\n",
      "  z: 0.0\n",
      "angular: \n",
      "  x: 0.0\n",
      "  y: 0.0\n",
      "  z: 0.0\n",
      "---\n",
      "^C\n"
     ]
    }
   ],
   "source": [
    "!rostopic echo /turtle1/cmd_vel"
   ]
  },
  {
   "cell_type": "markdown",
   "metadata": {},
   "source": [
    "Now let's look at rqt_graph again. Press the refresh button in the upper-left to show the new node. As you can see rostopic echo, shown here in red, is now also subscribed to the turtle1/command_velocity topic.  \n",
    "<img src='http://wiki.ros.org/ROS/Tutorials/UnderstandingTopics?action=AttachFile&do=get&target=rqt_graph_echo.png'>"
   ]
  },
  {
   "cell_type": "markdown",
   "metadata": {},
   "source": [
    "## Using rostopic list\n",
    "rostopic list returns a list of all topics currently subscribed to and published.\n",
    "\n",
    "Let's figure out what argument the list sub-command needs. In a new terminal run:"
   ]
  },
  {
   "cell_type": "code",
   "execution_count": 5,
   "metadata": {},
   "outputs": [
    {
     "name": "stdout",
     "output_type": "stream",
     "text": [
      "Usage: rostopic list [/namespace]\r\n",
      "\r\n",
      "Options:\r\n",
      "  -h, --help            show this help message and exit\r\n",
      "  -b BAGFILE, --bag=BAGFILE\r\n",
      "                        list topics in .bag file\r\n",
      "  -v, --verbose         list full details about each topic\r\n",
      "  -p                    list only publishers\r\n",
      "  -s                    list only subscribers\r\n",
      "  --host                group by host name\r\n"
     ]
    }
   ],
   "source": [
    "!rostopic list -h"
   ]
  },
  {
   "cell_type": "code",
   "execution_count": 6,
   "metadata": {},
   "outputs": [
    {
     "name": "stdout",
     "output_type": "stream",
     "text": [
      "\r\n",
      "Published topics:\r\n",
      " * /turtle1/color_sensor [turtlesim/Color] 1 publisher\r\n",
      " * /turtle1/cmd_vel [geometry_msgs/Twist] 1 publisher\r\n",
      " * /rosout [rosgraph_msgs/Log] 3 publishers\r\n",
      " * /rosout_agg [rosgraph_msgs/Log] 1 publisher\r\n",
      " * /turtle1/pose [turtlesim/Pose] 1 publisher\r\n",
      "\r\n",
      "Subscribed topics:\r\n",
      " * /turtle1/cmd_vel [geometry_msgs/Twist] 1 subscriber\r\n",
      " * /rosout [rosgraph_msgs/Log] 1 subscriber\r\n",
      " * /statistics [rosgraph_msgs/TopicStatistics] 1 subscriber\r\n",
      "\r\n"
     ]
    }
   ],
   "source": [
    "!rostopic list -v"
   ]
  },
  {
   "cell_type": "markdown",
   "metadata": {},
   "source": [
    "## ROS Messages\n",
    "Communication on topics happens by sending ROS messages between nodes. For the publisher (turtle_teleop_key) and subscriber (turtlesim_node) to communicate, the publisher and subscriber must send and receive the same **type** of message. This means that a topic **type** is defined by the message **type** published on it. The **type** of the message sent on a topic can be determined using rostopic **type**.\n",
    "\n",
    "### Using rostopic **type**\n",
    "rostopic **type** returns the message **type** of any topic being published.\n",
    "\n",
    "Usage:\n",
    "```\n",
    "rostopic type [topic]\n",
    "```"
   ]
  },
  {
   "cell_type": "code",
   "execution_count": 7,
   "metadata": {},
   "outputs": [
    {
     "name": "stdout",
     "output_type": "stream",
     "text": [
      "geometry_msgs/Twist\r\n"
     ]
    }
   ],
   "source": [
    "!rostopic type /turtle1/cmd_vel"
   ]
  },
  {
   "cell_type": "markdown",
   "metadata": {},
   "source": [
    "We can look at the details of the message using rosmsg:"
   ]
  },
  {
   "cell_type": "code",
   "execution_count": 8,
   "metadata": {},
   "outputs": [
    {
     "name": "stdout",
     "output_type": "stream",
     "text": [
      "geometry_msgs/Vector3 linear\r\n",
      "  float64 x\r\n",
      "  float64 y\r\n",
      "  float64 z\r\n",
      "geometry_msgs/Vector3 angular\r\n",
      "  float64 x\r\n",
      "  float64 y\r\n",
      "  float64 z\r\n",
      "\r\n"
     ]
    }
   ],
   "source": [
    "!rosmsg show geometry_msgs/Twist"
   ]
  },
  {
   "cell_type": "markdown",
   "metadata": {},
   "source": [
    "## rostopic continued\n",
    "Now that we have learned about ROS messages, let's use rostopic with messages.\n",
    "\n",
    "### Using rostopic pub\n",
    "rostopic pub publishes data on to a topic currently advertised.\n",
    "\n",
    "Usage:\n",
    "```\n",
    "rostopic pub [topic] [msg_type] [args]\n",
    "```"
   ]
  },
  {
   "cell_type": "code",
   "execution_count": 9,
   "metadata": {},
   "outputs": [
    {
     "name": "stdout",
     "output_type": "stream",
     "text": [
      "publishing and latching message for 3.0 seconds\r\n"
     ]
    }
   ],
   "source": [
    "!rostopic pub -1 /turtle1/cmd_vel geometry_msgs/Twist -- '[2.0, 0.0, 0.0]' '[0.0, 0.0, 1.8]'"
   ]
  },
  {
   "cell_type": "code",
   "execution_count": 17,
   "metadata": {},
   "outputs": [
    {
     "name": "stdout",
     "output_type": "stream",
     "text": [
      "^C\r\n"
     ]
    }
   ],
   "source": [
    "!rostopic pub /turtle1/cmd_vel geometry_msgs/Twist -r 1 -- '[2.0, 0.0, 0.0]' '[0.0, 0.0, -1.8]'"
   ]
  },
  {
   "cell_type": "markdown",
   "metadata": {},
   "source": [
    "We can also look at what is happening in rqt_graph. Press the refresh button in the upper-left. The rostopic pub node (here in red) is communicating with the rostopic echo node (here in green):\n",
    "\n",
    "<img src='http://wiki.ros.org/ROS/Tutorials/UnderstandingTopics?action=AttachFile&do=get&target=rqt_graph_pub.png'>"
   ]
  },
  {
   "cell_type": "markdown",
   "metadata": {},
   "source": [
    "### Using rostopic hz\n",
    "rostopic hz reports the rate at which data is published.\n",
    "\n",
    "Usage:\n",
    "```\n",
    "rostopic hz [topic]\n",
    "```\n",
    "\n",
    "Let's see how fast the turtlesim_node is publishing /turtle1/pose:\n",
    "\n"
   ]
  },
  {
   "cell_type": "code",
   "execution_count": 14,
   "metadata": {},
   "outputs": [
    {
     "name": "stdout",
     "output_type": "stream",
     "text": [
      "subscribed to [/turtle1/pose]\n",
      "average rate: 62.486\n",
      "\tmin: 0.015s max: 0.017s std dev: 0.00040s window: 60\n",
      "average rate: 62.503\n",
      "\tmin: 0.015s max: 0.017s std dev: 0.00045s window: 123\n",
      "average rate: 62.509\n",
      "\tmin: 0.015s max: 0.017s std dev: 0.00047s window: 186\n",
      "average rate: 62.501\n",
      "\tmin: 0.015s max: 0.017s std dev: 0.00048s window: 248\n",
      "average rate: 62.494\n",
      "\tmin: 0.015s max: 0.018s std dev: 0.00048s window: 311\n",
      "average rate: 62.503\n",
      "\tmin: 0.014s max: 0.018s std dev: 0.00050s window: 373\n",
      "average rate: 62.499\n",
      "\tmin: 0.014s max: 0.018s std dev: 0.00049s window: 436\n",
      "average rate: 62.496\n",
      "\tmin: 0.014s max: 0.018s std dev: 0.00048s window: 499\n",
      "average rate: 62.502\n",
      "\tmin: 0.014s max: 0.018s std dev: 0.00048s window: 561\n",
      "average rate: 62.499\n",
      "\tmin: 0.014s max: 0.018s std dev: 0.00048s window: 624\n",
      "average rate: 62.498\n",
      "\tmin: 0.014s max: 0.018s std dev: 0.00047s window: 686\n",
      "average rate: 62.502\n",
      "\tmin: 0.014s max: 0.018s std dev: 0.00047s window: 749\n",
      "average rate: 62.501\n",
      "\tmin: 0.014s max: 0.018s std dev: 0.00047s window: 812\n",
      "average rate: 62.498\n",
      "\tmin: 0.014s max: 0.018s std dev: 0.00047s window: 874\n",
      "^C\n",
      "average rate: 62.498\n",
      "\tmin: 0.014s max: 0.018s std dev: 0.00048s window: 915\n"
     ]
    }
   ],
   "source": [
    "!rostopic hz /turtle1/pose"
   ]
  },
  {
   "cell_type": "markdown",
   "metadata": {},
   "source": [
    " use rostopic type in conjunction with rosmsg "
   ]
  },
  {
   "cell_type": "code",
   "execution_count": 15,
   "metadata": {},
   "outputs": [
    {
     "name": "stdout",
     "output_type": "stream",
     "text": [
      "geometry_msgs/Vector3 linear\r\n",
      "  float64 x\r\n",
      "  float64 y\r\n",
      "  float64 z\r\n",
      "geometry_msgs/Vector3 angular\r\n",
      "  float64 x\r\n",
      "  float64 y\r\n",
      "  float64 z\r\n",
      "\r\n"
     ]
    }
   ],
   "source": [
    "!rostopic type /turtle1/cmd_vel | rosmsg show"
   ]
  },
  {
   "cell_type": "markdown",
   "metadata": {},
   "source": [
    "## Using rqt_plot\n",
    "Note: If you're using electric or earlier, rqt is not available. Use rxplot instead.\n",
    "\n",
    "rqt_plot displays a scrolling time plot of the data published on topics. Here we'll use rqt_plot to plot the data being published on the /turtle1/pose topic. First:  \n",
    "\n",
    "open a new terminal window, run a ROS Docker container with:\n",
    "```\n",
    "docker run -it --rm \\\n",
    "\t--net=host \\\n",
    "\t-v /tmp/.X11-unix:/tmp/.X11-unix \\\n",
    "\t-e DISPLAY=unix$DISPLAY \\\n",
    "\t--cap-add=SYS_ADMIN \\\n",
    "\t--device /dev/snd \\\n",
    "\t--device /dev/dri \\\n",
    "\t-v /dev/shm:/dev/shm \\\n",
    "\t-p 11311:11311 \\\n",
    "\twei1234c/ros_ubuntu_amd64\n",
    "```\n",
    "\n",
    "start rqt_plot by typing:\n",
    "```\n",
    "$ rosrun rqt_plot rqt_plot\n",
    "```\n",
    "\n",
    "in a new terminal. In the new window that should pop up, a text box in the upper left corner gives you the ability to add any topic to the plot.   \n",
    "\n",
    "Typing **/turtle1/pose/x** will highlight the plus button, previously disabled.  \n",
    "\n",
    "Press it and repeat the same procedure with the topic **/turtle1/pose/y**. You will now see the turtle's x-y location plotted in the graph.\n",
    "\n",
    "<img src='http://wiki.ros.org/ROS/Tutorials/UnderstandingTopics?action=AttachFile&do=get&target=rqt_plot.png'>"
   ]
  },
  {
   "cell_type": "markdown",
   "metadata": {},
   "source": [
    "Pressing the minus button shows a menu that allows you to hide the specified topic from the plot. Hiding both the topics you just added and adding **/turtle1/pose/theta** will result in the plot shown in the next figure.\n",
    "\n",
    "<img src='http://wiki.ros.org/ROS/Tutorials/UnderstandingTopics?action=AttachFile&do=get&target=rqt_plot2.png'>"
   ]
  },
  {
   "cell_type": "markdown",
   "metadata": {},
   "source": [
    "## Video Tutorial\n",
    "https://www.youtube.com/watch?v=Yx_vGAt74sk"
   ]
  }
 ],
 "metadata": {
  "kernelspec": {
   "display_name": "Python 3",
   "language": "python",
   "name": "python3"
  },
  "language_info": {
   "codemirror_mode": {
    "name": "ipython",
    "version": 3
   },
   "file_extension": ".py",
   "mimetype": "text/x-python",
   "name": "python",
   "nbconvert_exporter": "python",
   "pygments_lexer": "ipython3",
   "version": "3.6.4"
  }
 },
 "nbformat": 4,
 "nbformat_minor": 2
}
