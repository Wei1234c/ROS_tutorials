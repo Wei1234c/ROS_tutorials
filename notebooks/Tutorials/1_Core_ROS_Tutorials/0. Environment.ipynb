{
 "cells": [
  {
   "cell_type": "markdown",
   "metadata": {},
   "source": [
    "# 2. Navigating the ROS Filesystem\n",
    "http://wiki.ros.org/ROS/Tutorials/NavigatingTheFilesystem"
   ]
  },
  {
   "cell_type": "code",
   "execution_count": 17,
   "metadata": {},
   "outputs": [
    {
     "data": {
      "text/plain": [
       "{'ROSLISP_PACKAGE_DIRECTORIES': '',\n",
       " 'ROS_DISTRO': 'kinetic',\n",
       " 'ROS_ETC_DIR': '/opt/ros/kinetic/etc/ros',\n",
       " 'ROS_MASTER_URI': 'http://localhost:11311',\n",
       " 'ROS_PACKAGE_PATH': '/opt/ros/kinetic/share',\n",
       " 'ROS_ROOT': '/opt/ros/kinetic/share/ros'}"
      ]
     },
     "execution_count": 17,
     "metadata": {},
     "output_type": "execute_result"
    }
   ],
   "source": [
    "# get ROS related environment variables\n",
    "\n",
    "envs = !printenv | grep ROS \n",
    "ROS_ENVs = {}\n",
    "\n",
    "for env in envs:\n",
    "    env = env.split('=')\n",
    "    [k, v] = env\n",
    "    ROS_ENVs[k] = v\n",
    "\n",
    "\n",
    "ROS_ENVs['LD_LIBRARY_PATH'] = '/opt/ros/kinetic/lib'\n",
    "ROS_ENVs['PKG_CONFIG_PATH'] = '/opt/ros/kinetic/lib/pkgconfig'\n",
    "ROS_ENVs['CMAKE_PREFIX_PATH'] ='/opt/ros/kinetic'\n",
    "    \n",
    "ROS_ENVs"
   ]
  },
  {
   "cell_type": "code",
   "execution_count": 18,
   "metadata": {},
   "outputs": [
    {
     "data": {
      "text/plain": [
       "'/opt/ros/kinetic/share/ros'"
      ]
     },
     "execution_count": 18,
     "metadata": {},
     "output_type": "execute_result"
    }
   ],
   "source": [
    "ROS_ENVs['ROS_ROOT']"
   ]
  },
  {
   "cell_type": "markdown",
   "metadata": {},
   "source": [
    "test \n",
    "edit from within Docker container"
   ]
  },
  {
   "cell_type": "code",
   "execution_count": 3,
   "metadata": {},
   "outputs": [
    {
     "name": "stdout",
     "output_type": "stream",
     "text": [
      "/bin/sh: 1: {rosls}: not found\r\n"
     ]
    }
   ],
   "source": [
    "!rosls rospy"
   ]
  },
  {
   "cell_type": "code",
   "execution_count": 2,
   "metadata": {},
   "outputs": [
    {
     "name": "stdout",
     "output_type": "stream",
     "text": [
      "pi\r\n"
     ]
    }
   ],
   "source": [
    "!whoami"
   ]
  },
  {
   "cell_type": "code",
   "execution_count": 3,
   "metadata": {},
   "outputs": [
    {
     "name": "stdout",
     "output_type": "stream",
     "text": [
      "/home/pi/notebooks/Tutorials\r\n"
     ]
    }
   ],
   "source": [
    "!pwd"
   ]
  },
  {
   "cell_type": "code",
   "execution_count": 2,
   "metadata": {},
   "outputs": [],
   "source": [
    "!cd"
   ]
  },
  {
   "cell_type": "code",
   "execution_count": 4,
   "metadata": {},
   "outputs": [
    {
     "name": "stdout",
     "output_type": "stream",
     "text": [
      "/home/pi/anaconda3/bin:/opt/ros/kinetic/bin:/home/pi/anaconda3/bin:/usr/local/sbin:/usr/local/bin:/usr/sbin:/usr/bin:/sbin:/bin\r\n"
     ]
    }
   ],
   "source": [
    "!echo $PATH"
   ]
  },
  {
   "cell_type": "code",
   "execution_count": 5,
   "metadata": {},
   "outputs": [
    {
     "name": "stdout",
     "output_type": "stream",
     "text": [
      "LICENSE.txt\t etc\t  phrasebooks  translations\r\n",
      "bin\t\t include  pkgs\t       var\r\n",
      "compiler_compat  lib\t  plugins      x86_64-conda_cos6-linux-gnu\r\n",
      "conda-meta\t libexec  qml\r\n",
      "doc\t\t man\t  share\r\n",
      "envs\t\t mkspecs  ssl\r\n"
     ]
    }
   ],
   "source": [
    "!ls /home/pi/anaconda3"
   ]
  },
  {
   "cell_type": "code",
   "execution_count": 6,
   "metadata": {},
   "outputs": [
    {
     "name": "stdout",
     "output_type": "stream",
     "text": [
      "binvox2bt\t\t\topencv_waldboost_detector  rosstack\r\n",
      "bt2vrml\t\t\t\trosbag\t\t\t   rostest\r\n",
      "catkin_find\t\t\trosboost-cfg\t\t   rostopic\r\n",
      "catkin_init_workspace\t\trosclean\t\t   rosunit\r\n",
      "catkin_make\t\t\trosconsole\t\t   roswtf\r\n",
      "catkin_make_isolated\t\troscore\t\t\t   rqt\r\n",
      "catkin_package_version\t\troscreate-pkg\t\t   rqt_bag\r\n",
      "catkin_prepare_release\t\trosgraph\t\t   rqt_console\r\n",
      "catkin_test_results\t\troslaunch\t\t   rqt_dep\r\n",
      "catkin_topological_order\troslaunch-complete\t   rqt_graph\r\n",
      "compare_octrees\t\t\troslaunch-deps\t\t   rqt_image_view\r\n",
      "convert_octree\t\t\troslaunch-logs\t\t   rqt_logger_level\r\n",
      "edit_octree\t\t\trosmake\t\t\t   rqt_plot\r\n",
      "eval_octree_accuracy\t\trosmaster\t\t   rqt_shell\r\n",
      "graph2tree\t\t\trosmsg\t\t\t   run_selftest\r\n",
      "log2graph\t\t\trosmsg-proto\t\t   rviz\r\n",
      "opencv_annotation\t\trosnode\t\t\t   selftest_example\r\n",
      "opencv_createsamples\t\trospack\t\t\t   selftest_rostest\r\n",
      "opencv_interactive-calibration\trosparam\t\t   stage\r\n",
      "opencv_traincascade\t\trosrun\t\t\t   tf_remap\r\n",
      "opencv_version\t\t\trosservice\t\t   view_frames\r\n",
      "opencv_visualisation\t\trossrv\t\t\t   xacro\r\n"
     ]
    }
   ],
   "source": [
    "!ls /opt/ros/kinetic/bin"
   ]
  },
  {
   "cell_type": "code",
   "execution_count": null,
   "metadata": {},
   "outputs": [],
   "source": []
  }
 ],
 "metadata": {
  "kernelspec": {
   "display_name": "Python 3",
   "language": "python",
   "name": "python3"
  },
  "language_info": {
   "codemirror_mode": {
    "name": "ipython",
    "version": 3
   },
   "file_extension": ".py",
   "mimetype": "text/x-python",
   "name": "python",
   "nbconvert_exporter": "python",
   "pygments_lexer": "ipython3",
   "version": "3.6.4"
  }
 },
 "nbformat": 4,
 "nbformat_minor": 2
}
