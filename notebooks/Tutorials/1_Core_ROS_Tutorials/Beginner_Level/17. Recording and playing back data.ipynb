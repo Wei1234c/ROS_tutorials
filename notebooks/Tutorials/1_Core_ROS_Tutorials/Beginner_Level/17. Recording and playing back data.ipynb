{
 "cells": [
  {
   "cell_type": "markdown",
   "metadata": {},
   "source": [
    "# 17. Recording and playing back data\n",
    "http://wiki.ros.org/ROS/Tutorials/Recording%20and%20playing%20back%20data"
   ]
  },
  {
   "cell_type": "markdown",
   "metadata": {},
   "source": [
    "## setup environment"
   ]
  },
  {
   "cell_type": "code",
   "execution_count": 1,
   "metadata": {},
   "outputs": [
    {
     "data": {
      "text/plain": [
       "'/home/pi/notebooks/Tutorials/1_Core_ROS_Tutorials/Beginner_Level'"
      ]
     },
     "execution_count": 1,
     "metadata": {},
     "output_type": "execute_result"
    }
   ],
   "source": [
    "import os\n",
    "import sys \n",
    "\n",
    "home_dir = os.getcwd()\n",
    "home_dir"
   ]
  },
  {
   "cell_type": "code",
   "execution_count": 2,
   "metadata": {},
   "outputs": [],
   "source": [
    "# get ROS related environment variables\n",
    "envs = !printenv | grep ROS \n",
    "ROS_ENVs = {}\n",
    "\n",
    "for env in envs:\n",
    "    env = env.split('=')\n",
    "    [k, v] = env\n",
    "    ROS_ENVs[k] = v\n",
    "\n",
    "ROS_ENVs['LD_LIBRARY_PATH'] = '/opt/ros/kinetic/lib'\n",
    "ROS_ENVs['PKG_CONFIG_PATH'] = '/opt/ros/kinetic/lib/pkgconfig'\n",
    "ROS_ENVs['CMAKE_PREFIX_PATH'] = '/opt/ros/kinetic'  \n",
    "del ROS_ENVs['PWD']"
   ]
  },
  {
   "cell_type": "code",
   "execution_count": 3,
   "metadata": {},
   "outputs": [],
   "source": [
    "# define workspace path\n",
    "ws_dir = 'catkin_ws'\n",
    "ws_dir_abs = os.path.join(home_dir, ws_dir)\n",
    "src_dir_abs = os.path.join(ws_dir_abs, 'src') \n",
    "\n",
    "# append environment paths\n",
    "def gen_paths(ws_dir_abs, src_dir_abs):\n",
    "    paths = {}\n",
    "    paths['ROS_PACKAGE_PATH'] = src_dir_abs\n",
    "    paths['LD_LIBRARY_PATH'] = os.path.join(ws_dir_abs + 'devel/lib')\n",
    "    paths['ROSLISP_PACKAGE_DIRECTORIES'] = os.path.join(ws_dir_abs + 'devel/share/common-lisp')\n",
    "    paths['PKG_CONFIG_PATH'] = os.path.join(ws_dir_abs + 'devel/lib/pkgconfig')\n",
    "    paths['CMAKE_PREFIX_PATH'] = os.path.join(ws_dir_abs + 'devel/lib')\n",
    "    paths['LD_LIBRARY_PATH'] = os.path.join(ws_dir_abs + 'devel')\n",
    "    return paths\n",
    "\n",
    "def append_paths(ROS_ENVs, paths): \n",
    "    for path in ROS_ENVs.keys():\n",
    "        os.environ[path] = ROS_ENVs[path]\n",
    "        if path in paths.keys():\n",
    "            os.environ[path] = '{}:{}'.format(paths[path], os.environ[path])\n",
    "\n",
    "append_paths(ROS_ENVs, \n",
    "             gen_paths(ws_dir_abs, src_dir_abs))"
   ]
  },
  {
   "cell_type": "code",
   "execution_count": 5,
   "metadata": {},
   "outputs": [
    {
     "data": {
      "text/plain": [
       "'/home/pi/notebooks/Tutorials/1_Core_ROS_Tutorials/Beginner_Level/catkin_ws/src/beginner_tutorials'"
      ]
     },
     "execution_count": 5,
     "metadata": {},
     "output_type": "execute_result"
    }
   ],
   "source": [
    "# define package name and path\n",
    "package_name = 'beginner_tutorials'\n",
    "\n",
    "package_dir_abs = !rospack find {package_name}\n",
    "package_dir_abs = package_dir_abs[0]\n",
    "package_dir_abs"
   ]
  },
  {
   "cell_type": "markdown",
   "metadata": {},
   "source": [
    "## Running the roscore\n",
    "Make sure that a roscore is up and running:\n",
    "### roscore\n",
    "Let's start by making sure that we have roscore running:  \n",
    "\n",
    "open a new terminal window, run a ROS Docker container with:\n",
    "```\n",
    "docker run -it --rm \\\n",
    "\t--net=host \\\n",
    "\t-v /tmp/.X11-unix:/tmp/.X11-unix \\\n",
    "\t-e DISPLAY=unix$DISPLAY \\\n",
    "\t--cap-add=SYS_ADMIN \\\n",
    "\t--device /dev/snd \\\n",
    "\t--device /dev/dri \\\n",
    "\t-v /dev/shm:/dev/shm \\\n",
    "\t-p 11311:11311 \\\n",
    "\twei1234c/ros_ubuntu_amd64\n",
    "```\n",
    "\n",
    "in the container, run roscore:\n",
    "```\n",
    "$ roscore\n",
    "```"
   ]
  },
  {
   "cell_type": "markdown",
   "metadata": {},
   "source": [
    "### turtlesim\n",
    "For this tutorial we will also use turtlesim.  \n",
    "open a new terminal window, run a ROS Docker container with:\n",
    "```\n",
    "docker run -it --rm \\\n",
    "\t--net=host \\\n",
    "\t-v /tmp/.X11-unix:/tmp/.X11-unix \\\n",
    "\t-e DISPLAY=unix$DISPLAY \\\n",
    "\t--cap-add=SYS_ADMIN \\\n",
    "\t--device /dev/snd \\\n",
    "\t--device /dev/dri \\\n",
    "\t-v /dev/shm:/dev/shm \\\n",
    "\t-p 11311:11311 \\\n",
    "\twei1234c/ros_ubuntu_amd64\n",
    "```\n",
    "\n",
    "in the container, run:\n",
    "```\n",
    "$ rosrun turtlesim turtlesim_node\n",
    "```"
   ]
  },
  {
   "cell_type": "markdown",
   "metadata": {},
   "source": [
    "### turtle keyboard teleoperation\n",
    "We'll also need something to drive the turtle around with.  \n",
    "\n",
    "open a new terminal window, run a ROS Docker container with:\n",
    "```\n",
    "docker run -it --rm \\\n",
    "\t--net=host \\\n",
    "\t-v /tmp/.X11-unix:/tmp/.X11-unix \\\n",
    "\t-e DISPLAY=unix$DISPLAY \\\n",
    "\t--cap-add=SYS_ADMIN \\\n",
    "\t--device /dev/snd \\\n",
    "\t--device /dev/dri \\\n",
    "\t-v /dev/shm:/dev/shm \\\n",
    "\t-p 11311:11311 \\\n",
    "\twei1234c/ros_ubuntu_amd64\n",
    "```\n",
    "\n",
    "in the container, run:\n",
    "```\n",
    "$ rosrun turtlesim turtle_teleop_key\n",
    "```\n",
    "\n",
    "Now you can use the arrow keys of the keyboard to drive the turtle around. If you can not drive the turtle, **select the terminal window of the turtle_teleop_key** to make sure that the keys that you type are recorded."
   ]
  },
  {
   "cell_type": "markdown",
   "metadata": {},
   "source": [
    "### Recording all published topics\n",
    "First lets examine the full list of topics that are currently being published in the running system. To do this, open a new terminal and execute the command: "
   ]
  },
  {
   "cell_type": "code",
   "execution_count": 6,
   "metadata": {},
   "outputs": [
    {
     "name": "stdout",
     "output_type": "stream",
     "text": [
      "\r\n",
      "Published topics:\r\n",
      " * /turtle1/color_sensor [turtlesim/Color] 1 publisher\r\n",
      " * /turtle1/cmd_vel [geometry_msgs/Twist] 1 publisher\r\n",
      " * /rosout [rosgraph_msgs/Log] 3 publishers\r\n",
      " * /rosout_agg [rosgraph_msgs/Log] 1 publisher\r\n",
      " * /turtle1/pose [turtlesim/Pose] 1 publisher\r\n",
      "\r\n",
      "Subscribed topics:\r\n",
      " * /chatter [std_msgs/String] 1 subscriber\r\n",
      " * /turtle1/cmd_vel [geometry_msgs/Twist] 1 subscriber\r\n",
      " * /rosout [rosgraph_msgs/Log] 1 subscriber\r\n",
      "\r\n"
     ]
    }
   ],
   "source": [
    "!rostopic list -v"
   ]
  },
  {
   "cell_type": "markdown",
   "metadata": {},
   "source": [
    "The list of published topics are the only message types that could potentially be recorded in the data log file, as only published messages are recorded.  \n",
    "\n",
    "- The topic /turtle1/cmd_vel is the command message published by teleop_turtle that is taken as input by the turtlesim process.   \n",
    "- The messages /turtle1/color_sensor and /turtle1/pose are output messages published by turtlesim.\n",
    "\n",
    "We now will record the published data. Open a new terminal window. In this window run the following commands:"
   ]
  },
  {
   "cell_type": "code",
   "execution_count": 7,
   "metadata": {},
   "outputs": [
    {
     "name": "stdout",
     "output_type": "stream",
     "text": [
      "/home/pi/notebooks/Tutorials/1_Core_ROS_Tutorials/Beginner_Level/catkin_ws\n"
     ]
    }
   ],
   "source": [
    "cd {ws_dir_abs}"
   ]
  },
  {
   "cell_type": "code",
   "execution_count": 8,
   "metadata": {},
   "outputs": [],
   "source": [
    "mkdir -p bagfiles"
   ]
  },
  {
   "cell_type": "code",
   "execution_count": 9,
   "metadata": {},
   "outputs": [
    {
     "name": "stdout",
     "output_type": "stream",
     "text": [
      "/home/pi/notebooks/Tutorials/1_Core_ROS_Tutorials/Beginner_Level/catkin_ws/bagfiles\n"
     ]
    }
   ],
   "source": [
    "cd bagfiles"
   ]
  },
  {
   "cell_type": "code",
   "execution_count": 131,
   "metadata": {
    "scrolled": false
   },
   "outputs": [],
   "source": [
    "# !rosbag record -h"
   ]
  },
  {
   "cell_type": "code",
   "execution_count": 149,
   "metadata": {
    "scrolled": true
   },
   "outputs": [],
   "source": [
    "# !rostopic list"
   ]
  },
  {
   "cell_type": "code",
   "execution_count": 182,
   "metadata": {},
   "outputs": [
    {
     "name": "stdout",
     "output_type": "stream",
     "text": [
      "\u001b[33m[ WARN] [1520755004.902393157]: --max-splits is ignored without --split\u001b[0m\n",
      "\u001b[0m[ INFO] [1520755004.918800527]: Subscribing to /turtle1/color_sensor\u001b[0m\n",
      "\u001b[0m[ INFO] [1520755004.923339557]: Recording to all.bag.\u001b[0m\n",
      "\u001b[0m[ INFO] [1520755004.948686652]: Subscribing to /turtle1/cmd_vel\u001b[0m\n",
      "\u001b[0m[ INFO] [1520755004.961068590]: Subscribing to /turtle1/pose\u001b[0m\n",
      "^C\n"
     ]
    }
   ],
   "source": [
    "!rosbag record -O all -e \"/turtle1/([A-Za-z0-9_/])+\"\n",
    "# !rosbag record -O subset /turtle1/pose"
   ]
  },
  {
   "cell_type": "markdown",
   "metadata": {},
   "source": [
    "Here we are just making a temporary directory to record data and then running rosbag record with the **option -a**, indicating that ***all*** published topics should be accumulated in a bag file.\n",
    "\n",
    "Move back to the terminal window with turtle_teleop and move the turtle around for 10 or so seconds.\n",
    "\n",
    "In the window running rosbag record exit with a Ctrl-C. Now examine the contents of the directory ~/bagfiles. You should see a file with a name that begins with the year, date, and time and the suffix .bag. This is the bag file that contains all topics published by any node in the time that rosbag record was running.\n",
    "\n",
    "## Examining and playing the bag file\n",
    "Now that we've recorded a bag file using rosbag record we can examine it and play it back using the commands rosbag info and rosbag play. First we are going to see what's recorded in the bag file. We can do the info command -- this command checks the contents of the bag file without playing it back. Execute the following command from the bagfiles directory:"
   ]
  },
  {
   "cell_type": "code",
   "execution_count": 183,
   "metadata": {},
   "outputs": [
    {
     "data": {
      "text/plain": [
       "'all.bag.active'"
      ]
     },
     "execution_count": 183,
     "metadata": {},
     "output_type": "execute_result"
    }
   ],
   "source": [
    "bag_file = sorted(os.listdir())[-1]\n",
    "bag_file"
   ]
  },
  {
   "cell_type": "code",
   "execution_count": 184,
   "metadata": {},
   "outputs": [
    {
     "name": "stdout",
     "output_type": "stream",
     "text": [
      "\r",
      " all.bag.active                                0%   0.0 KB / 345.8 KB --:-- ETA\r",
      " all.bag.active                              100%            345.8 KB 00:00    \r\n"
     ]
    }
   ],
   "source": [
    "!rosbag reindex {bag_file}"
   ]
  },
  {
   "cell_type": "code",
   "execution_count": 185,
   "metadata": {},
   "outputs": [
    {
     "name": "stdout",
     "output_type": "stream",
     "text": [
      "Bag migrated successfully.\r\n"
     ]
    }
   ],
   "source": [
    "!rosbag fix {bag_file} output.bag"
   ]
  },
  {
   "cell_type": "code",
   "execution_count": 186,
   "metadata": {},
   "outputs": [
    {
     "name": "stdout",
     "output_type": "stream",
     "text": [
      "path:        all.bag.active\r\n",
      "version:     2.0\r\n",
      "duration:    0.0s\r\n",
      "start:       Jan 01 1970 00:00:00.00 (0.00)\r\n",
      "end:         Jan 01 1970 00:00:00.00 (0.00)\r\n",
      "size:        345.8 KB\r\n",
      "messages:    0\r\n",
      "compression: none\r\n",
      "types:       turtlesim/Color [353891e354491c51aabe32df673fb446]\r\n",
      "topics:      /turtle1/color_sensor   0 msg     : turtlesim/Color\r\n"
     ]
    }
   ],
   "source": [
    "!rosbag info {bag_file}\n",
    "# !rosbag info output.bag"
   ]
  },
  {
   "cell_type": "markdown",
   "metadata": {},
   "source": [
    "This tells us topic names and types as well as the number (count) of each message topic contained in the bag file. We can see that of the topics being advertised that we saw in the rostopic output, four of the five were actually published over our recording interval. As we ran rosbag record with the -a flag it recorded all messages published by all nodes.\n",
    "\n",
    "###  replay the bag file\n",
    "The next step in this tutorial is to replay the bag file to reproduce behavior in the running system. First kill the teleop program that may be still running from the previous section - a Ctrl-C in the terminal where you started turtle_teleop_key. Leave turtlesim running. In a terminal window run the following command in the directory where you took the original bag file:"
   ]
  },
  {
   "cell_type": "code",
   "execution_count": 158,
   "metadata": {},
   "outputs": [
    {
     "name": "stdout",
     "output_type": "stream",
     "text": [
      "\u001b[0m[ INFO] [1520754594.811119835]: Opening subset.bag.active\u001b[0m\n",
      "\n",
      "Waiting 0.2 seconds after advertising topics... done.\n",
      "\n",
      "Hit space to toggle paused, or 's' to step.\n",
      " [RUNNING]  Bag Time: 1520754191.452186   Duration: 83.424250 / 217.887162                \r"
     ]
    }
   ],
   "source": [
    "!rosbag play {bag_file}"
   ]
  },
  {
   "cell_type": "markdown",
   "metadata": {},
   "source": [
    "In its default mode rosbag play will wait for a certain period (.2 seconds) after advertising each message before it actually begins publishing the contents of the bag file. Waiting for some duration allows any subscriber of a message to be alerted that the message has been advertised and that messages may follow. If rosbag play publishes messages immediately upon advertising, subscribers may not receive the first several published messages. The waiting period can be specified with the -d option.\n",
    "\n",
    "Eventually the topic /turtle1/cmd_vel will be published and the turtle should start moving in turtlesim in a pattern similar to the one you executed from the teleop program. The duration between running rosbag play and the turtle moving should be approximately equal to the time between the original rosbag record execution and issuing the commands from the keyboard in the beginning part of the tutorial. You can have rosbag play not start at the beginning of the bag file but instead start some duration past the beginning using the -s argument. A final option that may be of interest is the -r option, which allows you to change the rate of publishing by a specified factor. If you execute:"
   ]
  },
  {
   "cell_type": "code",
   "execution_count": 45,
   "metadata": {},
   "outputs": [
    {
     "name": "stdout",
     "output_type": "stream",
     "text": [
      "\u001b[0m[ INFO] [1520738173.154729517]: Opening 2018-03-11-03-15-11.bag.active\u001b[0m\r\n",
      "\r\n",
      "No messages to play on specified topics.  Exiting.\r\n"
     ]
    }
   ],
   "source": [
    "!rosbag play -r 2 {bag_file}"
   ]
  },
  {
   "cell_type": "markdown",
   "metadata": {},
   "source": [
    "You should see the turtle execute a slightly different trajectory - this is the trajectory that would have resulted had you issued your keyboard commands twice as fast."
   ]
  },
  {
   "cell_type": "markdown",
   "metadata": {},
   "source": [
    "## Recording a subset of the data\n",
    "When running a complicated system, such as the pr2 software suite, there may be hundreds of topics being published, with some topics, like camera image streams, potentially publishing huge amounts of data. In such a system it is often impractical to write log files consisting of all topics to disk in a single bag file. The rosbag record command supports logging only particular topics to a bag file, allowing a user to only record the topics of interest to them.\n",
    "\n",
    "If any turtlesim nodes are running exit them and relaunch the keyboard teleop launch file:\n",
    "```\n",
    "rosrun turtlesim turtlesim_node \n",
    "rosrun turtlesim turtle_teleop_key\n",
    "```\n",
    "In your bagfiles directory, run the following command:"
   ]
  },
  {
   "cell_type": "code",
   "execution_count": 46,
   "metadata": {},
   "outputs": [
    {
     "name": "stdout",
     "output_type": "stream",
     "text": [
      "\u001b[33m[ WARN] [1520738249.812323567]: --max-splits is ignored without --split\u001b[0m\n",
      "\u001b[0m[ INFO] [1520738249.820792621]: Subscribing to /turtle1/cmd_vel\u001b[0m\n",
      "\u001b[0m[ INFO] [1520738249.827638489]: Subscribing to /turtle1/pose\u001b[0m\n",
      "\u001b[0m[ INFO] [1520738249.838206803]: Recording to subset.bag.\u001b[0m\n",
      "^C\n"
     ]
    }
   ],
   "source": [
    "!rosbag record -O subset /turtle1/cmd_vel /turtle1/pose"
   ]
  },
  {
   "cell_type": "code",
   "execution_count": 47,
   "metadata": {},
   "outputs": [
    {
     "data": {
      "text/plain": [
       "'subset.bag'"
      ]
     },
     "execution_count": 47,
     "metadata": {},
     "output_type": "execute_result"
    }
   ],
   "source": [
    "bag_file = sorted(os.listdir())[-1]\n",
    "bag_file"
   ]
  },
  {
   "cell_type": "code",
   "execution_count": 48,
   "metadata": {},
   "outputs": [
    {
     "name": "stdout",
     "output_type": "stream",
     "text": [
      " subset.bag                                  100%            155.8 KB 00:00    \n"
     ]
    }
   ],
   "source": [
    "!rosbag reindex {bag_file}"
   ]
  },
  {
   "cell_type": "code",
   "execution_count": 49,
   "metadata": {},
   "outputs": [
    {
     "name": "stdout",
     "output_type": "stream",
     "text": [
      "path:        subset.bag\r\n",
      "version:     2.0\r\n",
      "duration:    28.4s\r\n",
      "start:       Mar 11 2018 03:17:30.06 (1520738250.06)\r\n",
      "end:         Mar 11 2018 03:17:58.45 (1520738278.45)\r\n",
      "size:        157.0 KB\r\n",
      "messages:    1923\r\n",
      "compression: none [1/1 chunks]\r\n",
      "types:       geometry_msgs/Twist [9f195f881246fdfa2798d1d3eebca84a]\r\n",
      "             turtlesim/Pose      [863b248d5016ca62ea2e895ae5265cf9]\r\n",
      "topics:      /turtle1/cmd_vel    148 msgs    : geometry_msgs/Twist\r\n",
      "             /turtle1/pose      1775 msgs    : turtlesim/Pose\r\n"
     ]
    }
   ],
   "source": [
    "!rosbag info {bag_file}"
   ]
  }
 ],
 "metadata": {
  "kernelspec": {
   "display_name": "Python 3",
   "language": "python",
   "name": "python3"
  },
  "language_info": {
   "codemirror_mode": {
    "name": "ipython",
    "version": 3
   },
   "file_extension": ".py",
   "mimetype": "text/x-python",
   "name": "python",
   "nbconvert_exporter": "python",
   "pygments_lexer": "ipython3",
   "version": "3.6.4"
  }
 },
 "nbformat": 4,
 "nbformat_minor": 2
}
