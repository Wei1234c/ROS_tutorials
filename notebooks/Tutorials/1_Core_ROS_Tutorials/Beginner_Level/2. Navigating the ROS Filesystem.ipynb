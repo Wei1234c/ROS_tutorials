{
 "cells": [
  {
   "cell_type": "markdown",
   "metadata": {},
   "source": [
    "# 2. Navigating the ROS Filesystem\n",
    "http://wiki.ros.org/ROS/Tutorials/NavigatingTheFilesystem"
   ]
  },
  {
   "cell_type": "code",
   "execution_count": 17,
   "metadata": {},
   "outputs": [
    {
     "data": {
      "text/plain": [
       "{'ROSLISP_PACKAGE_DIRECTORIES': '',\n",
       " 'ROS_DISTRO': 'kinetic',\n",
       " 'ROS_ETC_DIR': '/opt/ros/kinetic/etc/ros',\n",
       " 'ROS_MASTER_URI': 'http://localhost:11311',\n",
       " 'ROS_PACKAGE_PATH': '/opt/ros/kinetic/share',\n",
       " 'ROS_ROOT': '/opt/ros/kinetic/share/ros'}"
      ]
     },
     "execution_count": 17,
     "metadata": {},
     "output_type": "execute_result"
    }
   ],
   "source": [
    "envs = !printenv | grep ROS \n",
    "ROS_ENVs = {}\n",
    "\n",
    "for env in envs:\n",
    "    env = env.split('=')\n",
    "    [k, v] = env\n",
    "    ROS_ENVs[k] = v\n",
    "\n",
    "ROS_ENVs"
   ]
  },
  {
   "cell_type": "code",
   "execution_count": 18,
   "metadata": {},
   "outputs": [
    {
     "data": {
      "text/plain": [
       "'/opt/ros/kinetic/share/ros'"
      ]
     },
     "execution_count": 18,
     "metadata": {},
     "output_type": "execute_result"
    }
   ],
   "source": [
    "ROS_ENVs['ROS_ROOT']"
   ]
  },
  {
   "cell_type": "markdown",
   "metadata": {},
   "source": [
    "## rospack\n",
    "rospack allows you to get information about packages. In this tutorial, we are only going to cover the find option, which returns the path to package.\n",
    "\n",
    "Usage:\n",
    "```\n",
    "$ rospack find [package_name] \n",
    "\n",
    "```\n",
    "\n",
    "Example:\n",
    "\n",
    "```\n",
    "$ rospack find roscpp\n",
    "```\n",
    "\n",
    "would return:\n",
    "\n",
    "```\n",
    "YOUR_INSTALL_PATH/share/roscpp\n",
    "```\n",
    "\n",
    "If you installed ROS Kinetic from apt on Ubuntu Linux you would see exactly:\n",
    "```\n",
    "/opt/ros/kinetic/share/roscpp\n",
    "```"
   ]
  },
  {
   "cell_type": "markdown",
   "metadata": {},
   "source": [
    "## roscd\n",
    "roscd is part of the rosbash suite. It allows you to change directory (cd) directly to a package or a stack.\n",
    "\n",
    "Usage:\n",
    "```\n",
    "$ roscd [locationname[/subdir]]\n",
    "```\n",
    "To verify that we have changed to the roscpp package directory, run this example:\n",
    "\n",
    "```\n",
    "$ roscd roscpp\n",
    "```\n",
    "Now let's print the working directory using the Unix command pwd:\n",
    "\n",
    "```\n",
    "$ pwd\n",
    "```\n",
    "You should see:\n",
    "\n",
    "```\n",
    "YOUR_INSTALL_PATH/share/roscpp\n",
    "You can see that \n",
    "```\n",
    "YOUR_INSTALL_PATH/share/roscpp\n",
    "```"
   ]
  },
  {
   "cell_type": "markdown",
   "metadata": {},
   "source": [
    "## roscd log\n",
    "roscd log will take you to the folder where ROS stores log files. Note that if you have not run any ROS programs yet, this will yield an error saying that it does not yet exist.\n",
    "\n",
    "If you have run some ROS program before, try:\n",
    "```\n",
    "$ roscd log\n",
    "```"
   ]
  },
  {
   "cell_type": "markdown",
   "metadata": {},
   "source": [
    "## rosls\n",
    "rosls is part of the rosbash suite. It allows you to ls directly in a package by name rather than by absolute path.\n",
    "\n",
    "Usage:\n",
    "```\n",
    "$ rosls [locationname[/subdir]]\n",
    "``` \n",
    "\n",
    "Example:\n",
    "\n",
    "```\n",
    "$ rosls roscpp_tutorials\n",
    "```"
   ]
  },
  {
   "cell_type": "markdown",
   "metadata": {},
   "source": [
    "## Tab Completion\n",
    "It can get tedious to type out an entire package name. In the previous example, roscpp_tutorials is a fairly long name. Luckily, some ROS tools support TAB completion.\n",
    "\n",
    "Start by typing:\n",
    "```\n",
    "$ roscd roscpp_tut<<< now push the TAB key >>>\n",
    "```"
   ]
  },
  {
   "cell_type": "markdown",
   "metadata": {},
   "source": [
    "## Review\n",
    "You may have noticed a pattern with the naming of the ROS tools:\n",
    "\n",
    "- rospack = ros + pack(age)\n",
    "- roscd = ros + cd\n",
    "- rosls = ros + ls"
   ]
  }
 ],
 "metadata": {
  "kernelspec": {
   "display_name": "Python 3",
   "language": "python",
   "name": "python3"
  },
  "language_info": {
   "codemirror_mode": {
    "name": "ipython",
    "version": 3
   },
   "file_extension": ".py",
   "mimetype": "text/x-python",
   "name": "python",
   "nbconvert_exporter": "python",
   "pygments_lexer": "ipython3",
   "version": "3.6.4"
  }
 },
 "nbformat": 4,
 "nbformat_minor": 2
}
