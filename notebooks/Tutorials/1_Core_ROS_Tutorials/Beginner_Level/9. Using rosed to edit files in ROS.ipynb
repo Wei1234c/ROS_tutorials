{
 "cells": [
  {
   "cell_type": "markdown",
   "metadata": {},
   "source": [
    "# 9. Using rosed to edit files in ROS\n",
    "http://wiki.ros.org/ROS/Tutorials/UsingRosEd"
   ]
  },
  {
   "cell_type": "markdown",
   "metadata": {},
   "source": [
    "## rosed\n",
    "rosed is part of the rosbash suite. It allows you to directly edit a file within a package by using the package name rather than having to type the entire path to the package.\n",
    "\n",
    "Usage:\n",
    "```\n",
    "$ rosed [package_name] [filename]\n",
    "```"
   ]
  },
  {
   "cell_type": "markdown",
   "metadata": {},
   "source": [
    "***use other editor instead***"
   ]
  }
 ],
 "metadata": {
  "kernelspec": {
   "display_name": "Python 3",
   "language": "python",
   "name": "python3"
  },
  "language_info": {
   "codemirror_mode": {
    "name": "ipython",
    "version": 3
   },
   "file_extension": ".py",
   "mimetype": "text/x-python",
   "name": "python",
   "nbconvert_exporter": "python",
   "pygments_lexer": "ipython3",
   "version": "3.6.4"
  }
 },
 "nbformat": 4,
 "nbformat_minor": 2
}
